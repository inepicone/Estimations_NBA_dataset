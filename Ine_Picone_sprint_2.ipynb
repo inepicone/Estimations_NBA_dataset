{
  "cells": [
    {
      "cell_type": "markdown",
      "id": "3d08028c-be52-4d84-a995-34b690c3e8a5",
      "metadata": {
        "id": "3d08028c-be52-4d84-a995-34b690c3e8a5"
      },
      "source": [
        "# Making Estimations with our NBA dataset"
      ]
    },
    {
      "cell_type": "markdown",
      "id": "4ff2f3cb-7e1a-4705-bce7-44a56c0113e1",
      "metadata": {
        "id": "4ff2f3cb-7e1a-4705-bce7-44a56c0113e1"
      },
      "source": [
        "Now we are going to explore how to make predictive models for regression and classification tasks using ScikitLearn"
      ]
    },
    {
      "cell_type": "markdown",
      "id": "73bd1212-887d-4b10-a277-30156aaf410b",
      "metadata": {
        "id": "73bd1212-887d-4b10-a277-30156aaf410b",
        "tags": []
      },
      "source": [
        "## Using Regression Models to Estimate players Salaries"
      ]
    },
    {
      "cell_type": "markdown",
      "id": "e51670c9-30ec-4dcf-b3f4-e5ba90019818",
      "metadata": {
        "id": "e51670c9-30ec-4dcf-b3f4-e5ba90019818"
      },
      "source": []
    },
    {
      "cell_type": "markdown",
      "id": "6f110fec-8919-4427-89f7-b3e581176703",
      "metadata": {
        "id": "6f110fec-8919-4427-89f7-b3e581176703"
      },
      "source": [
        "### Analyzing our data"
      ]
    },
    {
      "cell_type": "code",
      "execution_count": 1,
      "id": "bdac389b-e5f8-4563-a187-36b016c0641c",
      "metadata": {
        "id": "bdac389b-e5f8-4563-a187-36b016c0641c"
      },
      "outputs": [],
      "source": [
        "import pandas as pd\n",
        "data = pd.read_csv(\"https://raw.githubusercontent.com/anyoneai/notebooks/main/datasets/project2_players_df.csv\")\n",
        "data.dropna(subset=[\"PTS\"], inplace=True)"
      ]
    },
    {
      "cell_type": "code",
      "execution_count": 2,
      "id": "0eiz87Cre6Ad",
      "metadata": {
        "id": "0eiz87Cre6Ad"
      },
      "outputs": [
        {
          "ename": "ModuleNotFoundError",
          "evalue": "No module named 'pandas_profiling'",
          "output_type": "error",
          "traceback": [
            "\u001b[1;31m---------------------------------------------------------------------------\u001b[0m",
            "\u001b[1;31mModuleNotFoundError\u001b[0m                       Traceback (most recent call last)",
            "\u001b[1;32mc:\\Ine\\AnyoneAI\\Sprint_2\\Estimations_NBA_dataset\\Ine_Picone_sprint_2.ipynb Celda 8\u001b[0m in \u001b[0;36m<cell line: 4>\u001b[1;34m()\u001b[0m\n\u001b[0;32m      <a href='vscode-notebook-cell:/c%3A/Ine/AnyoneAI/Sprint_2/Estimations_NBA_dataset/Ine_Picone_sprint_2.ipynb#X10sZmlsZQ%3D%3D?line=1'>2</a>\u001b[0m \u001b[39mimport\u001b[39;00m \u001b[39mnumpy\u001b[39;00m \u001b[39mas\u001b[39;00m \u001b[39mnp\u001b[39;00m\n\u001b[0;32m      <a href='vscode-notebook-cell:/c%3A/Ine/AnyoneAI/Sprint_2/Estimations_NBA_dataset/Ine_Picone_sprint_2.ipynb#X10sZmlsZQ%3D%3D?line=2'>3</a>\u001b[0m \u001b[39mimport\u001b[39;00m \u001b[39mpandas\u001b[39;00m \u001b[39mas\u001b[39;00m \u001b[39mpd\u001b[39;00m\n\u001b[1;32m----> <a href='vscode-notebook-cell:/c%3A/Ine/AnyoneAI/Sprint_2/Estimations_NBA_dataset/Ine_Picone_sprint_2.ipynb#X10sZmlsZQ%3D%3D?line=3'>4</a>\u001b[0m \u001b[39mimport\u001b[39;00m \u001b[39mpandas_profiling\u001b[39;00m\n\u001b[0;32m      <a href='vscode-notebook-cell:/c%3A/Ine/AnyoneAI/Sprint_2/Estimations_NBA_dataset/Ine_Picone_sprint_2.ipynb#X10sZmlsZQ%3D%3D?line=4'>5</a>\u001b[0m \u001b[39mimport\u001b[39;00m \u001b[39mio\u001b[39;00m\n\u001b[0;32m      <a href='vscode-notebook-cell:/c%3A/Ine/AnyoneAI/Sprint_2/Estimations_NBA_dataset/Ine_Picone_sprint_2.ipynb#X10sZmlsZQ%3D%3D?line=5'>6</a>\u001b[0m \u001b[39mimport\u001b[39;00m \u001b[39mitertools\u001b[39;00m\n",
            "\u001b[1;31mModuleNotFoundError\u001b[0m: No module named 'pandas_profiling'"
          ]
        }
      ],
      "source": [
        "# Basic operation labaries:\n",
        "import numpy as np\n",
        "import pandas as pd\n",
        "import pandas_profiling\n",
        "import io\n",
        "import itertools\n",
        "\n",
        "# Data visualization:\n",
        "import matplotlib as mpl\n",
        "import matplotlib.pyplot as plt\n",
        "import seaborn as sns\n",
        "\n",
        "# Machine learning tools:\n",
        "\n",
        "# machine learning models:\n",
        "from sklearn.linear_model     import LogisticRegression\n",
        "from sklearn.tree             import DecisionTreeRegressor\n",
        "from sklearn.linear_model     import SGDRegressor\n",
        "\n",
        "# splitting data:\n",
        "from sklearn.model_selection  import train_test_split\n",
        "\n",
        "# Features numeric normalization:\n",
        "from sklearn.preprocessing    import StandardScaler, MinMaxScaler\n",
        "\n",
        "# Features categorical normalization:  \n",
        "from sklearn.preprocessing    import OneHotEncoder\n",
        "\n",
        "# model metric evaluation:\n",
        "from sklearn.metrics          import mean_absolute_error\n",
        "from sklearn.metrics          import confusion_matrix\n",
        "from sklearn.metrics          import precision_score\n",
        "from sklearn.metrics          import recall_score\n",
        "from sklearn.metrics          import f1_score\n",
        "from sklearn.metrics          import accuracy_score\n",
        "\n",
        "# tyding up the code (in the future):\n",
        "from sklearn.pipeline         import make_pipeline\n",
        "\n",
        "# visualizing results:\n",
        "from sklearn.metrics          import fbeta_score, make_scorer\n",
        "from mlxtend.plotting         import plot_learning_curves\n",
        "from sklearn.model_selection  import learning_curve\n",
        "\n",
        "# For the future, hyperparameths selector:\n",
        "from sklearn.model_selection  import GridSearchCV\n"
      ]
    },
    {
      "cell_type": "markdown",
      "id": "c3cc6b89-e698-4943-8562-160190b9cbd0",
      "metadata": {
        "id": "c3cc6b89-e698-4943-8562-160190b9cbd0"
      },
      "source": [
        "Let's have another look at our previously generated dataset. "
      ]
    },
    {
      "cell_type": "markdown",
      "id": "e098b76d-c520-474b-9998-a263354fe27b",
      "metadata": {
        "id": "e098b76d-c520-474b-9998-a263354fe27b"
      },
      "source": [
        "1.1. Plot all players statistics (\"PTS\", \"REB\", \"AST\",\"STL\",\"BLK\") against salary"
      ]
    },
    {
      "cell_type": "code",
      "execution_count": null,
      "id": "50d589f1-25c1-48f8-88f3-e2c7f0e72625",
      "metadata": {
        "colab": {
          "base_uri": "https://localhost:8080/",
          "height": 364
        },
        "id": "50d589f1-25c1-48f8-88f3-e2c7f0e72625",
        "outputId": "824f9aa2-eece-4570-bc92-6b8074f3cced"
      },
      "outputs": [
        {
          "data": {
            "text/html": [
              "\n",
              "  <div id=\"df-6e5aff5c-d758-4bd4-96a9-36fcb5cd8877\">\n",
              "    <div class=\"colab-df-container\">\n",
              "      <div>\n",
              "<style scoped>\n",
              "    .dataframe tbody tr th:only-of-type {\n",
              "        vertical-align: middle;\n",
              "    }\n",
              "\n",
              "    .dataframe tbody tr th {\n",
              "        vertical-align: top;\n",
              "    }\n",
              "\n",
              "    .dataframe thead th {\n",
              "        text-align: right;\n",
              "    }\n",
              "</style>\n",
              "<table border=\"1\" class=\"dataframe\">\n",
              "  <thead>\n",
              "    <tr style=\"text-align: right;\">\n",
              "      <th></th>\n",
              "      <th>PERSON_ID</th>\n",
              "      <th>PLAYER_NAME</th>\n",
              "      <th>TEAM_NAME</th>\n",
              "      <th>POSITION</th>\n",
              "      <th>HEIGHT</th>\n",
              "      <th>WEIGHT</th>\n",
              "      <th>COUNTRY</th>\n",
              "      <th>BIRTHDATE</th>\n",
              "      <th>SEASON_EXP</th>\n",
              "      <th>DRAFT_NUMBER</th>\n",
              "      <th>GP</th>\n",
              "      <th>MIN</th>\n",
              "      <th>PTS</th>\n",
              "      <th>REB</th>\n",
              "      <th>AST</th>\n",
              "      <th>STL</th>\n",
              "      <th>BLK</th>\n",
              "      <th>GAME_DATE</th>\n",
              "      <th>Salary</th>\n",
              "      <th>AGE</th>\n",
              "    </tr>\n",
              "  </thead>\n",
              "  <tbody>\n",
              "    <tr>\n",
              "      <th>0</th>\n",
              "      <td>1630173</td>\n",
              "      <td>Precious Achiuwa</td>\n",
              "      <td>Raptors</td>\n",
              "      <td>Forward</td>\n",
              "      <td>203</td>\n",
              "      <td>102</td>\n",
              "      <td>Nigeria</td>\n",
              "      <td>1999-09-19</td>\n",
              "      <td>1</td>\n",
              "      <td>20</td>\n",
              "      <td>115.0</td>\n",
              "      <td>17.3</td>\n",
              "      <td>6.5</td>\n",
              "      <td>5.1</td>\n",
              "      <td>0.8</td>\n",
              "      <td>0.4</td>\n",
              "      <td>0.5</td>\n",
              "      <td>2022-03-06</td>\n",
              "      <td>2711280</td>\n",
              "      <td>22 years, 5 months, 25 days</td>\n",
              "    </tr>\n",
              "    <tr>\n",
              "      <th>1</th>\n",
              "      <td>203500</td>\n",
              "      <td>Steven Adams</td>\n",
              "      <td>Grizzlies</td>\n",
              "      <td>Center</td>\n",
              "      <td>211</td>\n",
              "      <td>120</td>\n",
              "      <td>New Zealand</td>\n",
              "      <td>1993-07-20</td>\n",
              "      <td>8</td>\n",
              "      <td>12</td>\n",
              "      <td>648.0</td>\n",
              "      <td>26.8</td>\n",
              "      <td>9.3</td>\n",
              "      <td>7.9</td>\n",
              "      <td>1.4</td>\n",
              "      <td>0.9</td>\n",
              "      <td>0.9</td>\n",
              "      <td>2022-03-06</td>\n",
              "      <td>17073171</td>\n",
              "      <td>28 years, 7 months, 24 days</td>\n",
              "    </tr>\n",
              "    <tr>\n",
              "      <th>2</th>\n",
              "      <td>1628389</td>\n",
              "      <td>Bam Adebayo</td>\n",
              "      <td>Heat</td>\n",
              "      <td>Center</td>\n",
              "      <td>206</td>\n",
              "      <td>116</td>\n",
              "      <td>USA</td>\n",
              "      <td>1997-07-18</td>\n",
              "      <td>4</td>\n",
              "      <td>14</td>\n",
              "      <td>326.0</td>\n",
              "      <td>28.0</td>\n",
              "      <td>13.2</td>\n",
              "      <td>8.2</td>\n",
              "      <td>3.5</td>\n",
              "      <td>1.0</td>\n",
              "      <td>0.9</td>\n",
              "      <td>2022-03-07</td>\n",
              "      <td>28103550</td>\n",
              "      <td>24 years, 7 months, 26 days</td>\n",
              "    </tr>\n",
              "  </tbody>\n",
              "</table>\n",
              "</div>\n",
              "      <button class=\"colab-df-convert\" onclick=\"convertToInteractive('df-6e5aff5c-d758-4bd4-96a9-36fcb5cd8877')\"\n",
              "              title=\"Convert this dataframe to an interactive table.\"\n",
              "              style=\"display:none;\">\n",
              "        \n",
              "  <svg xmlns=\"http://www.w3.org/2000/svg\" height=\"24px\"viewBox=\"0 0 24 24\"\n",
              "       width=\"24px\">\n",
              "    <path d=\"M0 0h24v24H0V0z\" fill=\"none\"/>\n",
              "    <path d=\"M18.56 5.44l.94 2.06.94-2.06 2.06-.94-2.06-.94-.94-2.06-.94 2.06-2.06.94zm-11 1L8.5 8.5l.94-2.06 2.06-.94-2.06-.94L8.5 2.5l-.94 2.06-2.06.94zm10 10l.94 2.06.94-2.06 2.06-.94-2.06-.94-.94-2.06-.94 2.06-2.06.94z\"/><path d=\"M17.41 7.96l-1.37-1.37c-.4-.4-.92-.59-1.43-.59-.52 0-1.04.2-1.43.59L10.3 9.45l-7.72 7.72c-.78.78-.78 2.05 0 2.83L4 21.41c.39.39.9.59 1.41.59.51 0 1.02-.2 1.41-.59l7.78-7.78 2.81-2.81c.8-.78.8-2.07 0-2.86zM5.41 20L4 18.59l7.72-7.72 1.47 1.35L5.41 20z\"/>\n",
              "  </svg>\n",
              "      </button>\n",
              "      \n",
              "  <style>\n",
              "    .colab-df-container {\n",
              "      display:flex;\n",
              "      flex-wrap:wrap;\n",
              "      gap: 12px;\n",
              "    }\n",
              "\n",
              "    .colab-df-convert {\n",
              "      background-color: #E8F0FE;\n",
              "      border: none;\n",
              "      border-radius: 50%;\n",
              "      cursor: pointer;\n",
              "      display: none;\n",
              "      fill: #1967D2;\n",
              "      height: 32px;\n",
              "      padding: 0 0 0 0;\n",
              "      width: 32px;\n",
              "    }\n",
              "\n",
              "    .colab-df-convert:hover {\n",
              "      background-color: #E2EBFA;\n",
              "      box-shadow: 0px 1px 2px rgba(60, 64, 67, 0.3), 0px 1px 3px 1px rgba(60, 64, 67, 0.15);\n",
              "      fill: #174EA6;\n",
              "    }\n",
              "\n",
              "    [theme=dark] .colab-df-convert {\n",
              "      background-color: #3B4455;\n",
              "      fill: #D2E3FC;\n",
              "    }\n",
              "\n",
              "    [theme=dark] .colab-df-convert:hover {\n",
              "      background-color: #434B5C;\n",
              "      box-shadow: 0px 1px 3px 1px rgba(0, 0, 0, 0.15);\n",
              "      filter: drop-shadow(0px 1px 2px rgba(0, 0, 0, 0.3));\n",
              "      fill: #FFFFFF;\n",
              "    }\n",
              "  </style>\n",
              "\n",
              "      <script>\n",
              "        const buttonEl =\n",
              "          document.querySelector('#df-6e5aff5c-d758-4bd4-96a9-36fcb5cd8877 button.colab-df-convert');\n",
              "        buttonEl.style.display =\n",
              "          google.colab.kernel.accessAllowed ? 'block' : 'none';\n",
              "\n",
              "        async function convertToInteractive(key) {\n",
              "          const element = document.querySelector('#df-6e5aff5c-d758-4bd4-96a9-36fcb5cd8877');\n",
              "          const dataTable =\n",
              "            await google.colab.kernel.invokeFunction('convertToInteractive',\n",
              "                                                     [key], {});\n",
              "          if (!dataTable) return;\n",
              "\n",
              "          const docLinkHtml = 'Like what you see? Visit the ' +\n",
              "            '<a target=\"_blank\" href=https://colab.research.google.com/notebooks/data_table.ipynb>data table notebook</a>'\n",
              "            + ' to learn more about interactive tables.';\n",
              "          element.innerHTML = '';\n",
              "          dataTable['output_type'] = 'display_data';\n",
              "          await google.colab.output.renderOutput(dataTable, element);\n",
              "          const docLink = document.createElement('div');\n",
              "          docLink.innerHTML = docLinkHtml;\n",
              "          element.appendChild(docLink);\n",
              "        }\n",
              "      </script>\n",
              "    </div>\n",
              "  </div>\n",
              "  "
            ],
            "text/plain": [
              "   PERSON_ID       PLAYER_NAME  TEAM_NAME POSITION  HEIGHT  WEIGHT  \\\n",
              "0    1630173  Precious Achiuwa    Raptors  Forward     203     102   \n",
              "1     203500      Steven Adams  Grizzlies   Center     211     120   \n",
              "2    1628389       Bam Adebayo       Heat   Center     206     116   \n",
              "\n",
              "       COUNTRY   BIRTHDATE  SEASON_EXP DRAFT_NUMBER     GP   MIN   PTS  REB  \\\n",
              "0      Nigeria  1999-09-19           1           20  115.0  17.3   6.5  5.1   \n",
              "1  New Zealand  1993-07-20           8           12  648.0  26.8   9.3  7.9   \n",
              "2          USA  1997-07-18           4           14  326.0  28.0  13.2  8.2   \n",
              "\n",
              "   AST  STL  BLK   GAME_DATE    Salary                          AGE  \n",
              "0  0.8  0.4  0.5  2022-03-06   2711280  22 years, 5 months, 25 days  \n",
              "1  1.4  0.9  0.9  2022-03-06  17073171  28 years, 7 months, 24 days  \n",
              "2  3.5  1.0  0.9  2022-03-07  28103550  24 years, 7 months, 26 days  "
            ]
          },
          "execution_count": 3,
          "metadata": {},
          "output_type": "execute_result"
        }
      ],
      "source": [
        "data.head(3)\n",
        "#data.columns\n",
        "#data.describe()\n",
        "#data.info()"
      ]
    },
    {
      "cell_type": "code",
      "execution_count": null,
      "id": "H0KQNWYrfR2-",
      "metadata": {
        "colab": {
          "base_uri": "https://localhost:8080/"
        },
        "id": "H0KQNWYrfR2-",
        "outputId": "58c85999-2c6a-4654-e2d4-f0654d63d84e"
      },
      "outputs": [
        {
          "name": "stdout",
          "output_type": "stream",
          "text": [
            "Using matplotlib backend: agg\n",
            "Populating the interactive namespace from numpy and matplotlib\n"
          ]
        }
      ],
      "source": [
        "%pylab\n",
        "%matplotlib inline"
      ]
    },
    {
      "cell_type": "code",
      "execution_count": null,
      "id": "3AcyCYpBfVFv",
      "metadata": {
        "colab": {
          "base_uri": "https://localhost:8080/",
          "height": 1000
        },
        "id": "3AcyCYpBfVFv",
        "outputId": "731fb3fa-b4d0-48f3-c35b-c622569778b9"
      },
      "outputs": [
        {
          "data": {
            "image/png": "[encoded data removed]",
            "text/plain": [
              "<Figure size 360x360 with 1 Axes>"
            ]
          },
          "metadata": {
            "needs_background": "light"
          },
          "output_type": "display_data"
        },
        {
          "data": {
            "image/png": "[encoded data removed]",
            "text/plain": [
              "<Figure size 360x360 with 1 Axes>"
            ]
          },
          "metadata": {
            "needs_background": "light"
          },
          "output_type": "display_data"
        },
        {
          "data": {
            "image/png": "[encoded data removed]",
            "text/plain": [
              "<Figure size 360x360 with 1 Axes>"
            ]
          },
          "metadata": {
            "needs_background": "light"
          },
          "output_type": "display_data"
        },
        {
          "data": {
            "image/png": "[encoded data removed]",
            "text/plain": [
              "<Figure size 360x360 with 1 Axes>"
            ]
          },
          "metadata": {
            "needs_background": "light"
          },
          "output_type": "display_data"
        },
        {
          "data": {
            "image/png": "[encoded data removed]",
            "text/plain": [
              "<Figure size 360x360 with 1 Axes>"
            ]
          },
          "metadata": {
            "needs_background": "light"
          },
          "output_type": "display_data"
        }
      ],
      "source": [
        "# Ploting [\"PTS\", \"REB\", \"AST\",\"STL\",\"BLK\"] vs salary:\n",
        "\n",
        "features = [\"PTS\", \"REB\", \"AST\",\"STL\",\"BLK\"]\n",
        "\n",
        "for feature in features:\n",
        "  ax=sns.lmplot(x=\"Salary\",y = feature,  data = data)"
      ]
    },
    {
      "cell_type": "markdown",
      "id": "bbf0fe81-4aed-4dd9-8500-0919b4ec1e07",
      "metadata": {
        "id": "bbf0fe81-4aed-4dd9-8500-0919b4ec1e07"
      },
      "source": [
        "1.2. What can we say about these distributions?"
      ]
    },
    {
      "cell_type": "markdown",
      "id": "phuEuv4tVz98",
      "metadata": {
        "id": "phuEuv4tVz98"
      },
      "source": [
        "Pts seems to have a lineal proportion with salary, for the rest is not that obvious. SLT and BLK could be considered discrete variables."
      ]
    },
    {
      "cell_type": "markdown",
      "id": "V4W45FGNfjOP",
      "metadata": {
        "id": "V4W45FGNfjOP"
      },
      "source": [
        "Correlation analysis:"
      ]
    },
    {
      "cell_type": "markdown",
      "id": "17735366-22bf-4cd8-a392-9dfb01652da0",
      "metadata": {
        "id": "17735366-22bf-4cd8-a392-9dfb01652da0"
      },
      "source": [
        "### Splitting the Dataset"
      ]
    },
    {
      "cell_type": "code",
      "execution_count": null,
      "id": "9VnXXHWMfkZI",
      "metadata": {
        "colab": {
          "base_uri": "https://localhost:8080/",
          "height": 627
        },
        "id": "9VnXXHWMfkZI",
        "outputId": "7c070cd6-9cde-48bd-85ed-1d102d7f551d"
      },
      "outputs": [
        {
          "data": {
            "text/plain": [
              "Text(0.5, 1.0, 'Correlation Heatmap')"
            ]
          },
          "execution_count": 6,
          "metadata": {},
          "output_type": "execute_result"
        },
        {
          "data": {
            "image/png": "[encoded data removed]",
            "text/plain": [
              "<Figure size 864x720 with 2 Axes>"
            ]
          },
          "metadata": {
            "needs_background": "light"
          },
          "output_type": "display_data"
        }
      ],
      "source": [
        "#Correlation\n",
        "plt.figure(figsize=(12,10))\n",
        "\n",
        "ax = sns.heatmap(data[['Salary',\"PTS\", \"REB\", \"AST\",\"STL\",\"BLK\"]].corr(), annot=True, fmt='.2f')\n",
        "ax.set_title('Correlation Heatmap', fontsize=15)"
      ]
    },
    {
      "cell_type": "code",
      "execution_count": null,
      "id": "ccpsaq4NfoUz",
      "metadata": {
        "colab": {
          "base_uri": "https://localhost:8080/",
          "height": 1000
        },
        "id": "ccpsaq4NfoUz",
        "outputId": "4bb56a38-7c36-4cdf-a8b5-efe4db1d2712"
      },
      "outputs": [
        {
          "data": {
            "text/plain": [
              "<Figure size 1008x1008 with 0 Axes>"
            ]
          },
          "metadata": {},
          "output_type": "display_data"
        },
        {
          "data": {
            "image/png": "[encoded data removed]",
            "text/plain": [
              "<Figure size 1080x1080 with 42 Axes>"
            ]
          },
          "metadata": {
            "needs_background": "light"
          },
          "output_type": "display_data"
        }
      ],
      "source": [
        "plt.figure(figsize=(14, 14))\n",
        "ax = sns.pairplot(data[['Salary',\"PTS\", \"REB\", \"AST\",\"STL\",\"BLK\"]], diag_kind='kde')"
      ]
    },
    {
      "cell_type": "markdown",
      "id": "02450fb0-829c-420b-b65c-ea553a9a81a2",
      "metadata": {
        "id": "02450fb0-829c-420b-b65c-ea553a9a81a2"
      },
      "source": [
        "1.3. Split the dataset into train and testing sets. Use the Sklearn function for train/test splitting. Make sure to set the random state for reproducibility."
      ]
    },
    {
      "cell_type": "code",
      "execution_count": null,
      "id": "d532e0fb-e478-48a0-971b-1ad1d428fe95",
      "metadata": {
        "id": "d532e0fb-e478-48a0-971b-1ad1d428fe95"
      },
      "outputs": [],
      "source": [
        "# In order to have repeatability in pur experiments is important to plant a seed. I chose the 22 as a random_state.\n",
        "targets = data['Salary']\n",
        "inputs =  data.drop(['Salary'],axis=1)\n",
        "\n",
        "x_train, x_test, y_train, y_test = train_test_split(inputs, targets, test_size=0.2, random_state=22)"
      ]
    },
    {
      "cell_type": "markdown",
      "id": "OuDU9jwOW8WN",
      "metadata": {
        "id": "OuDU9jwOW8WN"
      },
      "source": [
        "x_train ---> features we are going to use to train the model.\n",
        "\n",
        "y_train ---> targuet that we are going to use to train the model (is a supervised model).\n",
        "\n",
        "x_test ---> features we are going to use to test the model.\n",
        "\n",
        "y_test ---> targuet we are going to use to test our model."
      ]
    },
    {
      "cell_type": "code",
      "execution_count": null,
      "id": "Rl9TAxuFfySm",
      "metadata": {
        "colab": {
          "base_uri": "https://localhost:8080/"
        },
        "id": "Rl9TAxuFfySm",
        "outputId": "0b8a1c0f-0f59-460e-b209-2bca5cb1a97a"
      },
      "outputs": [
        {
          "name": "stdout",
          "output_type": "stream",
          "text": [
            "Train:  367 367\n",
            "Test:  92 92\n"
          ]
        }
      ],
      "source": [
        "print('Train: ',len(x_train),len(y_train))\n",
        "print('Test: ',len(x_test),len(y_test))"
      ]
    },
    {
      "cell_type": "markdown",
      "id": "6aec0deb-7efe-438c-8a4a-39f940aeb474",
      "metadata": {
        "id": "6aec0deb-7efe-438c-8a4a-39f940aeb474"
      },
      "source": [
        "### Baseline Model and Evaluation Metric"
      ]
    },
    {
      "cell_type": "markdown",
      "id": "40ca78ad-8dc1-4b13-99bd-27dcd138a809",
      "metadata": {
        "id": "40ca78ad-8dc1-4b13-99bd-27dcd138a809"
      },
      "source": [
        "In every project, we need a baseline model that implements a very simple algorithm or heuristic so we can compare our results with it. \n",
        "In this case, we could create a function that always returns the average player salary, evaluate that, and then compare the result with our modeling to see if we are improving. "
      ]
    },
    {
      "cell_type": "markdown",
      "id": "71a7eb29-2bdf-4faf-93e9-3206dbc9cca2",
      "metadata": {
        "id": "71a7eb29-2bdf-4faf-93e9-3206dbc9cca2"
      },
      "source": [
        "We need an evaluation metric to see how well our models fit the data. For this project we will use [Mean Absolute Error](https://scikit-learn.org/stable/modules/generated/sklearn.metrics.mean_absolute_error.html#sklearn.metrics.mean_absolute_error) as our regression evaluation metric, because it is a really simple metric to interpret. A lower value means the model performs better. \n",
        "\n",
        "For this particular problem, we will always round the value, as we don't need decimals for this task."
      ]
    },
    {
      "cell_type": "markdown",
      "id": "cefd619d-e6b0-4e70-acf8-f0f4a90fe896",
      "metadata": {
        "id": "cefd619d-e6b0-4e70-acf8-f0f4a90fe896"
      },
      "source": [
        "1.4. Create a Baseline model class that implements  fit() and predict() methods. As this model will not consider any other variable, the fit method should only receive a list of all players salaries. The predict method should receive and iterable and return a numpy array with the same length but every element should have the same value (the average salary)"
      ]
    },
    {
      "cell_type": "code",
      "execution_count": null,
      "id": "8ee01164-1ef2-44dc-8baa-74b630444577",
      "metadata": {
        "id": "8ee01164-1ef2-44dc-8baa-74b630444577"
      },
      "outputs": [],
      "source": [
        "class BaselineModel():\n",
        "  \n",
        "  \"\"\"\n",
        "  This model will compute the mean of the players salary from our training dataset \n",
        "  and will use that value as the predicted value for any given input.\n",
        "  \"\"\"\n",
        "\n",
        "  def fit(self, y_train):\n",
        "     \"\"\"\n",
        "     Fit the training data. \n",
        "     \n",
        "     Parameters\n",
        "     ----------\n",
        "     y_train: Union[pd.Series, np.ndarray]\n",
        "         a pandas series or numpy array containing salary information\n",
        "     \"\"\"\n",
        "     self.mean_salary = np.mean(y_train)\n",
        "    \n",
        "  def predict(self, X):\n",
        "    \"\"\"\n",
        "    Predict salaries \n",
        "  \n",
        "    Parameters\n",
        "    ----------\n",
        "    X: Union[pd.DataFrame, pd.Series, np.ndarray]\n",
        "      a pandas series, dataframe or numpy array with the \n",
        "      \n",
        "    Returns\n",
        "    -------\n",
        "    np.ndarray\n",
        "    a numpy array of the same length as X, with all elements equal to the mean salary calculated in fit()\n",
        "    \"\"\"\n",
        "    \n",
        "    return np.array([self.mean_salary] * len(X))"
      ]
    },
    {
      "cell_type": "markdown",
      "id": "6a1a8134-48a4-4c66-84d2-39030242ef5f",
      "metadata": {
        "id": "6a1a8134-48a4-4c66-84d2-39030242ef5f"
      },
      "source": [
        "1.5. Evaluate the performance of our BaselineModel on the test set using mean_absolute_error from Sklearn (round the result)"
      ]
    },
    {
      "cell_type": "code",
      "execution_count": null,
      "id": "fb72f39b-e7fc-4cd8-bd23-ee4407a80eed",
      "metadata": {
        "colab": {
          "base_uri": "https://localhost:8080/"
        },
        "id": "fb72f39b-e7fc-4cd8-bd23-ee4407a80eed",
        "outputId": "522e3b1f-c2d6-44db-cda6-263572dfd457"
      },
      "outputs": [
        {
          "name": "stdout",
          "output_type": "stream",
          "text": [
            "7307666.0\n"
          ]
        }
      ],
      "source": [
        "model_1 = BaselineModel()\n",
        "model_1.fit(y_train)\n",
        "y_pred = model_1.predict(x_test)\n",
        "mae_bl = round(mean_absolute_error(y_test, y_pred),0)\n",
        "print(mae_bl)"
      ]
    },
    {
      "cell_type": "markdown",
      "id": "fc4dff42-e36c-478d-bfd3-7541f3f36f16",
      "metadata": {
        "id": "fc4dff42-e36c-478d-bfd3-7541f3f36f16"
      },
      "source": [
        "### Regression with a single variable"
      ]
    },
    {
      "cell_type": "markdown",
      "id": "c9597b03-31fd-4a9c-8dad-9479666355cd",
      "metadata": {
        "id": "c9597b03-31fd-4a9c-8dad-9479666355cd"
      },
      "source": [
        "You're now going to start modeling data. We will start with a really simple approach, selecting just one variable, and doing a regression to see if we improve upon our baseline.\n"
      ]
    },
    {
      "cell_type": "markdown",
      "id": "af92eeac-cbfb-45cb-8626-246332c69624",
      "metadata": {
        "id": "af92eeac-cbfb-45cb-8626-246332c69624"
      },
      "source": [
        "1.6. Select the variable you think would provide the best fit. Perform feature scaling on this variable using a Sklearn scaler."
      ]
    },
    {
      "cell_type": "code",
      "execution_count": null,
      "id": "3LDxy32DdDkN",
      "metadata": {
        "colab": {
          "base_uri": "https://localhost:8080/",
          "height": 297
        },
        "id": "3LDxy32DdDkN",
        "outputId": "c07a6c6e-d4a2-476b-be62-bf000232ea30"
      },
      "outputs": [
        {
          "data": {
            "text/plain": [
              "<matplotlib.axes._subplots.AxesSubplot at 0x7fd03a704490>"
            ]
          },
          "execution_count": 12,
          "metadata": {},
          "output_type": "execute_result"
        },
        {
          "data": {
            "image/png": "[encoded data removed]",
            "text/plain": [
              "<Figure size 432x288 with 1 Axes>"
            ]
          },
          "metadata": {
            "needs_background": "light"
          },
          "output_type": "display_data"
        }
      ],
      "source": [
        "# I chose PTS, so first I see how is the distribution:\n",
        "\n",
        "sns.histplot(x_train['PTS'], kde=True)"
      ]
    },
    {
      "cell_type": "code",
      "execution_count": null,
      "id": "173f1211-95e2-4bcb-ba7d-a40c516b4c24",
      "metadata": {
        "id": "173f1211-95e2-4bcb-ba7d-a40c516b4c24"
      },
      "outputs": [],
      "source": [
        "# The StandarsScaler normalize  the numerica fetures that have an (aproximate) gaussian distribution:\n",
        "# 1) call the scaller:\n",
        "scaler = StandardScaler()\n",
        "\n",
        "# 2) fit and transform ---> with x_train\n",
        "x_train_pts = scaler.fit_transform(x_train['PTS'].values.reshape(-1,1))\n",
        "\n",
        "# 3) transform the x_test\n",
        "x_test_pts = scaler.transform(x_test['PTS'].values.reshape(-1,1))\n",
        "#scaler_x_train_PTS = scaler.transform(x_train['PTS'].values.reshape(-1,1))\n",
        "#scaler_x_train_PTS"
      ]
    },
    {
      "cell_type": "code",
      "execution_count": null,
      "id": "y_uEhJDpgSvs",
      "metadata": {
        "colab": {
          "base_uri": "https://localhost:8080/",
          "height": 283
        },
        "id": "y_uEhJDpgSvs",
        "outputId": "ad4e9e38-029a-48d3-d750-b28fd53859e0"
      },
      "outputs": [
        {
          "data": {
            "text/plain": [
              "<matplotlib.axes._subplots.AxesSubplot at 0x7fd04ac40810>"
            ]
          },
          "execution_count": 14,
          "metadata": {},
          "output_type": "execute_result"
        },
        {
          "data": {
            "image/png": "[encoded data removed]",
            "text/plain": [
              "<Figure size 432x288 with 1 Axes>"
            ]
          },
          "metadata": {
            "needs_background": "light"
          },
          "output_type": "display_data"
        }
      ],
      "source": [
        "sns.histplot(x_train_pts, kde=True)"
      ]
    },
    {
      "cell_type": "code",
      "execution_count": null,
      "id": "tfkH9xz-gWTA",
      "metadata": {
        "colab": {
          "base_uri": "https://localhost:8080/",
          "height": 283
        },
        "id": "tfkH9xz-gWTA",
        "outputId": "eca395b9-6d25-4b88-dd79-342308c2a333"
      },
      "outputs": [
        {
          "data": {
            "text/plain": [
              "<matplotlib.axes._subplots.AxesSubplot at 0x7fd03a5561d0>"
            ]
          },
          "execution_count": 15,
          "metadata": {},
          "output_type": "execute_result"
        },
        {
          "data": {
            "image/png": "[encoded data removed]",
            "text/plain": [
              "<Figure size 432x288 with 1 Axes>"
            ]
          },
          "metadata": {
            "needs_background": "light"
          },
          "output_type": "display_data"
        }
      ],
      "source": [
        "sns.histplot(x_test_pts, kde=True)"
      ]
    },
    {
      "cell_type": "markdown",
      "id": "1c490e55-2bff-4a06-a01e-c6859d7edb52",
      "metadata": {
        "id": "1c490e55-2bff-4a06-a01e-c6859d7edb52"
      },
      "source": [
        "1.7. Train a model with [SGDRegressor](https://scikit-learn.org/stable/modules/generated/sklearn.linear_model.SGDRegressor.html) from Sklearn using the default parameters. Evaluate the model's performance on the test set using the selected metric."
      ]
    },
    {
      "cell_type": "code",
      "execution_count": null,
      "id": "15d198ad-a601-4722-937b-3be52090c8d1",
      "metadata": {
        "colab": {
          "base_uri": "https://localhost:8080/"
        },
        "id": "15d198ad-a601-4722-937b-3be52090c8d1",
        "outputId": "25e9893b-e454-49db-f5d1-2482296ae728"
      },
      "outputs": [
        {
          "name": "stdout",
          "output_type": "stream",
          "text": [
            "4740185.837296232\n"
          ]
        }
      ],
      "source": [
        "model_lr= SGDRegressor()\n",
        "model_lr.fit(x_train_pts,y_train)\n",
        "y_result = model_lr.predict(x_test_pts)\n",
        "\n",
        "mae_sgd = mean_absolute_error( y_test, model_lr.predict(x_test_pts))\n",
        "\n",
        "print(mae_sgd)\n"
      ]
    },
    {
      "cell_type": "markdown",
      "id": "e87147d9-5b57-4984-9f0d-e595cd6d15d3",
      "metadata": {
        "id": "e87147d9-5b57-4984-9f0d-e595cd6d15d3"
      },
      "source": [
        "1.8. Read the Sklearn documentation, and write a function that tries different configurations for the hyperparameters for training: epochs, learning rate and alpha. For each combination of parameters, evaluate the trained algorithm on the test set, then save the results of each hyperparameter combination, finally select the one that has the best MAE (meaning the lowest number) and print the combination and the MAE."
      ]
    },
    {
      "cell_type": "code",
      "execution_count": null,
      "id": "9e1f26f4-1eb4-4ecc-bfc2-9d8583f00d0d",
      "metadata": {
        "id": "9e1f26f4-1eb4-4ecc-bfc2-9d8583f00d0d"
      },
      "outputs": [],
      "source": [
        "def search_best_hyperparameters(epochs, learning_rates, alphas):\n",
        "    result = {\n",
        "        \"hyperparameters\": {\"epochs\": None, \"lr\": None, \"alpha\": None}, \n",
        "        \"mae\": None\n",
        "    }\n",
        "    # Complete your code here:\n",
        "    \n",
        "    # For each combination of parameters: \n",
        "    #   evaluate the trained algorithm on the test set, \n",
        "    #   then save the results of each hyperparameter combination, \n",
        "    #   finally select the one that has the best MAE (meaning the lowest number) \n",
        "    #   and print the combination and the MAE.\n",
        "    \n",
        "    mae_low = 10000000000000\n",
        "    \n",
        "    for i in epochs:\n",
        "      for j in learning_rates:\n",
        "        for k in alphas:\n",
        "          \n",
        "          # I call the model with the hiperparameters i, j, k:\n",
        "          sgd_lr = SGDRegressor(loss='squared_error', alpha = k, eta0 = j, max_iter = i)\n",
        "          \n",
        "          # I fit the model:\n",
        "          sgd_lr.fit(x_train_pts, y_train)\n",
        "          \n",
        "          # I calculate the mean sq error:\n",
        "          mae = mean_absolute_error( y_test, sgd_lr.predict(x_test_pts))\n",
        "          \n",
        "          # mae is always > 0:\n",
        "          if mae < mae_low:\n",
        "            mae_low = mae\n",
        "            result ['mae'] = round(mae,4)\n",
        "            result ['hyperparameters'] = {\"epochs\": i, \"lr\": j, \"alpha\": k}\n",
        "    \n",
        "    return result"
      ]
    },
    {
      "cell_type": "code",
      "execution_count": null,
      "id": "95ffbb3b-d161-4a29-9c48-eaff18b82412",
      "metadata": {
        "colab": {
          "base_uri": "https://localhost:8080/"
        },
        "id": "95ffbb3b-d161-4a29-9c48-eaff18b82412",
        "outputId": "80cd19d6-8021-489c-80f2-289aa52f2a1f"
      },
      "outputs": [
        {
          "name": "stdout",
          "output_type": "stream",
          "text": [
            "{'hyperparameters': {'epochs': 1000, 'lr': 0.2, 'alpha': 0.01}, 'mae': 4714855.3099}\n"
          ]
        }
      ],
      "source": [
        "# Example list of hyperparameters values\n",
        "max_iter = [1000, 1000000]\n",
        "eta0 = [0.2, 0.001, 0.01, 0.1]\n",
        "alphas = [0.2, 1, 0.01, 0.1]\n",
        "result = search_best_hyperparameters(max_iter, eta0,alphas)\n",
        "print(result)"
      ]
    },
    {
      "cell_type": "markdown",
      "id": "776e0c7a-d592-4479-aec6-870edff61def",
      "metadata": {
        "id": "776e0c7a-d592-4479-aec6-870edff61def"
      },
      "source": [
        "1.9. Compare the results of the baseline, the SGDRegressor with default parameters and the one with the best combination of hyperparameters you could find. (replace variables with the ones you used)"
      ]
    },
    {
      "cell_type": "code",
      "execution_count": null,
      "id": "2e520ef6-52ed-48dc-8450-03031f3a03a6",
      "metadata": {
        "colab": {
          "base_uri": "https://localhost:8080/"
        },
        "id": "2e520ef6-52ed-48dc-8450-03031f3a03a6",
        "outputId": "2e03b500-e22e-4f2a-e797-8bad35ae9033"
      },
      "outputs": [
        {
          "name": "stdout",
          "output_type": "stream",
          "text": [
            "Mean Absolute Error for each model:\n",
            "Baseline: 7307666.0\n",
            "Default SGDRegressor: 4740185.837296232\n",
            "Best SGDRegressor: dict_values([{'epochs': 1000, 'lr': 0.2, 'alpha': 0.01}, 4714855.3099])\n"
          ]
        }
      ],
      "source": [
        "print(\"Mean Absolute Error for each model:\" )\n",
        "print(f\"Baseline: {mae_bl}\")\n",
        "print(f\"Default SGDRegressor: {mae_sgd}\")\n",
        "print(f\"Best SGDRegressor: {result.values()}\")"
      ]
    },
    {
      "cell_type": "markdown",
      "id": "19e281ec-d578-496d-9f5d-897a2e1986a2",
      "metadata": {
        "id": "19e281ec-d578-496d-9f5d-897a2e1986a2"
      },
      "source": [
        "### Multivariate Linear Regression"
      ]
    },
    {
      "cell_type": "markdown",
      "id": "4ff24d36-439a-478f-b0de-0021223f6e99",
      "metadata": {
        "id": "4ff24d36-439a-478f-b0de-0021223f6e99"
      },
      "source": [
        "To improve our model, we will add more features to it. We will have to do some processing to our dataset to be able to use the data.\n",
        "We'll start with the following variables:"
      ]
    },
    {
      "cell_type": "markdown",
      "id": "247f4716-496a-4040-9519-77f7a6839691",
      "metadata": {
        "id": "247f4716-496a-4040-9519-77f7a6839691"
      },
      "source": [
        "- Points\n",
        "- Rebounds\n",
        "- Assists\n",
        "- Blocks\n",
        "- Experience\n",
        "- Position\n",
        "- Draft Number\n"
      ]
    },
    {
      "cell_type": "markdown",
      "id": "7958f7ec-45a0-4deb-bb79-3daa756dbcca",
      "metadata": {
        "id": "7958f7ec-45a0-4deb-bb79-3daa756dbcca"
      },
      "source": [
        "1.10. Create a copy of the dataset generated in the first project that only has the following columns (and player id as an index):\n",
        "\n",
        "[\"PTS\", \"REB\", \"AST\", \"BLK\", \"SEASON_EXP\", \"POSITION\", \"DRAFT_NUMBER\", \"TEAM_NAME\", \"SALARY\"]"
      ]
    },
    {
      "cell_type": "code",
      "execution_count": null,
      "id": "64b265b4-d4e5-40a6-a9c3-cce920ecaa1b",
      "metadata": {
        "colab": {
          "base_uri": "https://localhost:8080/",
          "height": 112
        },
        "id": "64b265b4-d4e5-40a6-a9c3-cce920ecaa1b",
        "outputId": "76297e35-06db-49ea-d0d1-ecde5c1e0578"
      },
      "outputs": [
        {
          "data": {
            "text/html": [
              "\n",
              "  <div id=\"df-e18cd5fd-8407-4fa9-8c85-1d96aee927ab\">\n",
              "    <div class=\"colab-df-container\">\n",
              "      <div>\n",
              "<style scoped>\n",
              "    .dataframe tbody tr th:only-of-type {\n",
              "        vertical-align: middle;\n",
              "    }\n",
              "\n",
              "    .dataframe tbody tr th {\n",
              "        vertical-align: top;\n",
              "    }\n",
              "\n",
              "    .dataframe thead th {\n",
              "        text-align: right;\n",
              "    }\n",
              "</style>\n",
              "<table border=\"1\" class=\"dataframe\">\n",
              "  <thead>\n",
              "    <tr style=\"text-align: right;\">\n",
              "      <th></th>\n",
              "      <th>PTS</th>\n",
              "      <th>REB</th>\n",
              "      <th>AST</th>\n",
              "      <th>BLK</th>\n",
              "      <th>SEASON_EXP</th>\n",
              "      <th>POSITION</th>\n",
              "      <th>DRAFT_NUMBER</th>\n",
              "      <th>TEAM_NAME</th>\n",
              "      <th>SALARY</th>\n",
              "    </tr>\n",
              "  </thead>\n",
              "  <tbody>\n",
              "    <tr>\n",
              "      <th>0</th>\n",
              "      <td>6.5</td>\n",
              "      <td>5.1</td>\n",
              "      <td>0.8</td>\n",
              "      <td>0.5</td>\n",
              "      <td>1</td>\n",
              "      <td>Forward</td>\n",
              "      <td>20</td>\n",
              "      <td>Raptors</td>\n",
              "      <td>2711280</td>\n",
              "    </tr>\n",
              "    <tr>\n",
              "      <th>1</th>\n",
              "      <td>9.3</td>\n",
              "      <td>7.9</td>\n",
              "      <td>1.4</td>\n",
              "      <td>0.9</td>\n",
              "      <td>8</td>\n",
              "      <td>Center</td>\n",
              "      <td>12</td>\n",
              "      <td>Grizzlies</td>\n",
              "      <td>17073171</td>\n",
              "    </tr>\n",
              "  </tbody>\n",
              "</table>\n",
              "</div>\n",
              "      <button class=\"colab-df-convert\" onclick=\"convertToInteractive('df-e18cd5fd-8407-4fa9-8c85-1d96aee927ab')\"\n",
              "              title=\"Convert this dataframe to an interactive table.\"\n",
              "              style=\"display:none;\">\n",
              "        \n",
              "  <svg xmlns=\"http://www.w3.org/2000/svg\" height=\"24px\"viewBox=\"0 0 24 24\"\n",
              "       width=\"24px\">\n",
              "    <path d=\"M0 0h24v24H0V0z\" fill=\"none\"/>\n",
              "    <path d=\"M18.56 5.44l.94 2.06.94-2.06 2.06-.94-2.06-.94-.94-2.06-.94 2.06-2.06.94zm-11 1L8.5 8.5l.94-2.06 2.06-.94-2.06-.94L8.5 2.5l-.94 2.06-2.06.94zm10 10l.94 2.06.94-2.06 2.06-.94-2.06-.94-.94-2.06-.94 2.06-2.06.94z\"/><path d=\"M17.41 7.96l-1.37-1.37c-.4-.4-.92-.59-1.43-.59-.52 0-1.04.2-1.43.59L10.3 9.45l-7.72 7.72c-.78.78-.78 2.05 0 2.83L4 21.41c.39.39.9.59 1.41.59.51 0 1.02-.2 1.41-.59l7.78-7.78 2.81-2.81c.8-.78.8-2.07 0-2.86zM5.41 20L4 18.59l7.72-7.72 1.47 1.35L5.41 20z\"/>\n",
              "  </svg>\n",
              "      </button>\n",
              "      \n",
              "  <style>\n",
              "    .colab-df-container {\n",
              "      display:flex;\n",
              "      flex-wrap:wrap;\n",
              "      gap: 12px;\n",
              "    }\n",
              "\n",
              "    .colab-df-convert {\n",
              "      background-color: #E8F0FE;\n",
              "      border: none;\n",
              "      border-radius: 50%;\n",
              "      cursor: pointer;\n",
              "      display: none;\n",
              "      fill: #1967D2;\n",
              "      height: 32px;\n",
              "      padding: 0 0 0 0;\n",
              "      width: 32px;\n",
              "    }\n",
              "\n",
              "    .colab-df-convert:hover {\n",
              "      background-color: #E2EBFA;\n",
              "      box-shadow: 0px 1px 2px rgba(60, 64, 67, 0.3), 0px 1px 3px 1px rgba(60, 64, 67, 0.15);\n",
              "      fill: #174EA6;\n",
              "    }\n",
              "\n",
              "    [theme=dark] .colab-df-convert {\n",
              "      background-color: #3B4455;\n",
              "      fill: #D2E3FC;\n",
              "    }\n",
              "\n",
              "    [theme=dark] .colab-df-convert:hover {\n",
              "      background-color: #434B5C;\n",
              "      box-shadow: 0px 1px 3px 1px rgba(0, 0, 0, 0.15);\n",
              "      filter: drop-shadow(0px 1px 2px rgba(0, 0, 0, 0.3));\n",
              "      fill: #FFFFFF;\n",
              "    }\n",
              "  </style>\n",
              "\n",
              "      <script>\n",
              "        const buttonEl =\n",
              "          document.querySelector('#df-e18cd5fd-8407-4fa9-8c85-1d96aee927ab button.colab-df-convert');\n",
              "        buttonEl.style.display =\n",
              "          google.colab.kernel.accessAllowed ? 'block' : 'none';\n",
              "\n",
              "        async function convertToInteractive(key) {\n",
              "          const element = document.querySelector('#df-e18cd5fd-8407-4fa9-8c85-1d96aee927ab');\n",
              "          const dataTable =\n",
              "            await google.colab.kernel.invokeFunction('convertToInteractive',\n",
              "                                                     [key], {});\n",
              "          if (!dataTable) return;\n",
              "\n",
              "          const docLinkHtml = 'Like what you see? Visit the ' +\n",
              "            '<a target=\"_blank\" href=https://colab.research.google.com/notebooks/data_table.ipynb>data table notebook</a>'\n",
              "            + ' to learn more about interactive tables.';\n",
              "          element.innerHTML = '';\n",
              "          dataTable['output_type'] = 'display_data';\n",
              "          await google.colab.output.renderOutput(dataTable, element);\n",
              "          const docLink = document.createElement('div');\n",
              "          docLink.innerHTML = docLinkHtml;\n",
              "          element.appendChild(docLink);\n",
              "        }\n",
              "      </script>\n",
              "    </div>\n",
              "  </div>\n",
              "  "
            ],
            "text/plain": [
              "   PTS  REB  AST  BLK  SEASON_EXP POSITION DRAFT_NUMBER  TEAM_NAME    SALARY\n",
              "0  6.5  5.1  0.8  0.5           1  Forward           20    Raptors   2711280\n",
              "1  9.3  7.9  1.4  0.9           8   Center           12  Grizzlies  17073171"
            ]
          },
          "execution_count": 31,
          "metadata": {},
          "output_type": "execute_result"
        }
      ],
      "source": [
        "df = data[[\"PTS\", \"REB\", \"AST\", \"BLK\", \"SEASON_EXP\", \"POSITION\", \"DRAFT_NUMBER\",  \"TEAM_NAME\", \"Salary\"]]\n",
        "df = df.rename(columns={\"Salary\": \"SALARY\"})\n",
        "df.head(2)"
      ]
    },
    {
      "cell_type": "markdown",
      "id": "4865eb6e-d85d-4283-a67c-93df46a5b72e",
      "metadata": {
        "id": "4865eb6e-d85d-4283-a67c-93df46a5b72e"
      },
      "source": [
        "#### Feature Engineering"
      ]
    },
    {
      "cell_type": "markdown",
      "id": "ec9b71e8-57aa-405a-8b3b-b0585a45d64d",
      "metadata": {
        "id": "ec9b71e8-57aa-405a-8b3b-b0585a45d64d"
      },
      "source": [
        "1.11. Binning the DRAFT_NUMBER feature. Draft position directly impacts salaries during the first few years, but second round players and undrafted players don't have guaranteed contracts. So we're gonna divide the bins like this: \n",
        "\n",
        "       - 1 to 15: firstround_lottery\n",
        "       - 15 to 30: firstround_non_lottery\n",
        "       - 30 to 60: second_round\n",
        "       - Undrafted: undrafted\n",
        "       \n",
        "Create a new column named DRAFT using these 4 categories. Drop the draft number column."
      ]
    },
    {
      "cell_type": "code",
      "execution_count": null,
      "id": "3ea6afa9-7df8-446c-b134-c832f3ca27b7",
      "metadata": {
        "id": "3ea6afa9-7df8-446c-b134-c832f3ca27b7"
      },
      "outputs": [],
      "source": [
        "df.DRAFT_NUMBER.unique()\n",
        "df.DRAFT_NUMBER = df.DRAFT_NUMBER.replace(['Undrafted', nan], '0')\n",
        "df.DRAFT_NUMBER.unique()\n",
        "df.DRAFT_NUMBER = df.DRAFT_NUMBER.astype(float).astype(int)\n"
      ]
    },
    {
      "cell_type": "code",
      "execution_count": null,
      "id": "CIQa-CVkhXbg",
      "metadata": {
        "id": "CIQa-CVkhXbg"
      },
      "outputs": [],
      "source": [
        "def get_gen_draft(draft_number):\n",
        "      \n",
        "      if (draft_number > 1) & (draft_number <= 15):\n",
        "          return 'firstround_lottery'\n",
        "\n",
        "      elif (draft_number > 15) & (draft_number <= 30):\n",
        "          return 'firstround_non_lottery'\n",
        "\n",
        "      elif (draft_number > 30) & (draft_number <= 60):\n",
        "          return 'second_round'\n",
        "\n",
        "      else:\n",
        "          return 'undrafted'"
      ]
    },
    {
      "cell_type": "code",
      "execution_count": null,
      "id": "LJOtE1sVhav7",
      "metadata": {
        "colab": {
          "base_uri": "https://localhost:8080/",
          "height": 363
        },
        "id": "LJOtE1sVhav7",
        "outputId": "811d5d36-5de4-4264-bc9c-c6162b2a1096"
      },
      "outputs": [
        {
          "data": {
            "text/html": [
              "\n",
              "  <div id=\"df-907e2595-8d3f-4266-8a18-68646848d7e9\">\n",
              "    <div class=\"colab-df-container\">\n",
              "      <div>\n",
              "<style scoped>\n",
              "    .dataframe tbody tr th:only-of-type {\n",
              "        vertical-align: middle;\n",
              "    }\n",
              "\n",
              "    .dataframe tbody tr th {\n",
              "        vertical-align: top;\n",
              "    }\n",
              "\n",
              "    .dataframe thead th {\n",
              "        text-align: right;\n",
              "    }\n",
              "</style>\n",
              "<table border=\"1\" class=\"dataframe\">\n",
              "  <thead>\n",
              "    <tr style=\"text-align: right;\">\n",
              "      <th></th>\n",
              "      <th>PTS</th>\n",
              "      <th>REB</th>\n",
              "      <th>AST</th>\n",
              "      <th>BLK</th>\n",
              "      <th>SEASON_EXP</th>\n",
              "      <th>POSITION</th>\n",
              "      <th>TEAM_NAME</th>\n",
              "      <th>SALARY</th>\n",
              "      <th>DRAFT</th>\n",
              "    </tr>\n",
              "  </thead>\n",
              "  <tbody>\n",
              "    <tr>\n",
              "      <th>0</th>\n",
              "      <td>6.5</td>\n",
              "      <td>5.1</td>\n",
              "      <td>0.8</td>\n",
              "      <td>0.5</td>\n",
              "      <td>1</td>\n",
              "      <td>Forward</td>\n",
              "      <td>Raptors</td>\n",
              "      <td>2711280</td>\n",
              "      <td>firstround_non_lottery</td>\n",
              "    </tr>\n",
              "    <tr>\n",
              "      <th>1</th>\n",
              "      <td>9.3</td>\n",
              "      <td>7.9</td>\n",
              "      <td>1.4</td>\n",
              "      <td>0.9</td>\n",
              "      <td>8</td>\n",
              "      <td>Center</td>\n",
              "      <td>Grizzlies</td>\n",
              "      <td>17073171</td>\n",
              "      <td>firstround_lottery</td>\n",
              "    </tr>\n",
              "    <tr>\n",
              "      <th>2</th>\n",
              "      <td>13.2</td>\n",
              "      <td>8.2</td>\n",
              "      <td>3.5</td>\n",
              "      <td>0.9</td>\n",
              "      <td>4</td>\n",
              "      <td>Center</td>\n",
              "      <td>Heat</td>\n",
              "      <td>28103550</td>\n",
              "      <td>firstround_lottery</td>\n",
              "    </tr>\n",
              "    <tr>\n",
              "      <th>3</th>\n",
              "      <td>3.3</td>\n",
              "      <td>2.4</td>\n",
              "      <td>0.5</td>\n",
              "      <td>0.3</td>\n",
              "      <td>0</td>\n",
              "      <td>Forward</td>\n",
              "      <td>Grizzlies</td>\n",
              "      <td>1994520</td>\n",
              "      <td>firstround_non_lottery</td>\n",
              "    </tr>\n",
              "    <tr>\n",
              "      <th>4</th>\n",
              "      <td>19.1</td>\n",
              "      <td>8.1</td>\n",
              "      <td>1.9</td>\n",
              "      <td>1.1</td>\n",
              "      <td>15</td>\n",
              "      <td>Center</td>\n",
              "      <td>Nets</td>\n",
              "      <td>2641691</td>\n",
              "      <td>firstround_lottery</td>\n",
              "    </tr>\n",
              "    <tr>\n",
              "      <th>5</th>\n",
              "      <td>9.7</td>\n",
              "      <td>2.7</td>\n",
              "      <td>2.3</td>\n",
              "      <td>0.3</td>\n",
              "      <td>2</td>\n",
              "      <td>Guard</td>\n",
              "      <td>Jazz</td>\n",
              "      <td>3261480</td>\n",
              "      <td>firstround_non_lottery</td>\n",
              "    </tr>\n",
              "    <tr>\n",
              "      <th>6</th>\n",
              "      <td>9.3</td>\n",
              "      <td>2.5</td>\n",
              "      <td>1.5</td>\n",
              "      <td>0.2</td>\n",
              "      <td>3</td>\n",
              "      <td>Guard</td>\n",
              "      <td>Bucks</td>\n",
              "      <td>4054695</td>\n",
              "      <td>firstround_non_lottery</td>\n",
              "    </tr>\n",
              "    <tr>\n",
              "      <th>7</th>\n",
              "      <td>11.6</td>\n",
              "      <td>8.7</td>\n",
              "      <td>1.4</td>\n",
              "      <td>1.4</td>\n",
              "      <td>4</td>\n",
              "      <td>Center</td>\n",
              "      <td>Cavaliers</td>\n",
              "      <td>20000000</td>\n",
              "      <td>firstround_non_lottery</td>\n",
              "    </tr>\n",
              "    <tr>\n",
              "      <th>8</th>\n",
              "      <td>6.6</td>\n",
              "      <td>4.4</td>\n",
              "      <td>2.3</td>\n",
              "      <td>0.6</td>\n",
              "      <td>7</td>\n",
              "      <td>Forward</td>\n",
              "      <td>Grizzlies</td>\n",
              "      <td>9937150</td>\n",
              "      <td>firstround_non_lottery</td>\n",
              "    </tr>\n",
              "    <tr>\n",
              "      <th>9</th>\n",
              "      <td>21.6</td>\n",
              "      <td>9.3</td>\n",
              "      <td>4.6</td>\n",
              "      <td>1.3</td>\n",
              "      <td>8</td>\n",
              "      <td>Forward</td>\n",
              "      <td>Bucks</td>\n",
              "      <td>39344970</td>\n",
              "      <td>firstround_lottery</td>\n",
              "    </tr>\n",
              "  </tbody>\n",
              "</table>\n",
              "</div>\n",
              "      <button class=\"colab-df-convert\" onclick=\"convertToInteractive('df-907e2595-8d3f-4266-8a18-68646848d7e9')\"\n",
              "              title=\"Convert this dataframe to an interactive table.\"\n",
              "              style=\"display:none;\">\n",
              "        \n",
              "  <svg xmlns=\"http://www.w3.org/2000/svg\" height=\"24px\"viewBox=\"0 0 24 24\"\n",
              "       width=\"24px\">\n",
              "    <path d=\"M0 0h24v24H0V0z\" fill=\"none\"/>\n",
              "    <path d=\"M18.56 5.44l.94 2.06.94-2.06 2.06-.94-2.06-.94-.94-2.06-.94 2.06-2.06.94zm-11 1L8.5 8.5l.94-2.06 2.06-.94-2.06-.94L8.5 2.5l-.94 2.06-2.06.94zm10 10l.94 2.06.94-2.06 2.06-.94-2.06-.94-.94-2.06-.94 2.06-2.06.94z\"/><path d=\"M17.41 7.96l-1.37-1.37c-.4-.4-.92-.59-1.43-.59-.52 0-1.04.2-1.43.59L10.3 9.45l-7.72 7.72c-.78.78-.78 2.05 0 2.83L4 21.41c.39.39.9.59 1.41.59.51 0 1.02-.2 1.41-.59l7.78-7.78 2.81-2.81c.8-.78.8-2.07 0-2.86zM5.41 20L4 18.59l7.72-7.72 1.47 1.35L5.41 20z\"/>\n",
              "  </svg>\n",
              "      </button>\n",
              "      \n",
              "  <style>\n",
              "    .colab-df-container {\n",
              "      display:flex;\n",
              "      flex-wrap:wrap;\n",
              "      gap: 12px;\n",
              "    }\n",
              "\n",
              "    .colab-df-convert {\n",
              "      background-color: #E8F0FE;\n",
              "      border: none;\n",
              "      border-radius: 50%;\n",
              "      cursor: pointer;\n",
              "      display: none;\n",
              "      fill: #1967D2;\n",
              "      height: 32px;\n",
              "      padding: 0 0 0 0;\n",
              "      width: 32px;\n",
              "    }\n",
              "\n",
              "    .colab-df-convert:hover {\n",
              "      background-color: #E2EBFA;\n",
              "      box-shadow: 0px 1px 2px rgba(60, 64, 67, 0.3), 0px 1px 3px 1px rgba(60, 64, 67, 0.15);\n",
              "      fill: #174EA6;\n",
              "    }\n",
              "\n",
              "    [theme=dark] .colab-df-convert {\n",
              "      background-color: #3B4455;\n",
              "      fill: #D2E3FC;\n",
              "    }\n",
              "\n",
              "    [theme=dark] .colab-df-convert:hover {\n",
              "      background-color: #434B5C;\n",
              "      box-shadow: 0px 1px 3px 1px rgba(0, 0, 0, 0.15);\n",
              "      filter: drop-shadow(0px 1px 2px rgba(0, 0, 0, 0.3));\n",
              "      fill: #FFFFFF;\n",
              "    }\n",
              "  </style>\n",
              "\n",
              "      <script>\n",
              "        const buttonEl =\n",
              "          document.querySelector('#df-907e2595-8d3f-4266-8a18-68646848d7e9 button.colab-df-convert');\n",
              "        buttonEl.style.display =\n",
              "          google.colab.kernel.accessAllowed ? 'block' : 'none';\n",
              "\n",
              "        async function convertToInteractive(key) {\n",
              "          const element = document.querySelector('#df-907e2595-8d3f-4266-8a18-68646848d7e9');\n",
              "          const dataTable =\n",
              "            await google.colab.kernel.invokeFunction('convertToInteractive',\n",
              "                                                     [key], {});\n",
              "          if (!dataTable) return;\n",
              "\n",
              "          const docLinkHtml = 'Like what you see? Visit the ' +\n",
              "            '<a target=\"_blank\" href=https://colab.research.google.com/notebooks/data_table.ipynb>data table notebook</a>'\n",
              "            + ' to learn more about interactive tables.';\n",
              "          element.innerHTML = '';\n",
              "          dataTable['output_type'] = 'display_data';\n",
              "          await google.colab.output.renderOutput(dataTable, element);\n",
              "          const docLink = document.createElement('div');\n",
              "          docLink.innerHTML = docLinkHtml;\n",
              "          element.appendChild(docLink);\n",
              "        }\n",
              "      </script>\n",
              "    </div>\n",
              "  </div>\n",
              "  "
            ],
            "text/plain": [
              "    PTS  REB  AST  BLK  SEASON_EXP POSITION  TEAM_NAME    SALARY  \\\n",
              "0   6.5  5.1  0.8  0.5           1  Forward    Raptors   2711280   \n",
              "1   9.3  7.9  1.4  0.9           8   Center  Grizzlies  17073171   \n",
              "2  13.2  8.2  3.5  0.9           4   Center       Heat  28103550   \n",
              "3   3.3  2.4  0.5  0.3           0  Forward  Grizzlies   1994520   \n",
              "4  19.1  8.1  1.9  1.1          15   Center       Nets   2641691   \n",
              "5   9.7  2.7  2.3  0.3           2    Guard       Jazz   3261480   \n",
              "6   9.3  2.5  1.5  0.2           3    Guard      Bucks   4054695   \n",
              "7  11.6  8.7  1.4  1.4           4   Center  Cavaliers  20000000   \n",
              "8   6.6  4.4  2.3  0.6           7  Forward  Grizzlies   9937150   \n",
              "9  21.6  9.3  4.6  1.3           8  Forward      Bucks  39344970   \n",
              "\n",
              "                    DRAFT  \n",
              "0  firstround_non_lottery  \n",
              "1      firstround_lottery  \n",
              "2      firstround_lottery  \n",
              "3  firstround_non_lottery  \n",
              "4      firstround_lottery  \n",
              "5  firstround_non_lottery  \n",
              "6  firstround_non_lottery  \n",
              "7  firstround_non_lottery  \n",
              "8  firstround_non_lottery  \n",
              "9      firstround_lottery  "
            ]
          },
          "execution_count": 34,
          "metadata": {},
          "output_type": "execute_result"
        }
      ],
      "source": [
        "df['DRAFT'] = df.DRAFT_NUMBER.apply(get_gen_draft) \n",
        "df.drop(columns=['DRAFT_NUMBER'], inplace = True)\n",
        "df.head(10)"
      ]
    },
    {
      "cell_type": "markdown",
      "id": "37a55237-cb04-4c38-bef3-8c363f9dbe5c",
      "metadata": {
        "id": "37a55237-cb04-4c38-bef3-8c363f9dbe5c"
      },
      "source": [
        "1.12. Encode the categorical features: DRAFT, POSITION and TEAM_NAME"
      ]
    },
    {
      "cell_type": "code",
      "execution_count": null,
      "id": "c565394e-5d44-4418-a33b-eaa801062dbc",
      "metadata": {
        "colab": {
          "base_uri": "https://localhost:8080/",
          "height": 317
        },
        "id": "c565394e-5d44-4418-a33b-eaa801062dbc",
        "outputId": "13b01744-5a8d-4d83-f636-1eba0e801901"
      },
      "outputs": [
        {
          "data": {
            "text/html": [
              "\n",
              "  <div id=\"df-3fad01da-78a4-490f-a363-8adb9b05bcc9\">\n",
              "    <div class=\"colab-df-container\">\n",
              "      <div>\n",
              "<style scoped>\n",
              "    .dataframe tbody tr th:only-of-type {\n",
              "        vertical-align: middle;\n",
              "    }\n",
              "\n",
              "    .dataframe tbody tr th {\n",
              "        vertical-align: top;\n",
              "    }\n",
              "\n",
              "    .dataframe thead th {\n",
              "        text-align: right;\n",
              "    }\n",
              "</style>\n",
              "<table border=\"1\" class=\"dataframe\">\n",
              "  <thead>\n",
              "    <tr style=\"text-align: right;\">\n",
              "      <th></th>\n",
              "      <th>PTS</th>\n",
              "      <th>REB</th>\n",
              "      <th>AST</th>\n",
              "      <th>BLK</th>\n",
              "      <th>SEASON_EXP</th>\n",
              "      <th>SALARY</th>\n",
              "      <th>DRAFT_firstround_lottery</th>\n",
              "      <th>DRAFT_firstround_non_lottery</th>\n",
              "      <th>DRAFT_second_round</th>\n",
              "      <th>DRAFT_undrafted</th>\n",
              "      <th>...</th>\n",
              "      <th>TEAM_NAME_Pistons</th>\n",
              "      <th>TEAM_NAME_Raptors</th>\n",
              "      <th>TEAM_NAME_Rockets</th>\n",
              "      <th>TEAM_NAME_Spurs</th>\n",
              "      <th>TEAM_NAME_Suns</th>\n",
              "      <th>TEAM_NAME_Thunder</th>\n",
              "      <th>TEAM_NAME_Timberwolves</th>\n",
              "      <th>TEAM_NAME_Trail Blazers</th>\n",
              "      <th>TEAM_NAME_Warriors</th>\n",
              "      <th>TEAM_NAME_Wizards</th>\n",
              "    </tr>\n",
              "  </thead>\n",
              "  <tbody>\n",
              "    <tr>\n",
              "      <th>0</th>\n",
              "      <td>6.5</td>\n",
              "      <td>5.1</td>\n",
              "      <td>0.8</td>\n",
              "      <td>0.5</td>\n",
              "      <td>1</td>\n",
              "      <td>2711280</td>\n",
              "      <td>0</td>\n",
              "      <td>1</td>\n",
              "      <td>0</td>\n",
              "      <td>0</td>\n",
              "      <td>...</td>\n",
              "      <td>0</td>\n",
              "      <td>1</td>\n",
              "      <td>0</td>\n",
              "      <td>0</td>\n",
              "      <td>0</td>\n",
              "      <td>0</td>\n",
              "      <td>0</td>\n",
              "      <td>0</td>\n",
              "      <td>0</td>\n",
              "      <td>0</td>\n",
              "    </tr>\n",
              "    <tr>\n",
              "      <th>1</th>\n",
              "      <td>9.3</td>\n",
              "      <td>7.9</td>\n",
              "      <td>1.4</td>\n",
              "      <td>0.9</td>\n",
              "      <td>8</td>\n",
              "      <td>17073171</td>\n",
              "      <td>1</td>\n",
              "      <td>0</td>\n",
              "      <td>0</td>\n",
              "      <td>0</td>\n",
              "      <td>...</td>\n",
              "      <td>0</td>\n",
              "      <td>0</td>\n",
              "      <td>0</td>\n",
              "      <td>0</td>\n",
              "      <td>0</td>\n",
              "      <td>0</td>\n",
              "      <td>0</td>\n",
              "      <td>0</td>\n",
              "      <td>0</td>\n",
              "      <td>0</td>\n",
              "    </tr>\n",
              "    <tr>\n",
              "      <th>2</th>\n",
              "      <td>13.2</td>\n",
              "      <td>8.2</td>\n",
              "      <td>3.5</td>\n",
              "      <td>0.9</td>\n",
              "      <td>4</td>\n",
              "      <td>28103550</td>\n",
              "      <td>1</td>\n",
              "      <td>0</td>\n",
              "      <td>0</td>\n",
              "      <td>0</td>\n",
              "      <td>...</td>\n",
              "      <td>0</td>\n",
              "      <td>0</td>\n",
              "      <td>0</td>\n",
              "      <td>0</td>\n",
              "      <td>0</td>\n",
              "      <td>0</td>\n",
              "      <td>0</td>\n",
              "      <td>0</td>\n",
              "      <td>0</td>\n",
              "      <td>0</td>\n",
              "    </tr>\n",
              "    <tr>\n",
              "      <th>3</th>\n",
              "      <td>3.3</td>\n",
              "      <td>2.4</td>\n",
              "      <td>0.5</td>\n",
              "      <td>0.3</td>\n",
              "      <td>0</td>\n",
              "      <td>1994520</td>\n",
              "      <td>0</td>\n",
              "      <td>1</td>\n",
              "      <td>0</td>\n",
              "      <td>0</td>\n",
              "      <td>...</td>\n",
              "      <td>0</td>\n",
              "      <td>0</td>\n",
              "      <td>0</td>\n",
              "      <td>0</td>\n",
              "      <td>0</td>\n",
              "      <td>0</td>\n",
              "      <td>0</td>\n",
              "      <td>0</td>\n",
              "      <td>0</td>\n",
              "      <td>0</td>\n",
              "    </tr>\n",
              "    <tr>\n",
              "      <th>4</th>\n",
              "      <td>19.1</td>\n",
              "      <td>8.1</td>\n",
              "      <td>1.9</td>\n",
              "      <td>1.1</td>\n",
              "      <td>15</td>\n",
              "      <td>2641691</td>\n",
              "      <td>1</td>\n",
              "      <td>0</td>\n",
              "      <td>0</td>\n",
              "      <td>0</td>\n",
              "      <td>...</td>\n",
              "      <td>0</td>\n",
              "      <td>0</td>\n",
              "      <td>0</td>\n",
              "      <td>0</td>\n",
              "      <td>0</td>\n",
              "      <td>0</td>\n",
              "      <td>0</td>\n",
              "      <td>0</td>\n",
              "      <td>0</td>\n",
              "      <td>0</td>\n",
              "    </tr>\n",
              "  </tbody>\n",
              "</table>\n",
              "<p>5 rows × 43 columns</p>\n",
              "</div>\n",
              "      <button class=\"colab-df-convert\" onclick=\"convertToInteractive('df-3fad01da-78a4-490f-a363-8adb9b05bcc9')\"\n",
              "              title=\"Convert this dataframe to an interactive table.\"\n",
              "              style=\"display:none;\">\n",
              "        \n",
              "  <svg xmlns=\"http://www.w3.org/2000/svg\" height=\"24px\"viewBox=\"0 0 24 24\"\n",
              "       width=\"24px\">\n",
              "    <path d=\"M0 0h24v24H0V0z\" fill=\"none\"/>\n",
              "    <path d=\"M18.56 5.44l.94 2.06.94-2.06 2.06-.94-2.06-.94-.94-2.06-.94 2.06-2.06.94zm-11 1L8.5 8.5l.94-2.06 2.06-.94-2.06-.94L8.5 2.5l-.94 2.06-2.06.94zm10 10l.94 2.06.94-2.06 2.06-.94-2.06-.94-.94-2.06-.94 2.06-2.06.94z\"/><path d=\"M17.41 7.96l-1.37-1.37c-.4-.4-.92-.59-1.43-.59-.52 0-1.04.2-1.43.59L10.3 9.45l-7.72 7.72c-.78.78-.78 2.05 0 2.83L4 21.41c.39.39.9.59 1.41.59.51 0 1.02-.2 1.41-.59l7.78-7.78 2.81-2.81c.8-.78.8-2.07 0-2.86zM5.41 20L4 18.59l7.72-7.72 1.47 1.35L5.41 20z\"/>\n",
              "  </svg>\n",
              "      </button>\n",
              "      \n",
              "  <style>\n",
              "    .colab-df-container {\n",
              "      display:flex;\n",
              "      flex-wrap:wrap;\n",
              "      gap: 12px;\n",
              "    }\n",
              "\n",
              "    .colab-df-convert {\n",
              "      background-color: #E8F0FE;\n",
              "      border: none;\n",
              "      border-radius: 50%;\n",
              "      cursor: pointer;\n",
              "      display: none;\n",
              "      fill: #1967D2;\n",
              "      height: 32px;\n",
              "      padding: 0 0 0 0;\n",
              "      width: 32px;\n",
              "    }\n",
              "\n",
              "    .colab-df-convert:hover {\n",
              "      background-color: #E2EBFA;\n",
              "      box-shadow: 0px 1px 2px rgba(60, 64, 67, 0.3), 0px 1px 3px 1px rgba(60, 64, 67, 0.15);\n",
              "      fill: #174EA6;\n",
              "    }\n",
              "\n",
              "    [theme=dark] .colab-df-convert {\n",
              "      background-color: #3B4455;\n",
              "      fill: #D2E3FC;\n",
              "    }\n",
              "\n",
              "    [theme=dark] .colab-df-convert:hover {\n",
              "      background-color: #434B5C;\n",
              "      box-shadow: 0px 1px 3px 1px rgba(0, 0, 0, 0.15);\n",
              "      filter: drop-shadow(0px 1px 2px rgba(0, 0, 0, 0.3));\n",
              "      fill: #FFFFFF;\n",
              "    }\n",
              "  </style>\n",
              "\n",
              "      <script>\n",
              "        const buttonEl =\n",
              "          document.querySelector('#df-3fad01da-78a4-490f-a363-8adb9b05bcc9 button.colab-df-convert');\n",
              "        buttonEl.style.display =\n",
              "          google.colab.kernel.accessAllowed ? 'block' : 'none';\n",
              "\n",
              "        async function convertToInteractive(key) {\n",
              "          const element = document.querySelector('#df-3fad01da-78a4-490f-a363-8adb9b05bcc9');\n",
              "          const dataTable =\n",
              "            await google.colab.kernel.invokeFunction('convertToInteractive',\n",
              "                                                     [key], {});\n",
              "          if (!dataTable) return;\n",
              "\n",
              "          const docLinkHtml = 'Like what you see? Visit the ' +\n",
              "            '<a target=\"_blank\" href=https://colab.research.google.com/notebooks/data_table.ipynb>data table notebook</a>'\n",
              "            + ' to learn more about interactive tables.';\n",
              "          element.innerHTML = '';\n",
              "          dataTable['output_type'] = 'display_data';\n",
              "          await google.colab.output.renderOutput(dataTable, element);\n",
              "          const docLink = document.createElement('div');\n",
              "          docLink.innerHTML = docLinkHtml;\n",
              "          element.appendChild(docLink);\n",
              "        }\n",
              "      </script>\n",
              "    </div>\n",
              "  </div>\n",
              "  "
            ],
            "text/plain": [
              "    PTS  REB  AST  BLK  SEASON_EXP    SALARY  DRAFT_firstround_lottery  \\\n",
              "0   6.5  5.1  0.8  0.5           1   2711280                         0   \n",
              "1   9.3  7.9  1.4  0.9           8  17073171                         1   \n",
              "2  13.2  8.2  3.5  0.9           4  28103550                         1   \n",
              "3   3.3  2.4  0.5  0.3           0   1994520                         0   \n",
              "4  19.1  8.1  1.9  1.1          15   2641691                         1   \n",
              "\n",
              "   DRAFT_firstround_non_lottery  DRAFT_second_round  DRAFT_undrafted  ...  \\\n",
              "0                             1                   0                0  ...   \n",
              "1                             0                   0                0  ...   \n",
              "2                             0                   0                0  ...   \n",
              "3                             1                   0                0  ...   \n",
              "4                             0                   0                0  ...   \n",
              "\n",
              "   TEAM_NAME_Pistons  TEAM_NAME_Raptors  TEAM_NAME_Rockets  TEAM_NAME_Spurs  \\\n",
              "0                  0                  1                  0                0   \n",
              "1                  0                  0                  0                0   \n",
              "2                  0                  0                  0                0   \n",
              "3                  0                  0                  0                0   \n",
              "4                  0                  0                  0                0   \n",
              "\n",
              "   TEAM_NAME_Suns  TEAM_NAME_Thunder  TEAM_NAME_Timberwolves  \\\n",
              "0               0                  0                       0   \n",
              "1               0                  0                       0   \n",
              "2               0                  0                       0   \n",
              "3               0                  0                       0   \n",
              "4               0                  0                       0   \n",
              "\n",
              "   TEAM_NAME_Trail Blazers  TEAM_NAME_Warriors  TEAM_NAME_Wizards  \n",
              "0                        0                   0                  0  \n",
              "1                        0                   0                  0  \n",
              "2                        0                   0                  0  \n",
              "3                        0                   0                  0  \n",
              "4                        0                   0                  0  \n",
              "\n",
              "[5 rows x 43 columns]"
            ]
          },
          "execution_count": 35,
          "metadata": {},
          "output_type": "execute_result"
        }
      ],
      "source": [
        "# Convert categorical features to encoded vectors using get_dummies\n",
        "df = pd.get_dummies(df, columns=['DRAFT', 'POSITION','TEAM_NAME'])\n",
        "df.head()\n"
      ]
    },
    {
      "cell_type": "markdown",
      "id": "9816d9d4-b44d-4bb7-9cad-156daee9dc50",
      "metadata": {
        "id": "9816d9d4-b44d-4bb7-9cad-156daee9dc50"
      },
      "source": [
        "#### Modeling"
      ]
    },
    {
      "cell_type": "markdown",
      "id": "1eb528f1-852e-428e-b97c-40b412985f98",
      "metadata": {
        "id": "1eb528f1-852e-428e-b97c-40b412985f98"
      },
      "source": [
        "1.13. Split the dataset into train and test"
      ]
    },
    {
      "cell_type": "code",
      "execution_count": null,
      "id": "7696efd0-94f8-49ce-846f-4fd24a01b0fd",
      "metadata": {
        "id": "7696efd0-94f8-49ce-846f-4fd24a01b0fd"
      },
      "outputs": [],
      "source": [
        "targets = df['SALARY']\n",
        "inputs =  df.drop(['SALARY'],axis=1)\n",
        "\n",
        "dfx_train, dfx_test, dfy_train, dfy_test = train_test_split(inputs, targets, test_size=0.2, random_state=22)"
      ]
    },
    {
      "cell_type": "markdown",
      "id": "b2540df8-ac16-4ad1-b8cf-028f566faa06",
      "metadata": {
        "id": "b2540df8-ac16-4ad1-b8cf-028f566faa06"
      },
      "source": [
        "1.14. Perform feature scaling in all the numerical features (\"PTS\", \"REB\", \"AST\", \"BLK\", \"SEASON_EXP\") except for draft number"
      ]
    },
    {
      "cell_type": "code",
      "execution_count": null,
      "id": "94c1b356-8f74-4a20-8b9d-9dd61b6e3dec",
      "metadata": {
        "id": "94c1b356-8f74-4a20-8b9d-9dd61b6e3dec"
      },
      "outputs": [],
      "source": [
        "features = [\"PTS\", \"REB\", \"AST\", \"BLK\", \"SEASON_EXP\"]\n",
        "\n",
        "# 1) Call the scaler\n",
        "mm_scaler = MinMaxScaler(feature_range=(0, 1), clip=False)\n",
        "\n",
        "# 2) fit:\n",
        "\n",
        "dfx_train[features] = mm_scaler.fit_transform(dfx_train[features])#.values.reshape(-1, 1))\n",
        "\n",
        "# 3) now on the test:\n",
        "\n",
        "dfx_test[features] = mm_scaler.transform(dfx_test[features])#.values.reshape(-1, 1))\n"
      ]
    },
    {
      "cell_type": "code",
      "execution_count": null,
      "id": "wIFzTzm6qKvD",
      "metadata": {
        "colab": {
          "base_uri": "https://localhost:8080/",
          "height": 254
        },
        "id": "wIFzTzm6qKvD",
        "outputId": "ac114b77-0f59-49fb-99d5-661e1e7107fe"
      },
      "outputs": [
        {
          "data": {
            "text/html": [
              "\n",
              "  <div id=\"df-3e5d1f3e-fae6-4707-bbcd-e0be934abf51\">\n",
              "    <div class=\"colab-df-container\">\n",
              "      <div>\n",
              "<style scoped>\n",
              "    .dataframe tbody tr th:only-of-type {\n",
              "        vertical-align: middle;\n",
              "    }\n",
              "\n",
              "    .dataframe tbody tr th {\n",
              "        vertical-align: top;\n",
              "    }\n",
              "\n",
              "    .dataframe thead th {\n",
              "        text-align: right;\n",
              "    }\n",
              "</style>\n",
              "<table border=\"1\" class=\"dataframe\">\n",
              "  <thead>\n",
              "    <tr style=\"text-align: right;\">\n",
              "      <th></th>\n",
              "      <th>PTS</th>\n",
              "      <th>REB</th>\n",
              "      <th>AST</th>\n",
              "      <th>BLK</th>\n",
              "      <th>SEASON_EXP</th>\n",
              "      <th>DRAFT_firstround_lottery</th>\n",
              "      <th>DRAFT_firstround_non_lottery</th>\n",
              "      <th>DRAFT_second_round</th>\n",
              "      <th>DRAFT_undrafted</th>\n",
              "      <th>POSITION_Center</th>\n",
              "      <th>...</th>\n",
              "      <th>TEAM_NAME_Pistons</th>\n",
              "      <th>TEAM_NAME_Raptors</th>\n",
              "      <th>TEAM_NAME_Rockets</th>\n",
              "      <th>TEAM_NAME_Spurs</th>\n",
              "      <th>TEAM_NAME_Suns</th>\n",
              "      <th>TEAM_NAME_Thunder</th>\n",
              "      <th>TEAM_NAME_Timberwolves</th>\n",
              "      <th>TEAM_NAME_Trail Blazers</th>\n",
              "      <th>TEAM_NAME_Warriors</th>\n",
              "      <th>TEAM_NAME_Wizards</th>\n",
              "    </tr>\n",
              "  </thead>\n",
              "  <tbody>\n",
              "    <tr>\n",
              "      <th>418</th>\n",
              "      <td>0.468635</td>\n",
              "      <td>0.484375</td>\n",
              "      <td>0.126316</td>\n",
              "      <td>1.000000</td>\n",
              "      <td>0.333333</td>\n",
              "      <td>1</td>\n",
              "      <td>0</td>\n",
              "      <td>0</td>\n",
              "      <td>0</td>\n",
              "      <td>1</td>\n",
              "      <td>...</td>\n",
              "      <td>0</td>\n",
              "      <td>0</td>\n",
              "      <td>0</td>\n",
              "      <td>0</td>\n",
              "      <td>0</td>\n",
              "      <td>0</td>\n",
              "      <td>0</td>\n",
              "      <td>0</td>\n",
              "      <td>0</td>\n",
              "      <td>0</td>\n",
              "    </tr>\n",
              "    <tr>\n",
              "      <th>380</th>\n",
              "      <td>0.324723</td>\n",
              "      <td>0.101562</td>\n",
              "      <td>0.168421</td>\n",
              "      <td>0.043478</td>\n",
              "      <td>0.166667</td>\n",
              "      <td>0</td>\n",
              "      <td>1</td>\n",
              "      <td>0</td>\n",
              "      <td>0</td>\n",
              "      <td>0</td>\n",
              "      <td>...</td>\n",
              "      <td>0</td>\n",
              "      <td>0</td>\n",
              "      <td>0</td>\n",
              "      <td>0</td>\n",
              "      <td>1</td>\n",
              "      <td>0</td>\n",
              "      <td>0</td>\n",
              "      <td>0</td>\n",
              "      <td>0</td>\n",
              "      <td>0</td>\n",
              "    </tr>\n",
              "    <tr>\n",
              "      <th>147</th>\n",
              "      <td>0.453875</td>\n",
              "      <td>0.867188</td>\n",
              "      <td>0.136842</td>\n",
              "      <td>0.956522</td>\n",
              "      <td>0.444444</td>\n",
              "      <td>0</td>\n",
              "      <td>1</td>\n",
              "      <td>0</td>\n",
              "      <td>0</td>\n",
              "      <td>1</td>\n",
              "      <td>...</td>\n",
              "      <td>0</td>\n",
              "      <td>0</td>\n",
              "      <td>0</td>\n",
              "      <td>0</td>\n",
              "      <td>0</td>\n",
              "      <td>0</td>\n",
              "      <td>0</td>\n",
              "      <td>0</td>\n",
              "      <td>0</td>\n",
              "      <td>0</td>\n",
              "    </tr>\n",
              "  </tbody>\n",
              "</table>\n",
              "<p>3 rows × 42 columns</p>\n",
              "</div>\n",
              "      <button class=\"colab-df-convert\" onclick=\"convertToInteractive('df-3e5d1f3e-fae6-4707-bbcd-e0be934abf51')\"\n",
              "              title=\"Convert this dataframe to an interactive table.\"\n",
              "              style=\"display:none;\">\n",
              "        \n",
              "  <svg xmlns=\"http://www.w3.org/2000/svg\" height=\"24px\"viewBox=\"0 0 24 24\"\n",
              "       width=\"24px\">\n",
              "    <path d=\"M0 0h24v24H0V0z\" fill=\"none\"/>\n",
              "    <path d=\"M18.56 5.44l.94 2.06.94-2.06 2.06-.94-2.06-.94-.94-2.06-.94 2.06-2.06.94zm-11 1L8.5 8.5l.94-2.06 2.06-.94-2.06-.94L8.5 2.5l-.94 2.06-2.06.94zm10 10l.94 2.06.94-2.06 2.06-.94-2.06-.94-.94-2.06-.94 2.06-2.06.94z\"/><path d=\"M17.41 7.96l-1.37-1.37c-.4-.4-.92-.59-1.43-.59-.52 0-1.04.2-1.43.59L10.3 9.45l-7.72 7.72c-.78.78-.78 2.05 0 2.83L4 21.41c.39.39.9.59 1.41.59.51 0 1.02-.2 1.41-.59l7.78-7.78 2.81-2.81c.8-.78.8-2.07 0-2.86zM5.41 20L4 18.59l7.72-7.72 1.47 1.35L5.41 20z\"/>\n",
              "  </svg>\n",
              "      </button>\n",
              "      \n",
              "  <style>\n",
              "    .colab-df-container {\n",
              "      display:flex;\n",
              "      flex-wrap:wrap;\n",
              "      gap: 12px;\n",
              "    }\n",
              "\n",
              "    .colab-df-convert {\n",
              "      background-color: #E8F0FE;\n",
              "      border: none;\n",
              "      border-radius: 50%;\n",
              "      cursor: pointer;\n",
              "      display: none;\n",
              "      fill: #1967D2;\n",
              "      height: 32px;\n",
              "      padding: 0 0 0 0;\n",
              "      width: 32px;\n",
              "    }\n",
              "\n",
              "    .colab-df-convert:hover {\n",
              "      background-color: #E2EBFA;\n",
              "      box-shadow: 0px 1px 2px rgba(60, 64, 67, 0.3), 0px 1px 3px 1px rgba(60, 64, 67, 0.15);\n",
              "      fill: #174EA6;\n",
              "    }\n",
              "\n",
              "    [theme=dark] .colab-df-convert {\n",
              "      background-color: #3B4455;\n",
              "      fill: #D2E3FC;\n",
              "    }\n",
              "\n",
              "    [theme=dark] .colab-df-convert:hover {\n",
              "      background-color: #434B5C;\n",
              "      box-shadow: 0px 1px 3px 1px rgba(0, 0, 0, 0.15);\n",
              "      filter: drop-shadow(0px 1px 2px rgba(0, 0, 0, 0.3));\n",
              "      fill: #FFFFFF;\n",
              "    }\n",
              "  </style>\n",
              "\n",
              "      <script>\n",
              "        const buttonEl =\n",
              "          document.querySelector('#df-3e5d1f3e-fae6-4707-bbcd-e0be934abf51 button.colab-df-convert');\n",
              "        buttonEl.style.display =\n",
              "          google.colab.kernel.accessAllowed ? 'block' : 'none';\n",
              "\n",
              "        async function convertToInteractive(key) {\n",
              "          const element = document.querySelector('#df-3e5d1f3e-fae6-4707-bbcd-e0be934abf51');\n",
              "          const dataTable =\n",
              "            await google.colab.kernel.invokeFunction('convertToInteractive',\n",
              "                                                     [key], {});\n",
              "          if (!dataTable) return;\n",
              "\n",
              "          const docLinkHtml = 'Like what you see? Visit the ' +\n",
              "            '<a target=\"_blank\" href=https://colab.research.google.com/notebooks/data_table.ipynb>data table notebook</a>'\n",
              "            + ' to learn more about interactive tables.';\n",
              "          element.innerHTML = '';\n",
              "          dataTable['output_type'] = 'display_data';\n",
              "          await google.colab.output.renderOutput(dataTable, element);\n",
              "          const docLink = document.createElement('div');\n",
              "          docLink.innerHTML = docLinkHtml;\n",
              "          element.appendChild(docLink);\n",
              "        }\n",
              "      </script>\n",
              "    </div>\n",
              "  </div>\n",
              "  "
            ],
            "text/plain": [
              "          PTS       REB       AST       BLK  SEASON_EXP  \\\n",
              "418  0.468635  0.484375  0.126316  1.000000    0.333333   \n",
              "380  0.324723  0.101562  0.168421  0.043478    0.166667   \n",
              "147  0.453875  0.867188  0.136842  0.956522    0.444444   \n",
              "\n",
              "     DRAFT_firstround_lottery  DRAFT_firstround_non_lottery  \\\n",
              "418                         1                             0   \n",
              "380                         0                             1   \n",
              "147                         0                             1   \n",
              "\n",
              "     DRAFT_second_round  DRAFT_undrafted  POSITION_Center  ...  \\\n",
              "418                   0                0                1  ...   \n",
              "380                   0                0                0  ...   \n",
              "147                   0                0                1  ...   \n",
              "\n",
              "     TEAM_NAME_Pistons  TEAM_NAME_Raptors  TEAM_NAME_Rockets  TEAM_NAME_Spurs  \\\n",
              "418                  0                  0                  0                0   \n",
              "380                  0                  0                  0                0   \n",
              "147                  0                  0                  0                0   \n",
              "\n",
              "     TEAM_NAME_Suns  TEAM_NAME_Thunder  TEAM_NAME_Timberwolves  \\\n",
              "418               0                  0                       0   \n",
              "380               1                  0                       0   \n",
              "147               0                  0                       0   \n",
              "\n",
              "     TEAM_NAME_Trail Blazers  TEAM_NAME_Warriors  TEAM_NAME_Wizards  \n",
              "418                        0                   0                  0  \n",
              "380                        0                   0                  0  \n",
              "147                        0                   0                  0  \n",
              "\n",
              "[3 rows x 42 columns]"
            ]
          },
          "execution_count": 38,
          "metadata": {},
          "output_type": "execute_result"
        }
      ],
      "source": [
        "dfx_train.head(3)"
      ]
    },
    {
      "cell_type": "code",
      "execution_count": null,
      "id": "bXSonAZXqOvu",
      "metadata": {
        "colab": {
          "base_uri": "https://localhost:8080/",
          "height": 254
        },
        "id": "bXSonAZXqOvu",
        "outputId": "d75e1095-009b-46e0-9b65-c611028c6b18"
      },
      "outputs": [
        {
          "data": {
            "text/html": [
              "\n",
              "  <div id=\"df-f9831217-ff4e-4eb5-ae0e-b7bbbe7fee74\">\n",
              "    <div class=\"colab-df-container\">\n",
              "      <div>\n",
              "<style scoped>\n",
              "    .dataframe tbody tr th:only-of-type {\n",
              "        vertical-align: middle;\n",
              "    }\n",
              "\n",
              "    .dataframe tbody tr th {\n",
              "        vertical-align: top;\n",
              "    }\n",
              "\n",
              "    .dataframe thead th {\n",
              "        text-align: right;\n",
              "    }\n",
              "</style>\n",
              "<table border=\"1\" class=\"dataframe\">\n",
              "  <thead>\n",
              "    <tr style=\"text-align: right;\">\n",
              "      <th></th>\n",
              "      <th>PTS</th>\n",
              "      <th>REB</th>\n",
              "      <th>AST</th>\n",
              "      <th>BLK</th>\n",
              "      <th>SEASON_EXP</th>\n",
              "      <th>DRAFT_firstround_lottery</th>\n",
              "      <th>DRAFT_firstround_non_lottery</th>\n",
              "      <th>DRAFT_second_round</th>\n",
              "      <th>DRAFT_undrafted</th>\n",
              "      <th>POSITION_Center</th>\n",
              "      <th>...</th>\n",
              "      <th>TEAM_NAME_Pistons</th>\n",
              "      <th>TEAM_NAME_Raptors</th>\n",
              "      <th>TEAM_NAME_Rockets</th>\n",
              "      <th>TEAM_NAME_Spurs</th>\n",
              "      <th>TEAM_NAME_Suns</th>\n",
              "      <th>TEAM_NAME_Thunder</th>\n",
              "      <th>TEAM_NAME_Timberwolves</th>\n",
              "      <th>TEAM_NAME_Trail Blazers</th>\n",
              "      <th>TEAM_NAME_Warriors</th>\n",
              "      <th>TEAM_NAME_Wizards</th>\n",
              "    </tr>\n",
              "  </thead>\n",
              "  <tbody>\n",
              "    <tr>\n",
              "      <th>66</th>\n",
              "      <td>0.206642</td>\n",
              "      <td>0.226562</td>\n",
              "      <td>0.105263</td>\n",
              "      <td>0.086957</td>\n",
              "      <td>0.222222</td>\n",
              "      <td>0</td>\n",
              "      <td>0</td>\n",
              "      <td>1</td>\n",
              "      <td>0</td>\n",
              "      <td>0</td>\n",
              "      <td>...</td>\n",
              "      <td>0</td>\n",
              "      <td>0</td>\n",
              "      <td>0</td>\n",
              "      <td>0</td>\n",
              "      <td>0</td>\n",
              "      <td>0</td>\n",
              "      <td>0</td>\n",
              "      <td>0</td>\n",
              "      <td>0</td>\n",
              "      <td>0</td>\n",
              "    </tr>\n",
              "    <tr>\n",
              "      <th>180</th>\n",
              "      <td>0.601476</td>\n",
              "      <td>0.320312</td>\n",
              "      <td>0.336842</td>\n",
              "      <td>0.086957</td>\n",
              "      <td>0.111111</td>\n",
              "      <td>1</td>\n",
              "      <td>0</td>\n",
              "      <td>0</td>\n",
              "      <td>0</td>\n",
              "      <td>0</td>\n",
              "      <td>...</td>\n",
              "      <td>0</td>\n",
              "      <td>0</td>\n",
              "      <td>0</td>\n",
              "      <td>0</td>\n",
              "      <td>0</td>\n",
              "      <td>0</td>\n",
              "      <td>0</td>\n",
              "      <td>0</td>\n",
              "      <td>0</td>\n",
              "      <td>0</td>\n",
              "    </tr>\n",
              "    <tr>\n",
              "      <th>31</th>\n",
              "      <td>0.188192</td>\n",
              "      <td>0.195312</td>\n",
              "      <td>0.063158</td>\n",
              "      <td>0.173913</td>\n",
              "      <td>0.166667</td>\n",
              "      <td>0</td>\n",
              "      <td>0</td>\n",
              "      <td>1</td>\n",
              "      <td>0</td>\n",
              "      <td>0</td>\n",
              "      <td>...</td>\n",
              "      <td>0</td>\n",
              "      <td>0</td>\n",
              "      <td>0</td>\n",
              "      <td>1</td>\n",
              "      <td>0</td>\n",
              "      <td>0</td>\n",
              "      <td>0</td>\n",
              "      <td>0</td>\n",
              "      <td>0</td>\n",
              "      <td>0</td>\n",
              "    </tr>\n",
              "  </tbody>\n",
              "</table>\n",
              "<p>3 rows × 42 columns</p>\n",
              "</div>\n",
              "      <button class=\"colab-df-convert\" onclick=\"convertToInteractive('df-f9831217-ff4e-4eb5-ae0e-b7bbbe7fee74')\"\n",
              "              title=\"Convert this dataframe to an interactive table.\"\n",
              "              style=\"display:none;\">\n",
              "        \n",
              "  <svg xmlns=\"http://www.w3.org/2000/svg\" height=\"24px\"viewBox=\"0 0 24 24\"\n",
              "       width=\"24px\">\n",
              "    <path d=\"M0 0h24v24H0V0z\" fill=\"none\"/>\n",
              "    <path d=\"M18.56 5.44l.94 2.06.94-2.06 2.06-.94-2.06-.94-.94-2.06-.94 2.06-2.06.94zm-11 1L8.5 8.5l.94-2.06 2.06-.94-2.06-.94L8.5 2.5l-.94 2.06-2.06.94zm10 10l.94 2.06.94-2.06 2.06-.94-2.06-.94-.94-2.06-.94 2.06-2.06.94z\"/><path d=\"M17.41 7.96l-1.37-1.37c-.4-.4-.92-.59-1.43-.59-.52 0-1.04.2-1.43.59L10.3 9.45l-7.72 7.72c-.78.78-.78 2.05 0 2.83L4 21.41c.39.39.9.59 1.41.59.51 0 1.02-.2 1.41-.59l7.78-7.78 2.81-2.81c.8-.78.8-2.07 0-2.86zM5.41 20L4 18.59l7.72-7.72 1.47 1.35L5.41 20z\"/>\n",
              "  </svg>\n",
              "      </button>\n",
              "      \n",
              "  <style>\n",
              "    .colab-df-container {\n",
              "      display:flex;\n",
              "      flex-wrap:wrap;\n",
              "      gap: 12px;\n",
              "    }\n",
              "\n",
              "    .colab-df-convert {\n",
              "      background-color: #E8F0FE;\n",
              "      border: none;\n",
              "      border-radius: 50%;\n",
              "      cursor: pointer;\n",
              "      display: none;\n",
              "      fill: #1967D2;\n",
              "      height: 32px;\n",
              "      padding: 0 0 0 0;\n",
              "      width: 32px;\n",
              "    }\n",
              "\n",
              "    .colab-df-convert:hover {\n",
              "      background-color: #E2EBFA;\n",
              "      box-shadow: 0px 1px 2px rgba(60, 64, 67, 0.3), 0px 1px 3px 1px rgba(60, 64, 67, 0.15);\n",
              "      fill: #174EA6;\n",
              "    }\n",
              "\n",
              "    [theme=dark] .colab-df-convert {\n",
              "      background-color: #3B4455;\n",
              "      fill: #D2E3FC;\n",
              "    }\n",
              "\n",
              "    [theme=dark] .colab-df-convert:hover {\n",
              "      background-color: #434B5C;\n",
              "      box-shadow: 0px 1px 3px 1px rgba(0, 0, 0, 0.15);\n",
              "      filter: drop-shadow(0px 1px 2px rgba(0, 0, 0, 0.3));\n",
              "      fill: #FFFFFF;\n",
              "    }\n",
              "  </style>\n",
              "\n",
              "      <script>\n",
              "        const buttonEl =\n",
              "          document.querySelector('#df-f9831217-ff4e-4eb5-ae0e-b7bbbe7fee74 button.colab-df-convert');\n",
              "        buttonEl.style.display =\n",
              "          google.colab.kernel.accessAllowed ? 'block' : 'none';\n",
              "\n",
              "        async function convertToInteractive(key) {\n",
              "          const element = document.querySelector('#df-f9831217-ff4e-4eb5-ae0e-b7bbbe7fee74');\n",
              "          const dataTable =\n",
              "            await google.colab.kernel.invokeFunction('convertToInteractive',\n",
              "                                                     [key], {});\n",
              "          if (!dataTable) return;\n",
              "\n",
              "          const docLinkHtml = 'Like what you see? Visit the ' +\n",
              "            '<a target=\"_blank\" href=https://colab.research.google.com/notebooks/data_table.ipynb>data table notebook</a>'\n",
              "            + ' to learn more about interactive tables.';\n",
              "          element.innerHTML = '';\n",
              "          dataTable['output_type'] = 'display_data';\n",
              "          await google.colab.output.renderOutput(dataTable, element);\n",
              "          const docLink = document.createElement('div');\n",
              "          docLink.innerHTML = docLinkHtml;\n",
              "          element.appendChild(docLink);\n",
              "        }\n",
              "      </script>\n",
              "    </div>\n",
              "  </div>\n",
              "  "
            ],
            "text/plain": [
              "          PTS       REB       AST       BLK  SEASON_EXP  \\\n",
              "66   0.206642  0.226562  0.105263  0.086957    0.222222   \n",
              "180  0.601476  0.320312  0.336842  0.086957    0.111111   \n",
              "31   0.188192  0.195312  0.063158  0.173913    0.166667   \n",
              "\n",
              "     DRAFT_firstround_lottery  DRAFT_firstround_non_lottery  \\\n",
              "66                          0                             0   \n",
              "180                         1                             0   \n",
              "31                          0                             0   \n",
              "\n",
              "     DRAFT_second_round  DRAFT_undrafted  POSITION_Center  ...  \\\n",
              "66                    1                0                0  ...   \n",
              "180                   0                0                0  ...   \n",
              "31                    1                0                0  ...   \n",
              "\n",
              "     TEAM_NAME_Pistons  TEAM_NAME_Raptors  TEAM_NAME_Rockets  TEAM_NAME_Spurs  \\\n",
              "66                   0                  0                  0                0   \n",
              "180                  0                  0                  0                0   \n",
              "31                   0                  0                  0                1   \n",
              "\n",
              "     TEAM_NAME_Suns  TEAM_NAME_Thunder  TEAM_NAME_Timberwolves  \\\n",
              "66                0                  0                       0   \n",
              "180               0                  0                       0   \n",
              "31                0                  0                       0   \n",
              "\n",
              "     TEAM_NAME_Trail Blazers  TEAM_NAME_Warriors  TEAM_NAME_Wizards  \n",
              "66                         0                   0                  0  \n",
              "180                        0                   0                  0  \n",
              "31                         0                   0                  0  \n",
              "\n",
              "[3 rows x 42 columns]"
            ]
          },
          "execution_count": 39,
          "metadata": {},
          "output_type": "execute_result"
        }
      ],
      "source": [
        "dfx_test.head(3)"
      ]
    },
    {
      "cell_type": "code",
      "execution_count": null,
      "id": "RVIjyzKvqier",
      "metadata": {
        "colab": {
          "base_uri": "https://localhost:8080/"
        },
        "id": "RVIjyzKvqier",
        "outputId": "4e4502c8-67a2-49c7-b743-7b03b54ceb25"
      },
      "outputs": [
        {
          "name": "stdout",
          "output_type": "stream",
          "text": [
            "(367, 42) (92, 42)\n"
          ]
        }
      ],
      "source": [
        "print(dfx_train.shape, dfx_test.shape)"
      ]
    },
    {
      "cell_type": "markdown",
      "id": "7790c25a-b516-4e3f-b311-6e5b026bfb80",
      "metadata": {
        "id": "7790c25a-b516-4e3f-b311-6e5b026bfb80"
      },
      "source": [
        "1.15. Write a function to train a SGDRegressor model with the new dataset, trying different hyperparameters, and selecting the one that performs the best."
      ]
    },
    {
      "cell_type": "code",
      "execution_count": null,
      "id": "7d8642f3-895c-4d8d-85b7-80a087a0adef",
      "metadata": {
        "id": "7d8642f3-895c-4d8d-85b7-80a087a0adef"
      },
      "outputs": [],
      "source": [
        "def search_best_hyperparameters2(epochs, learning_rates, alphas):\n",
        "    result = {\n",
        "        \"hyperparameters\": {\"epochs\": None, \"lr\": None, \"alpha\": None}, \n",
        "        \"mae\": None\n",
        "    }\n",
        "    # Complete your code here:\n",
        "    \n",
        "    # For each combination of parameters: \n",
        "    #   evaluate the trained algorithm on the test set, \n",
        "    #   then save the results of each hyperparameter combination, \n",
        "    #   finally select the one that has the best MAE (meaning the lowest number) \n",
        "    #   and print the combination and the MAE.\n",
        "\n",
        " # dfx_train, dfx_test, dfy_train, dfy_test   \n",
        "\n",
        "    mae_low = 10000000000000\n",
        "    \n",
        "    for i in epochs:\n",
        "      for j in learning_rates:\n",
        "        for k in alphas:\n",
        "          \n",
        "          # I call the model with the hiperparameters i, j, k:\n",
        "          sgd_lr = SGDRegressor(loss='squared_error', alpha = k, eta0 = j, max_iter = i)\n",
        "          \n",
        "          # I fit the model:\n",
        "          sgd_lr.fit(dfx_train, dfy_train)\n",
        "          \n",
        "          # I calculate the mean sq error:\n",
        "          mae = mean_absolute_error( dfy_test, sgd_lr.predict(dfx_test))\n",
        "          \n",
        "          # mae is always > 0:\n",
        "          if mae < mae_low:\n",
        "            mae_low = mae\n",
        "            result ['mae'] = mae\n",
        "            result ['hyperparameters'] = {\"epochs\": i, \"lr\": j, \"alpha\": k}\n",
        "    \n",
        "    return result"
      ]
    },
    {
      "cell_type": "code",
      "execution_count": null,
      "id": "VNBQVo2Ertb-",
      "metadata": {
        "colab": {
          "base_uri": "https://localhost:8080/"
        },
        "id": "VNBQVo2Ertb-",
        "outputId": "ad754799-a1c5-4faa-bb63-431f736bba23"
      },
      "outputs": [
        {
          "name": "stderr",
          "output_type": "stream",
          "text": [
            "/usr/local/lib/python3.7/dist-packages/sklearn/linear_model/_stochastic_gradient.py:1507: ConvergenceWarning: Maximum number of iteration reached before convergence. Consider increasing max_iter to improve the fit.\n",
            "  ConvergenceWarning,\n",
            "/usr/local/lib/python3.7/dist-packages/sklearn/linear_model/_stochastic_gradient.py:1507: ConvergenceWarning: Maximum number of iteration reached before convergence. Consider increasing max_iter to improve the fit.\n",
            "  ConvergenceWarning,\n",
            "/usr/local/lib/python3.7/dist-packages/sklearn/linear_model/_stochastic_gradient.py:1507: ConvergenceWarning: Maximum number of iteration reached before convergence. Consider increasing max_iter to improve the fit.\n",
            "  ConvergenceWarning,\n",
            "/usr/local/lib/python3.7/dist-packages/sklearn/linear_model/_stochastic_gradient.py:1507: ConvergenceWarning: Maximum number of iteration reached before convergence. Consider increasing max_iter to improve the fit.\n",
            "  ConvergenceWarning,\n"
          ]
        },
        {
          "name": "stdout",
          "output_type": "stream",
          "text": [
            "{'hyperparameters': {'epochs': 1000, 'lr': 0.0001, 'alpha': 0.01}, 'mae': 4679505.3364}\n"
          ]
        }
      ],
      "source": [
        "# Example list of hyperparameters values\n",
        "max_iter = [1000, 1000000]\n",
        "eta0 = [0.0001, 0.001, 0.01, 0.1]\n",
        "alphas = [0.0001, 0.001, 0.01, 0.8]\n",
        "result2 = search_best_hyperparameters(max_iter, eta0,alphas)\n",
        "print(result2)"
      ]
    },
    {
      "cell_type": "markdown",
      "id": "33d63bc7-448d-40a6-a314-6602c75e2284",
      "metadata": {
        "id": "33d63bc7-448d-40a6-a314-6602c75e2284"
      },
      "source": [
        "1.16. How did the model performed compared to our univariate models? "
      ]
    },
    {
      "cell_type": "code",
      "execution_count": null,
      "id": "b8dc264b-1fde-4de3-9099-a526210075fa",
      "metadata": {
        "colab": {
          "base_uri": "https://localhost:8080/"
        },
        "id": "b8dc264b-1fde-4de3-9099-a526210075fa",
        "outputId": "dd90f914-00e7-4b0d-9aca-6172df523731"
      },
      "outputs": [
        {
          "name": "stdout",
          "output_type": "stream",
          "text": [
            "Mean Absolute Error for each model:\n",
            "Baseline: 7307666.0\n",
            "Default SGDRegressor: 4740185.837296232\n",
            "Best SGDRegressor: dict_values([{'epochs': 1000, 'lr': 0.2, 'alpha': 0.01}, 4714855.3099])\n",
            "Best SGDRegressor: dict_values([{'epochs': 1000, 'lr': 0.0001, 'alpha': 0.01}, 4679505.3364])\n"
          ]
        }
      ],
      "source": [
        "print(\"Mean Absolute Error for each model:\" )\n",
        "print(f\"Baseline: {mae_bl}\")\n",
        "print(f\"Default SGDRegressor: {mae_sgd}\")\n",
        "print(f\"Best SGDRegressor: {result.values()}\")\n",
        "print(f\"Best SGDRegressor: {result2.values()}\")"
      ]
    },
    {
      "cell_type": "markdown",
      "id": "e9992197-563b-4a69-9cd7-97fcb9ee3677",
      "metadata": {
        "id": "e9992197-563b-4a69-9cd7-97fcb9ee3677",
        "tags": []
      },
      "source": [
        "### DecisionTreeRegressor\n",
        "\n",
        "It is possible that this problem might not be easily resolvable by a linear model, or that there could be better types of algorithms to tackle it. As an example, let's try with a very used algorithm, a Decision Tree.\n",
        "\n"
      ]
    },
    {
      "cell_type": "markdown",
      "id": "61930247-d4b0-4bdf-ad98-a421457e2c4a",
      "metadata": {
        "id": "61930247-d4b0-4bdf-ad98-a421457e2c4a"
      },
      "source": [
        "1.17. Create new model using [DecisionTreeRegressor](https://scikit-learn.org/stable/auto_examples/tree/plot_tree_regression.html) from scikit learn. We will use again all variables, and try different configuration for the following hyperparameters:\n",
        "\n",
        "- max_depth\n",
        "- min_samples_leaf\n",
        "- max_features\n",
        "\n",
        "These are all regularization hyperparameters for this algorithm. Read the documentation to get a better grasp of what each one does."
      ]
    },
    {
      "cell_type": "code",
      "execution_count": null,
      "id": "au9XOewwL8Ch",
      "metadata": {
        "colab": {
          "base_uri": "https://localhost:8080/"
        },
        "id": "au9XOewwL8Ch",
        "outputId": "c9c72249-a023-4ee7-ad4f-1d36a3c3143e"
      },
      "outputs": [
        {
          "name": "stdout",
          "output_type": "stream",
          "text": [
            "Tuned Decision Tree Parameters: {'min_samples_leaf': 2, 'max_features': 10, 'max_depth': 15}\n",
            "Best score is 0.3732181984669063\n",
            "The mean absolute error is:  4191907.058696667\n"
          ]
        }
      ],
      "source": [
        "# Import necessary modules\n",
        "from scipy.stats             import randint\n",
        "from sklearn.tree            import DecisionTreeClassifier\n",
        "from sklearn.model_selection import RandomizedSearchCV\n",
        "\n",
        "# Setup the parameters and distributions to sample from: param_dist\n",
        "param_dist = {\"max_depth\":        [5, 10, 15, 20, 50],\n",
        "              \"max_features\":     [5, 10] ,\n",
        "              \"min_samples_leaf\": [2, 10, 20, 50],        \n",
        "              }\n",
        "\n",
        "# Instantiate a Decision Tree classifier: tree\n",
        "tree = DecisionTreeRegressor()\n",
        "\n",
        "# Instantiate the RandomizedSearchCV object: tree_cv\n",
        "tree_cv = RandomizedSearchCV(tree, param_dist, cv=5)\n",
        "\n",
        "# Fit it to the data\n",
        "tree_cv.fit(dfx_train, dfy_train)\n",
        "\n",
        "# Print the tuned parameters and score\n",
        "print(\"Tuned Decision Tree Parameters: {}\".format(tree_cv.best_params_))\n",
        "print(\"Best score is {}\".format(tree_cv.best_score_))\n",
        "print('The mean absolute error is: ' ,mean_absolute_error( dfy_test, tree_cv.predict(dfx_test)))"
      ]
    },
    {
      "cell_type": "code",
      "execution_count": null,
      "id": "giaDIHlfu7U2",
      "metadata": {
        "id": "giaDIHlfu7U2"
      },
      "outputs": [],
      "source": [
        "# 1) call the model\n",
        "t_regressor = DecisionTreeRegressor()\n",
        "\n"
      ]
    },
    {
      "cell_type": "code",
      "execution_count": null,
      "id": "_p8OTlD-x_Xc",
      "metadata": {
        "colab": {
          "base_uri": "https://localhost:8080/"
        },
        "id": "_p8OTlD-x_Xc",
        "outputId": "e7ee88be-8176-436b-d1b3-83efbf27be4b"
      },
      "outputs": [
        {
          "data": {
            "text/plain": [
              "DecisionTreeRegressor()"
            ]
          },
          "execution_count": 51,
          "metadata": {},
          "output_type": "execute_result"
        }
      ],
      "source": [
        "# 2) train the model:\n",
        "t_regressor.fit(dfx_train, dfy_train)"
      ]
    },
    {
      "cell_type": "code",
      "execution_count": null,
      "id": "d393cdae-c2d7-40a0-a518-19f007edb242",
      "metadata": {
        "colab": {
          "base_uri": "https://localhost:8080/"
        },
        "id": "d393cdae-c2d7-40a0-a518-19f007edb242",
        "outputId": "49fd0201-00be-46a4-d88c-e2348b3dece3"
      },
      "outputs": [
        {
          "name": "stdout",
          "output_type": "stream",
          "text": [
            "3716069.663043478\n"
          ]
        }
      ],
      "source": [
        "# List of hyperparameter example values\n",
        "\n",
        "max_depth        = [5, 10, 15, 20, 50]\n",
        "min_samples_leaf = [2, 10, 20, 50]\n",
        "max_features     = [5, 10]         \n",
        "\n",
        "mae_low = 10000000000000000\n",
        "\n",
        "for d, l, f in itertools.product(max_depth, min_samples_leaf, max_features):\n",
        "  # 1) call the model with the hiperparameters:\n",
        "  t_regressor = DecisionTreeRegressor()\n",
        "  # 2) train the model:\n",
        "  t_regressor.fit(dfx_train, dfy_train)\n",
        "  # I calculate the mean sq error:\n",
        "  mae_t = mean_absolute_error( dfy_test, t_regressor.predict(dfx_test))\n",
        "  if mae_t < mae_low:\n",
        "            mae_low = mae_t\n",
        "            \n",
        "print(mae_t)  \n"
      ]
    },
    {
      "cell_type": "markdown",
      "id": "71ef72fc-7386-433c-9725-2055f4016ae9",
      "metadata": {
        "id": "71ef72fc-7386-433c-9725-2055f4016ae9"
      },
      "source": [
        "1.18. Compare the results obtained with the best decision tree model against the baseline, default and the best params sgd regressors-"
      ]
    },
    {
      "cell_type": "code",
      "execution_count": null,
      "id": "af1084d8-97a4-4618-b4f4-0952e0b39f09",
      "metadata": {
        "colab": {
          "base_uri": "https://localhost:8080/"
        },
        "id": "af1084d8-97a4-4618-b4f4-0952e0b39f09",
        "outputId": "b4d2749d-8b1d-4626-e655-1119dd5eb15f"
      },
      "outputs": [
        {
          "name": "stdout",
          "output_type": "stream",
          "text": [
            "Mean Absolute Error for each model:\n",
            "Baseline: 7307666.0\n",
            "Default SGDRegressor: 4740185.837296232\n",
            "Best SGDRegressor: dict_values([{'epochs': 1000, 'lr': 0.2, 'alpha': 0.01}, 4714855.3099])\n",
            "Best SGDRegressor2: dict_values([{'epochs': 1000, 'lr': 0.0001, 'alpha': 0.01}, 4679505.3364])\n",
            "Best Tree Regressor: 3716069.663\n",
            "The mean absolute RandomSearch error is:  4191907.0587\n"
          ]
        }
      ],
      "source": [
        "print(\"Mean Absolute Error for each model:\" )\n",
        "print(f\"Baseline: {mae_bl}\")\n",
        "print(f\"Default SGDRegressor: {mae_sgd}\")\n",
        "print(f\"Best SGDRegressor: {result.values()}\")\n",
        "print(f\"Best SGDRegressor2: {result2.values()}\")\n",
        "print(f\"Best Tree Regressor: {round(mae_t,4)}\")\n",
        "print('The mean absolute RandomSearch error is: ' ,round(mean_absolute_error( dfy_test, tree_cv.predict(dfx_test)),4))"
      ]
    },
    {
      "cell_type": "markdown",
      "id": "AzKUn8KArpn7",
      "metadata": {
        "id": "AzKUn8KArpn7"
      },
      "source": [
        "For now the t_model have the lowest MAE"
      ]
    },
    {
      "cell_type": "markdown",
      "id": "ce424a87-37af-470d-9a14-ec6ae2258eb1",
      "metadata": {
        "id": "ce424a87-37af-470d-9a14-ec6ae2258eb1"
      },
      "source": [
        "### Analyzing our results"
      ]
    },
    {
      "cell_type": "markdown",
      "id": "ed6c9746-ed98-4075-9a6a-adb24056d217",
      "metadata": {
        "id": "ed6c9746-ed98-4075-9a6a-adb24056d217"
      },
      "source": [
        "Based on what you found, and what you read about players salaries above, answer the following: "
      ]
    },
    {
      "cell_type": "markdown",
      "id": "e204456d-cb86-47a0-9c3c-6307d8a831fa",
      "metadata": {
        "id": "e204456d-cb86-47a0-9c3c-6307d8a831fa"
      },
      "source": [
        "1.19. Which kind of model worked better in this dataset, linear or non linear models? Do you have any hypothesis about why? "
      ]
    },
    {
      "cell_type": "markdown",
      "id": "8rRPjvjO3_ik",
      "metadata": {
        "id": "8rRPjvjO3_ik"
      },
      "source": [
        "As espected when we give the model more information (more fetures) better the aproximation. Of course we shoud be aware of the amount and quality of the features. But in this case its for a good result."
      ]
    },
    {
      "cell_type": "markdown",
      "id": "f09e5c20-3f7b-4938-a1b3-34ada990f181",
      "metadata": {
        "id": "f09e5c20-3f7b-4938-a1b3-34ada990f181"
      },
      "source": [
        "1.20. Is there something else we could do to improve our results if wanted to make a more accurate model?"
      ]
    },
    {
      "cell_type": "markdown",
      "id": "8e13cd04-55a1-4d7c-a815-f9410c7ba2e6",
      "metadata": {
        "id": "8e13cd04-55a1-4d7c-a815-f9410c7ba2e6"
      },
      "source": [
        "Yes, we coul get more data, or we could run for more hyperparamethers\n",
        "\n",
        "\n",
        "\n"
      ]
    },
    {
      "cell_type": "markdown",
      "id": "25e23c2a-a0bf-4d39-bc1b-9524107f3a02",
      "metadata": {
        "id": "25e23c2a-a0bf-4d39-bc1b-9524107f3a02",
        "tags": []
      },
      "source": [
        "## Star or no Star? Predicting players All-NBA selections"
      ]
    },
    {
      "cell_type": "markdown",
      "id": "26cd4fec-1b8b-4bfc-8024-dcdd5b8b803a",
      "metadata": {
        "id": "26cd4fec-1b8b-4bfc-8024-dcdd5b8b803a"
      },
      "source": [
        "In this section we're going to try to solve a different question:\n",
        "\n",
        "Can we train a model to predict which players are going to be selected to ALL-NBA teams at the end of the season? This is a [binary classification](https://en.wikipedia.org/wiki/Binary_classification) task, so we're training our first classifier model to solve this problem.\n",
        "\n",
        "Consider that:\n",
        "\n",
        "- Being selected as part of the [All-NBA teams](https://en.wikipedia.org/wiki/All-NBA_Team) is different than being selected for [All-Star Game](https://en.wikipedia.org/wiki/NBA_All-Star_Game). \n",
        "- You're trying to predict All-NBA selections, which takes place after the regular season but before playoffs start, so we're only going to use players and teams statistics about the regular season (you're not going to consider if the players got to the NBA finals for example). \n",
        "- All Star game takes place at the middle point of the regular season, players are selected based on partial season performance, and the general public has 50% of the votes, so it is also a more popularity-based award.\n",
        "- All-NBA teams are divided in first, second and third teams of 5 players each, divided by position: 2 front court players (guards), 2 backcourt players (forwards) and 1 center.\n",
        "- As only 15 players are selected to All-NBA teams each year (out of more than 400 qualifying players), our dataset is going to be imbalanced. You're going to have to find a good strategy to deal with this inbalance."
      ]
    },
    {
      "cell_type": "markdown",
      "id": "ef2353fa-10d7-48d1-85d7-f8743ee86698",
      "metadata": {
        "id": "ef2353fa-10d7-48d1-85d7-f8743ee86698"
      },
      "source": [
        "### Analyzing the data"
      ]
    },
    {
      "cell_type": "markdown",
      "id": "d4159ce5-fec3-48bb-93c5-058f2cbb55c5",
      "metadata": {
        "id": "d4159ce5-fec3-48bb-93c5-058f2cbb55c5"
      },
      "source": [
        "To do this task, you're going to need historical information about All-NBA selections. We'll use a dataset that contains information about players from season starting in 1990 and ending in the 2018-2019 season.\n",
        "The dataset contains statistics for all players, and a column named \"all-nba\" that is going to be our target variable, 1 means the player was selected to an All-NBA team that season.\n"
      ]
    },
    {
      "cell_type": "markdown",
      "id": "e6d64103-d6b5-4544-8ca5-81f99c937d73",
      "metadata": {
        "id": "e6d64103-d6b5-4544-8ca5-81f99c937d73"
      },
      "source": [
        "2.1. Load the dataset \"all_nba_1990_2017_dataset.csv\" from disk, look at the data inside it and print:\n",
        "- number of rows\n",
        "- number of seasons\n",
        "- number of unique players\n",
        "- number of all-nba selections vs non selected "
      ]
    },
    {
      "cell_type": "code",
      "execution_count": null,
      "id": "bb6725f6-418d-4159-b046-3bf33a8ead0b",
      "metadata": {
        "id": "bb6725f6-418d-4159-b046-3bf33a8ead0b"
      },
      "outputs": [],
      "source": [
        "import pandas as pd\n",
        "all_nba_df = pd.read_csv(\"https://raw.githubusercontent.com/anyoneai/notebooks/main/datasets/all_nba_1990_2017_dataset.csv\", index_col=0)"
      ]
    },
    {
      "cell_type": "markdown",
      "id": "P4wTuhASnyNT",
      "metadata": {
        "id": "P4wTuhASnyNT"
      },
      "source": [
        "First lets see our data\n"
      ]
    },
    {
      "cell_type": "code",
      "execution_count": null,
      "id": "zRLf8zYAZs7T",
      "metadata": {
        "colab": {
          "base_uri": "https://localhost:8080/",
          "height": 386
        },
        "id": "zRLf8zYAZs7T",
        "outputId": "192877bd-d50a-4f18-cc4d-8f23c67a99bf"
      },
      "outputs": [
        {
          "data": {
            "text/html": [
              "\n",
              "  <div id=\"df-9e2bcbe2-da38-45a3-aa5c-bb462c7090e9\">\n",
              "    <div class=\"colab-df-container\">\n",
              "      <div>\n",
              "<style scoped>\n",
              "    .dataframe tbody tr th:only-of-type {\n",
              "        vertical-align: middle;\n",
              "    }\n",
              "\n",
              "    .dataframe tbody tr th {\n",
              "        vertical-align: top;\n",
              "    }\n",
              "\n",
              "    .dataframe thead th {\n",
              "        text-align: right;\n",
              "    }\n",
              "</style>\n",
              "<table border=\"1\" class=\"dataframe\">\n",
              "  <thead>\n",
              "    <tr style=\"text-align: right;\">\n",
              "      <th></th>\n",
              "      <th>season_id</th>\n",
              "      <th>player_id</th>\n",
              "      <th>player_season</th>\n",
              "      <th>player</th>\n",
              "      <th>season</th>\n",
              "      <th>season_start</th>\n",
              "      <th>team</th>\n",
              "      <th>games</th>\n",
              "      <th>gamesstarted</th>\n",
              "      <th>mp</th>\n",
              "      <th>...</th>\n",
              "      <th>2p_perc</th>\n",
              "      <th>ft_perc</th>\n",
              "      <th>trb</th>\n",
              "      <th>ast</th>\n",
              "      <th>stl</th>\n",
              "      <th>blk</th>\n",
              "      <th>tov</th>\n",
              "      <th>pf</th>\n",
              "      <th>pts</th>\n",
              "      <th>all_nba</th>\n",
              "    </tr>\n",
              "  </thead>\n",
              "  <tbody>\n",
              "    <tr>\n",
              "      <th>0</th>\n",
              "      <td>0</td>\n",
              "      <td>0</td>\n",
              "      <td>1</td>\n",
              "      <td>Alaa Abdelnaby</td>\n",
              "      <td>1990-91</td>\n",
              "      <td>1990</td>\n",
              "      <td>POR</td>\n",
              "      <td>43</td>\n",
              "      <td>0</td>\n",
              "      <td>6.7</td>\n",
              "      <td>...</td>\n",
              "      <td>0.474</td>\n",
              "      <td>0.568</td>\n",
              "      <td>2.1</td>\n",
              "      <td>0.3</td>\n",
              "      <td>0.1</td>\n",
              "      <td>0.3</td>\n",
              "      <td>0.5</td>\n",
              "      <td>0.9</td>\n",
              "      <td>3.1</td>\n",
              "      <td>0</td>\n",
              "    </tr>\n",
              "    <tr>\n",
              "      <th>1</th>\n",
              "      <td>1</td>\n",
              "      <td>0</td>\n",
              "      <td>2</td>\n",
              "      <td>Alaa Abdelnaby</td>\n",
              "      <td>1991-92</td>\n",
              "      <td>1991</td>\n",
              "      <td>POR</td>\n",
              "      <td>71</td>\n",
              "      <td>1</td>\n",
              "      <td>13.2</td>\n",
              "      <td>...</td>\n",
              "      <td>0.493</td>\n",
              "      <td>0.752</td>\n",
              "      <td>3.7</td>\n",
              "      <td>0.4</td>\n",
              "      <td>0.4</td>\n",
              "      <td>0.2</td>\n",
              "      <td>0.9</td>\n",
              "      <td>1.9</td>\n",
              "      <td>6.1</td>\n",
              "      <td>0</td>\n",
              "    </tr>\n",
              "    <tr>\n",
              "      <th>2</th>\n",
              "      <td>2</td>\n",
              "      <td>0</td>\n",
              "      <td>3</td>\n",
              "      <td>Alaa Abdelnaby</td>\n",
              "      <td>1992-93</td>\n",
              "      <td>1992</td>\n",
              "      <td>TOT</td>\n",
              "      <td>75</td>\n",
              "      <td>52</td>\n",
              "      <td>17.5</td>\n",
              "      <td>...</td>\n",
              "      <td>0.519</td>\n",
              "      <td>0.759</td>\n",
              "      <td>4.5</td>\n",
              "      <td>0.4</td>\n",
              "      <td>0.3</td>\n",
              "      <td>0.3</td>\n",
              "      <td>1.3</td>\n",
              "      <td>2.5</td>\n",
              "      <td>7.7</td>\n",
              "      <td>0</td>\n",
              "    </tr>\n",
              "    <tr>\n",
              "      <th>3</th>\n",
              "      <td>3</td>\n",
              "      <td>0</td>\n",
              "      <td>4</td>\n",
              "      <td>Alaa Abdelnaby</td>\n",
              "      <td>1993-94</td>\n",
              "      <td>1993</td>\n",
              "      <td>BOS</td>\n",
              "      <td>13</td>\n",
              "      <td>0</td>\n",
              "      <td>12.2</td>\n",
              "      <td>...</td>\n",
              "      <td>0.436</td>\n",
              "      <td>0.640</td>\n",
              "      <td>3.5</td>\n",
              "      <td>0.2</td>\n",
              "      <td>0.2</td>\n",
              "      <td>0.2</td>\n",
              "      <td>1.3</td>\n",
              "      <td>1.5</td>\n",
              "      <td>4.9</td>\n",
              "      <td>0</td>\n",
              "    </tr>\n",
              "    <tr>\n",
              "      <th>4</th>\n",
              "      <td>4</td>\n",
              "      <td>0</td>\n",
              "      <td>5</td>\n",
              "      <td>Alaa Abdelnaby</td>\n",
              "      <td>1994-95</td>\n",
              "      <td>1994</td>\n",
              "      <td>TOT</td>\n",
              "      <td>54</td>\n",
              "      <td>0</td>\n",
              "      <td>9.4</td>\n",
              "      <td>...</td>\n",
              "      <td>0.515</td>\n",
              "      <td>0.571</td>\n",
              "      <td>2.1</td>\n",
              "      <td>0.2</td>\n",
              "      <td>0.3</td>\n",
              "      <td>0.2</td>\n",
              "      <td>0.8</td>\n",
              "      <td>1.9</td>\n",
              "      <td>4.7</td>\n",
              "      <td>0</td>\n",
              "    </tr>\n",
              "  </tbody>\n",
              "</table>\n",
              "<p>5 rows × 22 columns</p>\n",
              "</div>\n",
              "      <button class=\"colab-df-convert\" onclick=\"convertToInteractive('df-9e2bcbe2-da38-45a3-aa5c-bb462c7090e9')\"\n",
              "              title=\"Convert this dataframe to an interactive table.\"\n",
              "              style=\"display:none;\">\n",
              "        \n",
              "  <svg xmlns=\"http://www.w3.org/2000/svg\" height=\"24px\"viewBox=\"0 0 24 24\"\n",
              "       width=\"24px\">\n",
              "    <path d=\"M0 0h24v24H0V0z\" fill=\"none\"/>\n",
              "    <path d=\"M18.56 5.44l.94 2.06.94-2.06 2.06-.94-2.06-.94-.94-2.06-.94 2.06-2.06.94zm-11 1L8.5 8.5l.94-2.06 2.06-.94-2.06-.94L8.5 2.5l-.94 2.06-2.06.94zm10 10l.94 2.06.94-2.06 2.06-.94-2.06-.94-.94-2.06-.94 2.06-2.06.94z\"/><path d=\"M17.41 7.96l-1.37-1.37c-.4-.4-.92-.59-1.43-.59-.52 0-1.04.2-1.43.59L10.3 9.45l-7.72 7.72c-.78.78-.78 2.05 0 2.83L4 21.41c.39.39.9.59 1.41.59.51 0 1.02-.2 1.41-.59l7.78-7.78 2.81-2.81c.8-.78.8-2.07 0-2.86zM5.41 20L4 18.59l7.72-7.72 1.47 1.35L5.41 20z\"/>\n",
              "  </svg>\n",
              "      </button>\n",
              "      \n",
              "  <style>\n",
              "    .colab-df-container {\n",
              "      display:flex;\n",
              "      flex-wrap:wrap;\n",
              "      gap: 12px;\n",
              "    }\n",
              "\n",
              "    .colab-df-convert {\n",
              "      background-color: #E8F0FE;\n",
              "      border: none;\n",
              "      border-radius: 50%;\n",
              "      cursor: pointer;\n",
              "      display: none;\n",
              "      fill: #1967D2;\n",
              "      height: 32px;\n",
              "      padding: 0 0 0 0;\n",
              "      width: 32px;\n",
              "    }\n",
              "\n",
              "    .colab-df-convert:hover {\n",
              "      background-color: #E2EBFA;\n",
              "      box-shadow: 0px 1px 2px rgba(60, 64, 67, 0.3), 0px 1px 3px 1px rgba(60, 64, 67, 0.15);\n",
              "      fill: #174EA6;\n",
              "    }\n",
              "\n",
              "    [theme=dark] .colab-df-convert {\n",
              "      background-color: #3B4455;\n",
              "      fill: #D2E3FC;\n",
              "    }\n",
              "\n",
              "    [theme=dark] .colab-df-convert:hover {\n",
              "      background-color: #434B5C;\n",
              "      box-shadow: 0px 1px 3px 1px rgba(0, 0, 0, 0.15);\n",
              "      filter: drop-shadow(0px 1px 2px rgba(0, 0, 0, 0.3));\n",
              "      fill: #FFFFFF;\n",
              "    }\n",
              "  </style>\n",
              "\n",
              "      <script>\n",
              "        const buttonEl =\n",
              "          document.querySelector('#df-9e2bcbe2-da38-45a3-aa5c-bb462c7090e9 button.colab-df-convert');\n",
              "        buttonEl.style.display =\n",
              "          google.colab.kernel.accessAllowed ? 'block' : 'none';\n",
              "\n",
              "        async function convertToInteractive(key) {\n",
              "          const element = document.querySelector('#df-9e2bcbe2-da38-45a3-aa5c-bb462c7090e9');\n",
              "          const dataTable =\n",
              "            await google.colab.kernel.invokeFunction('convertToInteractive',\n",
              "                                                     [key], {});\n",
              "          if (!dataTable) return;\n",
              "\n",
              "          const docLinkHtml = 'Like what you see? Visit the ' +\n",
              "            '<a target=\"_blank\" href=https://colab.research.google.com/notebooks/data_table.ipynb>data table notebook</a>'\n",
              "            + ' to learn more about interactive tables.';\n",
              "          element.innerHTML = '';\n",
              "          dataTable['output_type'] = 'display_data';\n",
              "          await google.colab.output.renderOutput(dataTable, element);\n",
              "          const docLink = document.createElement('div');\n",
              "          docLink.innerHTML = docLinkHtml;\n",
              "          element.appendChild(docLink);\n",
              "        }\n",
              "      </script>\n",
              "    </div>\n",
              "  </div>\n",
              "  "
            ],
            "text/plain": [
              "   season_id  player_id  player_season          player   season  season_start  \\\n",
              "0          0          0              1  Alaa Abdelnaby  1990-91          1990   \n",
              "1          1          0              2  Alaa Abdelnaby  1991-92          1991   \n",
              "2          2          0              3  Alaa Abdelnaby  1992-93          1992   \n",
              "3          3          0              4  Alaa Abdelnaby  1993-94          1993   \n",
              "4          4          0              5  Alaa Abdelnaby  1994-95          1994   \n",
              "\n",
              "  team  games  gamesstarted    mp  ...  2p_perc  ft_perc  trb  ast  stl  blk  \\\n",
              "0  POR     43             0   6.7  ...    0.474    0.568  2.1  0.3  0.1  0.3   \n",
              "1  POR     71             1  13.2  ...    0.493    0.752  3.7  0.4  0.4  0.2   \n",
              "2  TOT     75            52  17.5  ...    0.519    0.759  4.5  0.4  0.3  0.3   \n",
              "3  BOS     13             0  12.2  ...    0.436    0.640  3.5  0.2  0.2  0.2   \n",
              "4  TOT     54             0   9.4  ...    0.515    0.571  2.1  0.2  0.3  0.2   \n",
              "\n",
              "   tov   pf  pts  all_nba  \n",
              "0  0.5  0.9  3.1        0  \n",
              "1  0.9  1.9  6.1        0  \n",
              "2  1.3  2.5  7.7        0  \n",
              "3  1.3  1.5  4.9        0  \n",
              "4  0.8  1.9  4.7        0  \n",
              "\n",
              "[5 rows x 22 columns]"
            ]
          },
          "execution_count": 58,
          "metadata": {},
          "output_type": "execute_result"
        }
      ],
      "source": [
        "mask_1 = all_nba_df['season_start'] >= 1990\n",
        "all_nba_df = all_nba_df[mask_1]\n",
        "all_nba_df.head()"
      ]
    },
    {
      "cell_type": "code",
      "execution_count": null,
      "id": "M9-Wuxdln-pZ",
      "metadata": {
        "id": "M9-Wuxdln-pZ"
      },
      "outputs": [],
      "source": [
        "## Lets see how much information an datatype we got for each feature\n",
        "#all_nba_df.info()\n",
        "## some basic statictis:\n",
        "#all_nba_df.describe()\n",
        "## about the missing data:\n",
        "#all_nba_df.isna().sum()\n",
        "#all_nba_df.columns"
      ]
    },
    {
      "cell_type": "code",
      "execution_count": null,
      "id": "LJ_6nGiUpZS2",
      "metadata": {
        "colab": {
          "base_uri": "https://localhost:8080/"
        },
        "id": "LJ_6nGiUpZS2",
        "outputId": "e390459e-973e-44d2-d745-9ffd4ee8c08e"
      },
      "outputs": [
        {
          "name": "stdout",
          "output_type": "stream",
          "text": [
            "Number of rows:  12419\n",
            "Number of seasons:  28\n",
            "Cant of unique players_id:  2342\n",
            "Cant of unique players:  2325\n",
            "0    12000\n",
            "1      419\n",
            "Name: all_nba, dtype: int64 0.034916666666666665\n"
          ]
        }
      ],
      "source": [
        "# number of rows:\n",
        "print('Number of rows: ',all_nba_df.shape[0])\n",
        "\n",
        "# number of seasons:\n",
        "print('Number of seasons: ',all_nba_df.season.nunique())\n",
        "\n",
        "# number of unique players\n",
        "print('Cant of unique players_id: ',all_nba_df.player_id.nunique())\n",
        "print('Cant of unique players: ',all_nba_df.player.nunique())\n",
        "\n",
        "# number of all-nba selections vs non selected\n",
        "print(all_nba_df[\"all_nba\"].value_counts(), all_nba_df[\"all_nba\"].value_counts()[1]/all_nba_df[\"all_nba\"].value_counts()[0])"
      ]
    },
    {
      "cell_type": "markdown",
      "id": "bPcGRSujsJge",
      "metadata": {
        "id": "bPcGRSujsJge"
      },
      "source": [
        "IMPORTANT ---> the amount of selected vs no selected is not very representative."
      ]
    },
    {
      "cell_type": "markdown",
      "id": "f268db59-8c9e-446b-be19-290e608169d2",
      "metadata": {
        "id": "f268db59-8c9e-446b-be19-290e608169d2"
      },
      "source": [
        "### Splitting the dataset"
      ]
    },
    {
      "cell_type": "markdown",
      "id": "6b4916b2-e8cf-4e30-a2ac-e1538c2f5cd5",
      "metadata": {
        "id": "6b4916b2-e8cf-4e30-a2ac-e1538c2f5cd5"
      },
      "source": [
        "2.2. Split the dataset in training and test sets. Make sure to keep the distribution of values in the target variable.\n",
        "\n",
        "Use columns: 'team', 'games', 'games_started', 'mp', 'fg_perc', '3p_perc',\n",
        "       '2p_perc', 'ft_perc', 'trb', 'ast', 'stl', 'blk', 'tov', 'pf', 'pts','all_nba'\n",
        "       \n",
        "    "
      ]
    },
    {
      "cell_type": "code",
      "execution_count": null,
      "id": "2dqodsy6t4eT",
      "metadata": {
        "id": "2dqodsy6t4eT"
      },
      "outputs": [],
      "source": [
        "# IMPORTANT: SEED ---> random_state \n",
        "\n",
        "targets = all_nba_df['all_nba']\n",
        "inputs  = all_nba_df.drop(['all_nba'],axis=1)\n",
        "\n",
        "nbax_train, nbax_test, nbay_train, nbay_test = train_test_split(inputs, targets, test_size=0.15, random_state=22) # Stratified"
      ]
    },
    {
      "cell_type": "markdown",
      "id": "7043db6e-da74-4a04-91d9-4dd0cd830f22",
      "metadata": {
        "id": "7043db6e-da74-4a04-91d9-4dd0cd830f22"
      },
      "source": [
        "### Baseline model and Evaluation Metrics"
      ]
    },
    {
      "cell_type": "markdown",
      "id": "cedaf085-2a23-41ab-a55f-474e2ae6bb9c",
      "metadata": {
        "id": "cedaf085-2a23-41ab-a55f-474e2ae6bb9c"
      },
      "source": [
        "In this oportunity we'll define our baseline model as the model we can train with the minimun amount of work on the dataset. For this you're gonna train a [LogisticRegression](https://scikit-learn.org/stable/modules/generated/sklearn.linear_model.LogisticRegression.html) with default parameters, and without doing any preprocessing to our data."
      ]
    },
    {
      "cell_type": "markdown",
      "id": "67a8999b-2dfe-466b-814c-94ecced9f8dc",
      "metadata": {
        "id": "67a8999b-2dfe-466b-814c-94ecced9f8dc"
      },
      "source": [
        "2.3. Let's start with a simple test. What accuracy would we get if we had a baseline model that always predicted 0 (player not selected to all nba)?"
      ]
    },
    {
      "cell_type": "code",
      "execution_count": null,
      "id": "BKIwM6G6tU2_",
      "metadata": {
        "id": "BKIwM6G6tU2_"
      },
      "outputs": [],
      "source": [
        "class BaselineModel_0():\n",
        "  \n",
        "  \"\"\"\n",
        "  This model will is trained with our training dataset \n",
        "  and will use that value as the predicted value 0 for any given input.\n",
        "  \"\"\"\n",
        "\n",
        "  def fit(self):\n",
        "     \"\"\"\n",
        "     Fit the training data. \n",
        "     \n",
        "     Parameters\n",
        "     ----------\n",
        "     y_train: Union[pd.Series, np.ndarray]\n",
        "         a pandas series or numpy array containing salary information\n",
        "     ALWAYS CERO\n",
        "     \"\"\"\n",
        "\n",
        "     self.cero = 0\n",
        "    \n",
        "  def predict(self, X):\n",
        "    \"\"\"\n",
        "    Predict salaries \n",
        "  \n",
        "    Parameters\n",
        "    ----------\n",
        "    X: Union[pd.DataFrame, pd.Series, np.ndarray]\n",
        "      a pandas series, dataframe or numpy array with the \n",
        "      \n",
        "    Returns\n",
        "    -------\n",
        "    np.ndarray\n",
        "    a numpy array of the same length as X, with all elements equal to the mean salary calculated in fit()\n",
        "    \"\"\"\n",
        "    \n",
        "    return np.array([self.cero] * len(X))\n",
        "\n",
        "\n",
        "\n"
      ]
    },
    {
      "cell_type": "code",
      "execution_count": null,
      "id": "OOkrROhXuX8i",
      "metadata": {
        "colab": {
          "base_uri": "https://localhost:8080/"
        },
        "id": "OOkrROhXuX8i",
        "outputId": "e235f05c-4e92-4090-c4db-aaa322a9c4dd"
      },
      "outputs": [
        {
          "name": "stdout",
          "output_type": "stream",
          "text": [
            "Base model prediction:  [0 0 0 ... 0 0 0] Accurancy:  0.9683\n",
            "0.9839105535860376\n"
          ]
        }
      ],
      "source": [
        "bm_0 = BaselineModel_0()\n",
        "bm_0.fit()\n",
        "y_pred_bm_0 = bm_0.predict(nbax_test)\n",
        "# Now I calculate the accurancy:\n",
        "# Accurancy:\n",
        "acc_scr      = accuracy_score(nbay_test, y_pred_bm_0)\n",
        "#acc_scr_norm = accuracy_score(nbay_test, y_pred_bm_0, normalize=False)\n",
        "\n",
        "print('Base model prediction: ' ,y_pred_bm_0, 'Accurancy: ', round(acc_scr,4))#, 'acc normalized: ', acc_scr_norm)\n",
        "\n",
        "f1_blm = f1_score(nbay_test, y_pred_bm_0, average=None)\n",
        "print(f1_blm[0])"
      ]
    },
    {
      "cell_type": "code",
      "execution_count": null,
      "id": "4aa3bbfb-d2ce-43bc-aea4-f6f7aab0933c",
      "metadata": {
        "colab": {
          "base_uri": "https://localhost:8080/"
        },
        "id": "4aa3bbfb-d2ce-43bc-aea4-f6f7aab0933c",
        "outputId": "a2f204ff-3545-465a-8a37-59eae776c2a9"
      },
      "outputs": [
        {
          "name": "stdout",
          "output_type": "stream",
          "text": [
            "Accurancy:  0.9817\n"
          ]
        },
        {
          "name": "stderr",
          "output_type": "stream",
          "text": [
            "/usr/local/lib/python3.7/dist-packages/sklearn/linear_model/_logistic.py:818: ConvergenceWarning: lbfgs failed to converge (status=1):\n",
            "STOP: TOTAL NO. of ITERATIONS REACHED LIMIT.\n",
            "\n",
            "Increase the number of iterations (max_iter) or scale the data as shown in:\n",
            "    https://scikit-learn.org/stable/modules/preprocessing.html\n",
            "Please also refer to the documentation for alternative solver options:\n",
            "    https://scikit-learn.org/stable/modules/linear_model.html#logistic-regression\n",
            "  extra_warning_msg=_LOGISTIC_SOLVER_CONVERGENCE_MSG,\n"
          ]
        }
      ],
      "source": [
        "# Now let see the logisticRegressor without hyperoarameths:\n",
        "# and without any numeric or categorical normalization\n",
        "\n",
        "# 1) call the model\n",
        "l_regressor =  LogisticRegression()\n",
        "\n",
        "# 2) train the model:\n",
        "features = ['games', 'gamesstarted', 'mp', 'fg_perc', '3p_perc', '2p_perc', 'ft_perc', 'trb', 'ast', 'stl', 'blk', 'tov', 'pf', 'pts']\n",
        "l_regressor.fit(nbax_train[features], nbay_train)\n",
        "\n",
        "# Accurancy:\n",
        "acc_scr      = accuracy_score(nbay_test, l_regressor.predict(nbax_test[features]))\n",
        "#acc_scr_norm = accuracy_score(nbay_test, l_regressor.predict(nbax_test[features]), normalize=False)\n",
        "print('Accurancy: ', round(acc_scr,4))#, 'acc normalized: ', acc_scr_norm)"
      ]
    },
    {
      "cell_type": "markdown",
      "id": "a7f436a6-d3fe-4ead-8c09-b450d850b36f",
      "metadata": {
        "id": "a7f436a6-d3fe-4ead-8c09-b450d850b36f"
      },
      "source": [
        "2.4. What does this tells us about the data and the use of accuracy as an evaluation metric?"
      ]
    },
    {
      "cell_type": "markdown",
      "id": "WVGOLT7vUTQV",
      "metadata": {
        "id": "WVGOLT7vUTQV"
      },
      "source": [
        "In this case the data is no well balance so accurancy is not the best evaluation metric"
      ]
    },
    {
      "cell_type": "markdown",
      "id": "df1a22d1-3fd1-4e6f-9139-52a3466fb1c4",
      "metadata": {
        "id": "df1a22d1-3fd1-4e6f-9139-52a3466fb1c4"
      },
      "source": [
        "2.5. Scale all numerical features in the dataset (we will keep this scaling for future modeling, so make sure to do it in place)"
      ]
    },
    {
      "cell_type": "markdown",
      "id": "Bfxn7rQK3w3q",
      "metadata": {
        "id": "Bfxn7rQK3w3q"
      },
      "source": [
        "First I want to check the distribution of each feature tu see if I use MaxMin or StandarScaller\n"
      ]
    },
    {
      "cell_type": "code",
      "execution_count": null,
      "id": "e4d2a505-f193-4b94-89c3-56cba2c4db54",
      "metadata": {
        "id": "e4d2a505-f193-4b94-89c3-56cba2c4db54"
      },
      "outputs": [],
      "source": [
        "#sns.histplot(data = nbax_train_no_team, x = 'games'       , kde  = True)\n",
        "#sns.histplot(data = nbax_train_no_team, x = 'gamesstarted', kde  = True)\n",
        "#sns.histplot(data = nbax_train_no_team, x = 'mp'          , kde  = True)\n",
        "#sns.histplot(data = nbax_train_no_team, x = 'fg_perc'     , kde  = True)\n",
        "#sns.histplot(data = nbax_train_no_team, x = '3p_perc'     , kde  = True)\n",
        "#sns.histplot(data = nbax_train_no_team, x = '2p_perc'     , kde  = True)\n",
        "#sns.histplot(data = nbax_train_no_team, x = 'ft_perc'     , kde  = True)\n",
        "#sns.histplot(data = nbax_train_no_team, x = 'trb'         , kde  = True)\n",
        "#sns.histplot(data = nbax_train_no_team, x = 'ast'         , kde  = True)\n",
        "#sns.histplot(data = nbax_train_no_team, x = 'stl'         , kde  = True)\n",
        "#sns.histplot(data = nbax_train_no_team, x = 'blk'         , kde  = True)\n",
        "#sns.histplot(data = nbax_train_no_team, x = 'tov'         , kde  = True)\n",
        "#sns.histplot(data = nbax_train_no_team, x = 'pf'          , kde  = True)\n",
        "#sns.histplot(data = nbax_train_no_team, x = 'pts'         , kde  = True)"
      ]
    },
    {
      "cell_type": "code",
      "execution_count": null,
      "id": "MDhfESS59vSW",
      "metadata": {
        "id": "MDhfESS59vSW"
      },
      "outputs": [],
      "source": [
        "features_minmax=['games', 'gamesstarted','mp','3p_perc']\n",
        "features_standarscaller=['fg_perc', '2p_perc','ft_perc','trb','ast','stl','blk','tov','pf','pts']\n",
        "\n",
        "# MinMaxScaller:\n",
        "\n",
        "# 1) Call the scaler\n",
        "mm_scaller = MinMaxScaler(feature_range=(0, 1), clip=False)\n",
        "\n",
        "# 2) fit:\n",
        "nbax_train[features_minmax] = mm_scaller.fit_transform(nbax_train[features_minmax])\n",
        "\n",
        "# 3) implement x_test:\n",
        "nbax_test[features_minmax] = mm_scaller.transform(nbax_test[features_minmax])\n",
        "\n",
        "# StandardScaller:\n",
        "\n",
        "# 1) Call the scaler\n",
        "s_scaller = StandardScaler()\n",
        "\n",
        "# 2) fit:\n",
        "nbax_train[features_standarscaller] = s_scaller.fit_transform(nbax_train[features_standarscaller])\n",
        "\n",
        "# 3) implement x_test:\n",
        "nbax_test[features_standarscaller] = s_scaller.transform(nbax_test[features_standarscaller])\n"
      ]
    },
    {
      "cell_type": "code",
      "execution_count": null,
      "id": "xruwPz7NE4Bx",
      "metadata": {
        "colab": {
          "base_uri": "https://localhost:8080/",
          "height": 386
        },
        "id": "xruwPz7NE4Bx",
        "outputId": "7e110fcf-1410-4700-9351-ee02aaa1f2be"
      },
      "outputs": [
        {
          "data": {
            "text/html": [
              "\n",
              "  <div id=\"df-b5597403-7cfd-40c0-9a03-4e3f10818e3b\">\n",
              "    <div class=\"colab-df-container\">\n",
              "      <div>\n",
              "<style scoped>\n",
              "    .dataframe tbody tr th:only-of-type {\n",
              "        vertical-align: middle;\n",
              "    }\n",
              "\n",
              "    .dataframe tbody tr th {\n",
              "        vertical-align: top;\n",
              "    }\n",
              "\n",
              "    .dataframe thead th {\n",
              "        text-align: right;\n",
              "    }\n",
              "</style>\n",
              "<table border=\"1\" class=\"dataframe\">\n",
              "  <thead>\n",
              "    <tr style=\"text-align: right;\">\n",
              "      <th></th>\n",
              "      <th>season_id</th>\n",
              "      <th>player_id</th>\n",
              "      <th>player_season</th>\n",
              "      <th>player</th>\n",
              "      <th>season</th>\n",
              "      <th>season_start</th>\n",
              "      <th>team</th>\n",
              "      <th>games</th>\n",
              "      <th>gamesstarted</th>\n",
              "      <th>mp</th>\n",
              "      <th>...</th>\n",
              "      <th>3p_perc</th>\n",
              "      <th>2p_perc</th>\n",
              "      <th>ft_perc</th>\n",
              "      <th>trb</th>\n",
              "      <th>ast</th>\n",
              "      <th>stl</th>\n",
              "      <th>blk</th>\n",
              "      <th>tov</th>\n",
              "      <th>pf</th>\n",
              "      <th>pts</th>\n",
              "    </tr>\n",
              "  </thead>\n",
              "  <tbody>\n",
              "    <tr>\n",
              "      <th>2083</th>\n",
              "      <td>2084</td>\n",
              "      <td>377</td>\n",
              "      <td>7</td>\n",
              "      <td>Willie Burton</td>\n",
              "      <td>1997-98</td>\n",
              "      <td>1997</td>\n",
              "      <td>SAS</td>\n",
              "      <td>0.142857</td>\n",
              "      <td>0.000000</td>\n",
              "      <td>0.075515</td>\n",
              "      <td>...</td>\n",
              "      <td>0.333</td>\n",
              "      <td>-0.400158</td>\n",
              "      <td>-0.171991</td>\n",
              "      <td>-1.126315</td>\n",
              "      <td>-0.941171</td>\n",
              "      <td>-0.985122</td>\n",
              "      <td>-0.434084</td>\n",
              "      <td>-1.392759</td>\n",
              "      <td>-1.676451</td>\n",
              "      <td>-1.018914</td>\n",
              "    </tr>\n",
              "    <tr>\n",
              "      <th>11133</th>\n",
              "      <td>11116</td>\n",
              "      <td>2014</td>\n",
              "      <td>5</td>\n",
              "      <td>Otto Porter</td>\n",
              "      <td>2017-18</td>\n",
              "      <td>2017</td>\n",
              "      <td>WAS</td>\n",
              "      <td>0.904762</td>\n",
              "      <td>0.927711</td>\n",
              "      <td>0.723112</td>\n",
              "      <td>...</td>\n",
              "      <td>0.441</td>\n",
              "      <td>0.789689</td>\n",
              "      <td>0.673360</td>\n",
              "      <td>1.121071</td>\n",
              "      <td>0.083862</td>\n",
              "      <td>1.786282</td>\n",
              "      <td>0.166990</td>\n",
              "      <td>-0.273774</td>\n",
              "      <td>0.125624</td>\n",
              "      <td>1.097954</td>\n",
              "    </tr>\n",
              "    <tr>\n",
              "      <th>75</th>\n",
              "      <td>75</td>\n",
              "      <td>14</td>\n",
              "      <td>4</td>\n",
              "      <td>Rafael Addison</td>\n",
              "      <td>1994-95</td>\n",
              "      <td>1994</td>\n",
              "      <td>DET</td>\n",
              "      <td>0.928571</td>\n",
              "      <td>0.192771</td>\n",
              "      <td>0.514874</td>\n",
              "      <td>...</td>\n",
              "      <td>0.289</td>\n",
              "      <td>0.492227</td>\n",
              "      <td>0.248059</td>\n",
              "      <td>-0.180047</td>\n",
              "      <td>-0.239832</td>\n",
              "      <td>0.080803</td>\n",
              "      <td>-0.233726</td>\n",
              "      <td>-0.273774</td>\n",
              "      <td>1.327008</td>\n",
              "      <td>0.022720</td>\n",
              "    </tr>\n",
              "    <tr>\n",
              "      <th>10086</th>\n",
              "      <td>10086</td>\n",
              "      <td>1843</td>\n",
              "      <td>8</td>\n",
              "      <td>Johnny Newman</td>\n",
              "      <td>1993-94</td>\n",
              "      <td>1993</td>\n",
              "      <td>TOT</td>\n",
              "      <td>0.952381</td>\n",
              "      <td>0.216867</td>\n",
              "      <td>0.480549</td>\n",
              "      <td>...</td>\n",
              "      <td>0.267</td>\n",
              "      <td>0.452566</td>\n",
              "      <td>0.573598</td>\n",
              "      <td>-0.534898</td>\n",
              "      <td>-0.509578</td>\n",
              "      <td>0.507172</td>\n",
              "      <td>-0.233726</td>\n",
              "      <td>-0.149443</td>\n",
              "      <td>0.606177</td>\n",
              "      <td>0.358730</td>\n",
              "    </tr>\n",
              "    <tr>\n",
              "      <th>6712</th>\n",
              "      <td>6752</td>\n",
              "      <td>1223</td>\n",
              "      <td>11</td>\n",
              "      <td>Mark Jackson</td>\n",
              "      <td>1997-98</td>\n",
              "      <td>1997</td>\n",
              "      <td>IND</td>\n",
              "      <td>0.964286</td>\n",
              "      <td>0.987952</td>\n",
              "      <td>0.672769</td>\n",
              "      <td>...</td>\n",
              "      <td>0.314</td>\n",
              "      <td>-0.102696</td>\n",
              "      <td>0.321568</td>\n",
              "      <td>0.135375</td>\n",
              "      <td>3.698455</td>\n",
              "      <td>0.720357</td>\n",
              "      <td>-0.834801</td>\n",
              "      <td>1.093873</td>\n",
              "      <td>-0.354929</td>\n",
              "      <td>0.022720</td>\n",
              "    </tr>\n",
              "  </tbody>\n",
              "</table>\n",
              "<p>5 rows × 21 columns</p>\n",
              "</div>\n",
              "      <button class=\"colab-df-convert\" onclick=\"convertToInteractive('df-b5597403-7cfd-40c0-9a03-4e3f10818e3b')\"\n",
              "              title=\"Convert this dataframe to an interactive table.\"\n",
              "              style=\"display:none;\">\n",
              "        \n",
              "  <svg xmlns=\"http://www.w3.org/2000/svg\" height=\"24px\"viewBox=\"0 0 24 24\"\n",
              "       width=\"24px\">\n",
              "    <path d=\"M0 0h24v24H0V0z\" fill=\"none\"/>\n",
              "    <path d=\"M18.56 5.44l.94 2.06.94-2.06 2.06-.94-2.06-.94-.94-2.06-.94 2.06-2.06.94zm-11 1L8.5 8.5l.94-2.06 2.06-.94-2.06-.94L8.5 2.5l-.94 2.06-2.06.94zm10 10l.94 2.06.94-2.06 2.06-.94-2.06-.94-.94-2.06-.94 2.06-2.06.94z\"/><path d=\"M17.41 7.96l-1.37-1.37c-.4-.4-.92-.59-1.43-.59-.52 0-1.04.2-1.43.59L10.3 9.45l-7.72 7.72c-.78.78-.78 2.05 0 2.83L4 21.41c.39.39.9.59 1.41.59.51 0 1.02-.2 1.41-.59l7.78-7.78 2.81-2.81c.8-.78.8-2.07 0-2.86zM5.41 20L4 18.59l7.72-7.72 1.47 1.35L5.41 20z\"/>\n",
              "  </svg>\n",
              "      </button>\n",
              "      \n",
              "  <style>\n",
              "    .colab-df-container {\n",
              "      display:flex;\n",
              "      flex-wrap:wrap;\n",
              "      gap: 12px;\n",
              "    }\n",
              "\n",
              "    .colab-df-convert {\n",
              "      background-color: #E8F0FE;\n",
              "      border: none;\n",
              "      border-radius: 50%;\n",
              "      cursor: pointer;\n",
              "      display: none;\n",
              "      fill: #1967D2;\n",
              "      height: 32px;\n",
              "      padding: 0 0 0 0;\n",
              "      width: 32px;\n",
              "    }\n",
              "\n",
              "    .colab-df-convert:hover {\n",
              "      background-color: #E2EBFA;\n",
              "      box-shadow: 0px 1px 2px rgba(60, 64, 67, 0.3), 0px 1px 3px 1px rgba(60, 64, 67, 0.15);\n",
              "      fill: #174EA6;\n",
              "    }\n",
              "\n",
              "    [theme=dark] .colab-df-convert {\n",
              "      background-color: #3B4455;\n",
              "      fill: #D2E3FC;\n",
              "    }\n",
              "\n",
              "    [theme=dark] .colab-df-convert:hover {\n",
              "      background-color: #434B5C;\n",
              "      box-shadow: 0px 1px 3px 1px rgba(0, 0, 0, 0.15);\n",
              "      filter: drop-shadow(0px 1px 2px rgba(0, 0, 0, 0.3));\n",
              "      fill: #FFFFFF;\n",
              "    }\n",
              "  </style>\n",
              "\n",
              "      <script>\n",
              "        const buttonEl =\n",
              "          document.querySelector('#df-b5597403-7cfd-40c0-9a03-4e3f10818e3b button.colab-df-convert');\n",
              "        buttonEl.style.display =\n",
              "          google.colab.kernel.accessAllowed ? 'block' : 'none';\n",
              "\n",
              "        async function convertToInteractive(key) {\n",
              "          const element = document.querySelector('#df-b5597403-7cfd-40c0-9a03-4e3f10818e3b');\n",
              "          const dataTable =\n",
              "            await google.colab.kernel.invokeFunction('convertToInteractive',\n",
              "                                                     [key], {});\n",
              "          if (!dataTable) return;\n",
              "\n",
              "          const docLinkHtml = 'Like what you see? Visit the ' +\n",
              "            '<a target=\"_blank\" href=https://colab.research.google.com/notebooks/data_table.ipynb>data table notebook</a>'\n",
              "            + ' to learn more about interactive tables.';\n",
              "          element.innerHTML = '';\n",
              "          dataTable['output_type'] = 'display_data';\n",
              "          await google.colab.output.renderOutput(dataTable, element);\n",
              "          const docLink = document.createElement('div');\n",
              "          docLink.innerHTML = docLinkHtml;\n",
              "          element.appendChild(docLink);\n",
              "        }\n",
              "      </script>\n",
              "    </div>\n",
              "  </div>\n",
              "  "
            ],
            "text/plain": [
              "       season_id  player_id  player_season          player   season  \\\n",
              "2083        2084        377              7   Willie Burton  1997-98   \n",
              "11133      11116       2014              5     Otto Porter  2017-18   \n",
              "75            75         14              4  Rafael Addison  1994-95   \n",
              "10086      10086       1843              8   Johnny Newman  1993-94   \n",
              "6712        6752       1223             11    Mark Jackson  1997-98   \n",
              "\n",
              "       season_start team     games  gamesstarted        mp  ...  3p_perc  \\\n",
              "2083           1997  SAS  0.142857      0.000000  0.075515  ...    0.333   \n",
              "11133          2017  WAS  0.904762      0.927711  0.723112  ...    0.441   \n",
              "75             1994  DET  0.928571      0.192771  0.514874  ...    0.289   \n",
              "10086          1993  TOT  0.952381      0.216867  0.480549  ...    0.267   \n",
              "6712           1997  IND  0.964286      0.987952  0.672769  ...    0.314   \n",
              "\n",
              "        2p_perc   ft_perc       trb       ast       stl       blk       tov  \\\n",
              "2083  -0.400158 -0.171991 -1.126315 -0.941171 -0.985122 -0.434084 -1.392759   \n",
              "11133  0.789689  0.673360  1.121071  0.083862  1.786282  0.166990 -0.273774   \n",
              "75     0.492227  0.248059 -0.180047 -0.239832  0.080803 -0.233726 -0.273774   \n",
              "10086  0.452566  0.573598 -0.534898 -0.509578  0.507172 -0.233726 -0.149443   \n",
              "6712  -0.102696  0.321568  0.135375  3.698455  0.720357 -0.834801  1.093873   \n",
              "\n",
              "             pf       pts  \n",
              "2083  -1.676451 -1.018914  \n",
              "11133  0.125624  1.097954  \n",
              "75     1.327008  0.022720  \n",
              "10086  0.606177  0.358730  \n",
              "6712  -0.354929  0.022720  \n",
              "\n",
              "[5 rows x 21 columns]"
            ]
          },
          "execution_count": 118,
          "metadata": {},
          "output_type": "execute_result"
        }
      ],
      "source": [
        "# lets check:\n",
        "nbax_train.head()\n",
        "nbax_test.head()"
      ]
    },
    {
      "cell_type": "markdown",
      "id": "0ccfd642-fd2a-4ce6-af92-901156e2a009",
      "metadata": {
        "id": "0ccfd642-fd2a-4ce6-af92-901156e2a009"
      },
      "source": [
        "2.6. Train a LogisticRegression with default parameters, use only the numerical features (omit the team information for now). This will be our baseline model. "
      ]
    },
    {
      "cell_type": "code",
      "execution_count": null,
      "id": "6f9ffef5-6333-481e-816f-9125c95fe117",
      "metadata": {
        "id": "6f9ffef5-6333-481e-816f-9125c95fe117"
      },
      "outputs": [],
      "source": [
        "log_regressor = LogisticRegression()"
      ]
    },
    {
      "cell_type": "code",
      "execution_count": null,
      "id": "n82nuEo1FV7P",
      "metadata": {
        "colab": {
          "base_uri": "https://localhost:8080/"
        },
        "id": "n82nuEo1FV7P",
        "outputId": "3af26803-bdb9-488d-9db5-4635e99749ff"
      },
      "outputs": [
        {
          "data": {
            "text/plain": [
              "LogisticRegression()"
            ]
          },
          "execution_count": 120,
          "metadata": {},
          "output_type": "execute_result"
        }
      ],
      "source": [
        "# 2) train the model:\n",
        "features = ['games', 'gamesstarted', 'mp', 'fg_perc', '3p_perc', '2p_perc', 'ft_perc', 'trb', 'ast', 'stl', 'blk', 'tov', 'pf', 'pts']\n",
        "log_regressor.fit(nbax_train[features], nbay_train)\n"
      ]
    },
    {
      "cell_type": "markdown",
      "id": "0f06758a-f2dd-4339-b170-275b428fdb4e",
      "metadata": {
        "id": "0f06758a-f2dd-4339-b170-275b428fdb4e"
      },
      "source": [
        "2.7. Evaluate our baseline model using this metrics: \n",
        "\n",
        "    - accuracy\n",
        "    - precision\n",
        "    - recall\n",
        "    - f1"
      ]
    },
    {
      "cell_type": "code",
      "execution_count": null,
      "id": "b953324f-f7ae-4823-a801-f06d27d6eb43",
      "metadata": {
        "colab": {
          "base_uri": "https://localhost:8080/"
        },
        "id": "b953324f-f7ae-4823-a801-f06d27d6eb43",
        "outputId": "a6108a6f-1542-449a-cef9-51b2f443e522"
      },
      "outputs": [
        {
          "name": "stdout",
          "output_type": "stream",
          "text": [
            "Accurancy:  0.9844\n",
            "Precision:  [0.99114555 0.76785714]\n",
            "Recall none:  [0.99279379 0.72881356]\n",
            "f1:  0.9919689836610358\n"
          ]
        }
      ],
      "source": [
        "y_pred = log_regressor.predict(nbax_test[features])    # this is the result of the model\n",
        "y_true = nbay_test                                      # this I got it from the df \n",
        "\n",
        "# Accurancy:\n",
        "acc_scr      = accuracy_score(y_true, y_pred)\n",
        "#acc_scr_norm = accuracy_score(y_true, y_pred, normalize=False)\n",
        "print('Accurancy: ', round(acc_scr,4))# 'acc normalized: ', acc_scr_norm)\n",
        "\n",
        "# Precision:\n",
        "pre_scr  = precision_score(y_true, y_pred, average=None)\n",
        "print('Precision: ', pre_scr)\n",
        "\n",
        "# Recall:\n",
        "rec_scr = recall_score(y_true, y_pred, average=None)\n",
        "print('Recall none: ', rec_scr)\n",
        "\n",
        "# f1:\n",
        "f1_scr  = f1_score(y_true, y_pred, average=None)\n",
        "print('f1: ', f1_scr[0])\n"
      ]
    },
    {
      "cell_type": "markdown",
      "id": "7a540e7b-387d-4e2b-a441-d0c5173bdbf7",
      "metadata": {
        "id": "7a540e7b-387d-4e2b-a441-d0c5173bdbf7"
      },
      "source": [
        "\n",
        "From now on, you'll be evaluating you model primarily using the F1 Score metric, but we also want to avoid models that have very low recall. "
      ]
    },
    {
      "cell_type": "markdown",
      "id": "2054a43f-55ec-45fc-9ead-a7699d8aa2b0",
      "metadata": {
        "id": "2054a43f-55ec-45fc-9ead-a7699d8aa2b0"
      },
      "source": [
        "### Classification"
      ]
    },
    {
      "cell_type": "markdown",
      "id": "1e2847f3-f02c-4308-8a0c-41ba79af0781",
      "metadata": {
        "id": "1e2847f3-f02c-4308-8a0c-41ba79af0781"
      },
      "source": [
        "#### Feature engineering"
      ]
    },
    {
      "cell_type": "markdown",
      "id": "27b6ddb3-576c-4238-9ec3-534aafee764b",
      "metadata": {
        "id": "27b6ddb3-576c-4238-9ec3-534aafee764b"
      },
      "source": [
        "2.8. One hot encode the Team feature. Make sure to drop the original column."
      ]
    },
    {
      "cell_type": "markdown",
      "id": "ELU4s1UJ5BO7",
      "metadata": {
        "id": "ELU4s1UJ5BO7"
      },
      "source": [
        "For now I got nbax_train/test splited in two... nbax_train/test_no_team already normalized and 'team' wich I need to encode now... "
      ]
    },
    {
      "cell_type": "markdown",
      "id": "hvpSTMYv26Mk",
      "metadata": {
        "id": "hvpSTMYv26Mk"
      },
      "source": [
        "Encoding nbax_test['team'] \n"
      ]
    },
    {
      "cell_type": "code",
      "execution_count": null,
      "id": "tXIz8R1q2wvM",
      "metadata": {
        "colab": {
          "base_uri": "https://localhost:8080/",
          "height": 310
        },
        "id": "tXIz8R1q2wvM",
        "outputId": "965dc5f1-95b7-4cce-cda7-fe91b5751d50"
      },
      "outputs": [
        {
          "name": "stderr",
          "output_type": "stream",
          "text": [
            "/usr/local/lib/python3.7/dist-packages/sklearn/base.py:444: UserWarning: X has feature names, but OneHotEncoder was fitted without feature names\n",
            "  f\"X has feature names, but {self.__class__.__name__} was fitted without\"\n",
            "/usr/local/lib/python3.7/dist-packages/sklearn/utils/deprecation.py:87: FutureWarning: Function get_feature_names is deprecated; get_feature_names is deprecated in 1.0 and will be removed in 1.2. Please use get_feature_names_out instead.\n",
            "  warnings.warn(msg, category=FutureWarning)\n"
          ]
        },
        {
          "data": {
            "text/html": [
              "\n",
              "  <div id=\"df-67ca3888-1398-4113-9c3c-e78155b589df\">\n",
              "    <div class=\"colab-df-container\">\n",
              "      <div>\n",
              "<style scoped>\n",
              "    .dataframe tbody tr th:only-of-type {\n",
              "        vertical-align: middle;\n",
              "    }\n",
              "\n",
              "    .dataframe tbody tr th {\n",
              "        vertical-align: top;\n",
              "    }\n",
              "\n",
              "    .dataframe thead th {\n",
              "        text-align: right;\n",
              "    }\n",
              "</style>\n",
              "<table border=\"1\" class=\"dataframe\">\n",
              "  <thead>\n",
              "    <tr style=\"text-align: right;\">\n",
              "      <th></th>\n",
              "      <th>team_ATL</th>\n",
              "      <th>team_BOS</th>\n",
              "      <th>team_BRK</th>\n",
              "      <th>team_CHA</th>\n",
              "      <th>team_CHH</th>\n",
              "      <th>team_CHI</th>\n",
              "      <th>team_CHO</th>\n",
              "      <th>team_CLE</th>\n",
              "      <th>team_DAL</th>\n",
              "      <th>team_DEN</th>\n",
              "      <th>...</th>\n",
              "      <th>team_POR</th>\n",
              "      <th>team_SAC</th>\n",
              "      <th>team_SAS</th>\n",
              "      <th>team_SEA</th>\n",
              "      <th>team_TOR</th>\n",
              "      <th>team_TOT</th>\n",
              "      <th>team_UTA</th>\n",
              "      <th>team_VAN</th>\n",
              "      <th>team_WAS</th>\n",
              "      <th>team_WSB</th>\n",
              "    </tr>\n",
              "  </thead>\n",
              "  <tbody>\n",
              "    <tr>\n",
              "      <th>12860</th>\n",
              "      <td>0.0</td>\n",
              "      <td>0.0</td>\n",
              "      <td>0.0</td>\n",
              "      <td>0.0</td>\n",
              "      <td>0.0</td>\n",
              "      <td>0.0</td>\n",
              "      <td>0.0</td>\n",
              "      <td>0.0</td>\n",
              "      <td>0.0</td>\n",
              "      <td>0.0</td>\n",
              "      <td>...</td>\n",
              "      <td>0.0</td>\n",
              "      <td>0.0</td>\n",
              "      <td>0.0</td>\n",
              "      <td>0.0</td>\n",
              "      <td>0.0</td>\n",
              "      <td>0.0</td>\n",
              "      <td>0.0</td>\n",
              "      <td>0.0</td>\n",
              "      <td>0.0</td>\n",
              "      <td>0.0</td>\n",
              "    </tr>\n",
              "    <tr>\n",
              "      <th>4545</th>\n",
              "      <td>0.0</td>\n",
              "      <td>1.0</td>\n",
              "      <td>0.0</td>\n",
              "      <td>0.0</td>\n",
              "      <td>0.0</td>\n",
              "      <td>0.0</td>\n",
              "      <td>0.0</td>\n",
              "      <td>0.0</td>\n",
              "      <td>0.0</td>\n",
              "      <td>0.0</td>\n",
              "      <td>...</td>\n",
              "      <td>0.0</td>\n",
              "      <td>0.0</td>\n",
              "      <td>0.0</td>\n",
              "      <td>0.0</td>\n",
              "      <td>0.0</td>\n",
              "      <td>0.0</td>\n",
              "      <td>0.0</td>\n",
              "      <td>0.0</td>\n",
              "      <td>0.0</td>\n",
              "      <td>0.0</td>\n",
              "    </tr>\n",
              "    <tr>\n",
              "      <th>2688</th>\n",
              "      <td>0.0</td>\n",
              "      <td>0.0</td>\n",
              "      <td>0.0</td>\n",
              "      <td>0.0</td>\n",
              "      <td>0.0</td>\n",
              "      <td>0.0</td>\n",
              "      <td>0.0</td>\n",
              "      <td>0.0</td>\n",
              "      <td>0.0</td>\n",
              "      <td>0.0</td>\n",
              "      <td>...</td>\n",
              "      <td>0.0</td>\n",
              "      <td>0.0</td>\n",
              "      <td>0.0</td>\n",
              "      <td>0.0</td>\n",
              "      <td>0.0</td>\n",
              "      <td>0.0</td>\n",
              "      <td>0.0</td>\n",
              "      <td>0.0</td>\n",
              "      <td>0.0</td>\n",
              "      <td>0.0</td>\n",
              "    </tr>\n",
              "  </tbody>\n",
              "</table>\n",
              "<p>3 rows × 39 columns</p>\n",
              "</div>\n",
              "      <button class=\"colab-df-convert\" onclick=\"convertToInteractive('df-67ca3888-1398-4113-9c3c-e78155b589df')\"\n",
              "              title=\"Convert this dataframe to an interactive table.\"\n",
              "              style=\"display:none;\">\n",
              "        \n",
              "  <svg xmlns=\"http://www.w3.org/2000/svg\" height=\"24px\"viewBox=\"0 0 24 24\"\n",
              "       width=\"24px\">\n",
              "    <path d=\"M0 0h24v24H0V0z\" fill=\"none\"/>\n",
              "    <path d=\"M18.56 5.44l.94 2.06.94-2.06 2.06-.94-2.06-.94-.94-2.06-.94 2.06-2.06.94zm-11 1L8.5 8.5l.94-2.06 2.06-.94-2.06-.94L8.5 2.5l-.94 2.06-2.06.94zm10 10l.94 2.06.94-2.06 2.06-.94-2.06-.94-.94-2.06-.94 2.06-2.06.94z\"/><path d=\"M17.41 7.96l-1.37-1.37c-.4-.4-.92-.59-1.43-.59-.52 0-1.04.2-1.43.59L10.3 9.45l-7.72 7.72c-.78.78-.78 2.05 0 2.83L4 21.41c.39.39.9.59 1.41.59.51 0 1.02-.2 1.41-.59l7.78-7.78 2.81-2.81c.8-.78.8-2.07 0-2.86zM5.41 20L4 18.59l7.72-7.72 1.47 1.35L5.41 20z\"/>\n",
              "  </svg>\n",
              "      </button>\n",
              "      \n",
              "  <style>\n",
              "    .colab-df-container {\n",
              "      display:flex;\n",
              "      flex-wrap:wrap;\n",
              "      gap: 12px;\n",
              "    }\n",
              "\n",
              "    .colab-df-convert {\n",
              "      background-color: #E8F0FE;\n",
              "      border: none;\n",
              "      border-radius: 50%;\n",
              "      cursor: pointer;\n",
              "      display: none;\n",
              "      fill: #1967D2;\n",
              "      height: 32px;\n",
              "      padding: 0 0 0 0;\n",
              "      width: 32px;\n",
              "    }\n",
              "\n",
              "    .colab-df-convert:hover {\n",
              "      background-color: #E2EBFA;\n",
              "      box-shadow: 0px 1px 2px rgba(60, 64, 67, 0.3), 0px 1px 3px 1px rgba(60, 64, 67, 0.15);\n",
              "      fill: #174EA6;\n",
              "    }\n",
              "\n",
              "    [theme=dark] .colab-df-convert {\n",
              "      background-color: #3B4455;\n",
              "      fill: #D2E3FC;\n",
              "    }\n",
              "\n",
              "    [theme=dark] .colab-df-convert:hover {\n",
              "      background-color: #434B5C;\n",
              "      box-shadow: 0px 1px 3px 1px rgba(0, 0, 0, 0.15);\n",
              "      filter: drop-shadow(0px 1px 2px rgba(0, 0, 0, 0.3));\n",
              "      fill: #FFFFFF;\n",
              "    }\n",
              "  </style>\n",
              "\n",
              "      <script>\n",
              "        const buttonEl =\n",
              "          document.querySelector('#df-67ca3888-1398-4113-9c3c-e78155b589df button.colab-df-convert');\n",
              "        buttonEl.style.display =\n",
              "          google.colab.kernel.accessAllowed ? 'block' : 'none';\n",
              "\n",
              "        async function convertToInteractive(key) {\n",
              "          const element = document.querySelector('#df-67ca3888-1398-4113-9c3c-e78155b589df');\n",
              "          const dataTable =\n",
              "            await google.colab.kernel.invokeFunction('convertToInteractive',\n",
              "                                                     [key], {});\n",
              "          if (!dataTable) return;\n",
              "\n",
              "          const docLinkHtml = 'Like what you see? Visit the ' +\n",
              "            '<a target=\"_blank\" href=https://colab.research.google.com/notebooks/data_table.ipynb>data table notebook</a>'\n",
              "            + ' to learn more about interactive tables.';\n",
              "          element.innerHTML = '';\n",
              "          dataTable['output_type'] = 'display_data';\n",
              "          await google.colab.output.renderOutput(dataTable, element);\n",
              "          const docLink = document.createElement('div');\n",
              "          docLink.innerHTML = docLinkHtml;\n",
              "          element.appendChild(docLink);\n",
              "        }\n",
              "      </script>\n",
              "    </div>\n",
              "  </div>\n",
              "  "
            ],
            "text/plain": [
              "       team_ATL  team_BOS  team_BRK  team_CHA  team_CHH  team_CHI  team_CHO  \\\n",
              "12860       0.0       0.0       0.0       0.0       0.0       0.0       0.0   \n",
              "4545        0.0       1.0       0.0       0.0       0.0       0.0       0.0   \n",
              "2688        0.0       0.0       0.0       0.0       0.0       0.0       0.0   \n",
              "\n",
              "       team_CLE  team_DAL  team_DEN  ...  team_POR  team_SAC  team_SAS  \\\n",
              "12860       0.0       0.0       0.0  ...       0.0       0.0       0.0   \n",
              "4545        0.0       0.0       0.0  ...       0.0       0.0       0.0   \n",
              "2688        0.0       0.0       0.0  ...       0.0       0.0       0.0   \n",
              "\n",
              "       team_SEA  team_TOR  team_TOT  team_UTA  team_VAN  team_WAS  team_WSB  \n",
              "12860       0.0       0.0       0.0       0.0       0.0       0.0       0.0  \n",
              "4545        0.0       0.0       0.0       0.0       0.0       0.0       0.0  \n",
              "2688        0.0       0.0       0.0       0.0       0.0       0.0       0.0  \n",
              "\n",
              "[3 rows x 39 columns]"
            ]
          },
          "execution_count": 122,
          "metadata": {},
          "output_type": "execute_result"
        }
      ],
      "source": [
        "# I want to encode:\n",
        "nbax_train['team']\n",
        "\n",
        "# 1) call:\n",
        "encoder = OneHotEncoder(handle_unknown='ignore')\n",
        "\n",
        "# 2) train:\n",
        "encoder.fit_transform(nbax_train['team'].values.reshape(-1,1))\n",
        "\n",
        "encoder.categories_\n",
        "# lets create a new df with the encoded info:\n",
        "encoder_df = pd.DataFrame(\n",
        "            encoder.transform(nbax_train[['team']]).toarray(),\n",
        "            index=nbax_train.index,\n",
        "            columns=encoder.get_feature_names(['team'])\n",
        "            )\n",
        "\n",
        "\n",
        "encoder_df.head(3)\n"
      ]
    },
    {
      "cell_type": "code",
      "execution_count": null,
      "id": "icJszlA7MfPS",
      "metadata": {
        "colab": {
          "base_uri": "https://localhost:8080/",
          "height": 289
        },
        "id": "icJszlA7MfPS",
        "outputId": "efd32b00-df0b-47ad-d0d1-a00ee6b0b64e"
      },
      "outputs": [
        {
          "data": {
            "text/html": [
              "\n",
              "  <div id=\"df-6b69657c-b463-4254-b181-88e4be389342\">\n",
              "    <div class=\"colab-df-container\">\n",
              "      <div>\n",
              "<style scoped>\n",
              "    .dataframe tbody tr th:only-of-type {\n",
              "        vertical-align: middle;\n",
              "    }\n",
              "\n",
              "    .dataframe tbody tr th {\n",
              "        vertical-align: top;\n",
              "    }\n",
              "\n",
              "    .dataframe thead th {\n",
              "        text-align: right;\n",
              "    }\n",
              "</style>\n",
              "<table border=\"1\" class=\"dataframe\">\n",
              "  <thead>\n",
              "    <tr style=\"text-align: right;\">\n",
              "      <th></th>\n",
              "      <th>season_id</th>\n",
              "      <th>player_id</th>\n",
              "      <th>player_season</th>\n",
              "      <th>player</th>\n",
              "      <th>season</th>\n",
              "      <th>season_start</th>\n",
              "      <th>games</th>\n",
              "      <th>gamesstarted</th>\n",
              "      <th>mp</th>\n",
              "      <th>fg_perc</th>\n",
              "      <th>...</th>\n",
              "      <th>team_POR</th>\n",
              "      <th>team_SAC</th>\n",
              "      <th>team_SAS</th>\n",
              "      <th>team_SEA</th>\n",
              "      <th>team_TOR</th>\n",
              "      <th>team_TOT</th>\n",
              "      <th>team_UTA</th>\n",
              "      <th>team_VAN</th>\n",
              "      <th>team_WAS</th>\n",
              "      <th>team_WSB</th>\n",
              "    </tr>\n",
              "  </thead>\n",
              "  <tbody>\n",
              "    <tr>\n",
              "      <th>12860</th>\n",
              "      <td>12860</td>\n",
              "      <td>2346</td>\n",
              "      <td>11</td>\n",
              "      <td>Felton Spencer</td>\n",
              "      <td>2000-01</td>\n",
              "      <td>2000</td>\n",
              "      <td>0.202381</td>\n",
              "      <td>0.000000</td>\n",
              "      <td>0.144165</td>\n",
              "      <td>1.751281</td>\n",
              "      <td>...</td>\n",
              "      <td>0.0</td>\n",
              "      <td>0.0</td>\n",
              "      <td>0.0</td>\n",
              "      <td>0.0</td>\n",
              "      <td>0.0</td>\n",
              "      <td>0.0</td>\n",
              "      <td>0.0</td>\n",
              "      <td>0.0</td>\n",
              "      <td>0.0</td>\n",
              "      <td>0.0</td>\n",
              "    </tr>\n",
              "    <tr>\n",
              "      <th>4545</th>\n",
              "      <td>4547</td>\n",
              "      <td>824</td>\n",
              "      <td>1</td>\n",
              "      <td>Rick Fox</td>\n",
              "      <td>1991-92</td>\n",
              "      <td>1991</td>\n",
              "      <td>0.952381</td>\n",
              "      <td>0.060241</td>\n",
              "      <td>0.434783</td>\n",
              "      <td>0.251590</td>\n",
              "      <td>...</td>\n",
              "      <td>0.0</td>\n",
              "      <td>0.0</td>\n",
              "      <td>0.0</td>\n",
              "      <td>0.0</td>\n",
              "      <td>0.0</td>\n",
              "      <td>0.0</td>\n",
              "      <td>0.0</td>\n",
              "      <td>0.0</td>\n",
              "      <td>0.0</td>\n",
              "      <td>0.0</td>\n",
              "    </tr>\n",
              "    <tr>\n",
              "      <th>2688</th>\n",
              "      <td>2688</td>\n",
              "      <td>478</td>\n",
              "      <td>3</td>\n",
              "      <td>Keith Closs</td>\n",
              "      <td>1999-00</td>\n",
              "      <td>1999</td>\n",
              "      <td>0.666667</td>\n",
              "      <td>0.072289</td>\n",
              "      <td>0.329519</td>\n",
              "      <td>0.549401</td>\n",
              "      <td>...</td>\n",
              "      <td>0.0</td>\n",
              "      <td>0.0</td>\n",
              "      <td>0.0</td>\n",
              "      <td>0.0</td>\n",
              "      <td>0.0</td>\n",
              "      <td>0.0</td>\n",
              "      <td>0.0</td>\n",
              "      <td>0.0</td>\n",
              "      <td>0.0</td>\n",
              "      <td>0.0</td>\n",
              "    </tr>\n",
              "  </tbody>\n",
              "</table>\n",
              "<p>3 rows × 59 columns</p>\n",
              "</div>\n",
              "      <button class=\"colab-df-convert\" onclick=\"convertToInteractive('df-6b69657c-b463-4254-b181-88e4be389342')\"\n",
              "              title=\"Convert this dataframe to an interactive table.\"\n",
              "              style=\"display:none;\">\n",
              "        \n",
              "  <svg xmlns=\"http://www.w3.org/2000/svg\" height=\"24px\"viewBox=\"0 0 24 24\"\n",
              "       width=\"24px\">\n",
              "    <path d=\"M0 0h24v24H0V0z\" fill=\"none\"/>\n",
              "    <path d=\"M18.56 5.44l.94 2.06.94-2.06 2.06-.94-2.06-.94-.94-2.06-.94 2.06-2.06.94zm-11 1L8.5 8.5l.94-2.06 2.06-.94-2.06-.94L8.5 2.5l-.94 2.06-2.06.94zm10 10l.94 2.06.94-2.06 2.06-.94-2.06-.94-.94-2.06-.94 2.06-2.06.94z\"/><path d=\"M17.41 7.96l-1.37-1.37c-.4-.4-.92-.59-1.43-.59-.52 0-1.04.2-1.43.59L10.3 9.45l-7.72 7.72c-.78.78-.78 2.05 0 2.83L4 21.41c.39.39.9.59 1.41.59.51 0 1.02-.2 1.41-.59l7.78-7.78 2.81-2.81c.8-.78.8-2.07 0-2.86zM5.41 20L4 18.59l7.72-7.72 1.47 1.35L5.41 20z\"/>\n",
              "  </svg>\n",
              "      </button>\n",
              "      \n",
              "  <style>\n",
              "    .colab-df-container {\n",
              "      display:flex;\n",
              "      flex-wrap:wrap;\n",
              "      gap: 12px;\n",
              "    }\n",
              "\n",
              "    .colab-df-convert {\n",
              "      background-color: #E8F0FE;\n",
              "      border: none;\n",
              "      border-radius: 50%;\n",
              "      cursor: pointer;\n",
              "      display: none;\n",
              "      fill: #1967D2;\n",
              "      height: 32px;\n",
              "      padding: 0 0 0 0;\n",
              "      width: 32px;\n",
              "    }\n",
              "\n",
              "    .colab-df-convert:hover {\n",
              "      background-color: #E2EBFA;\n",
              "      box-shadow: 0px 1px 2px rgba(60, 64, 67, 0.3), 0px 1px 3px 1px rgba(60, 64, 67, 0.15);\n",
              "      fill: #174EA6;\n",
              "    }\n",
              "\n",
              "    [theme=dark] .colab-df-convert {\n",
              "      background-color: #3B4455;\n",
              "      fill: #D2E3FC;\n",
              "    }\n",
              "\n",
              "    [theme=dark] .colab-df-convert:hover {\n",
              "      background-color: #434B5C;\n",
              "      box-shadow: 0px 1px 3px 1px rgba(0, 0, 0, 0.15);\n",
              "      filter: drop-shadow(0px 1px 2px rgba(0, 0, 0, 0.3));\n",
              "      fill: #FFFFFF;\n",
              "    }\n",
              "  </style>\n",
              "\n",
              "      <script>\n",
              "        const buttonEl =\n",
              "          document.querySelector('#df-6b69657c-b463-4254-b181-88e4be389342 button.colab-df-convert');\n",
              "        buttonEl.style.display =\n",
              "          google.colab.kernel.accessAllowed ? 'block' : 'none';\n",
              "\n",
              "        async function convertToInteractive(key) {\n",
              "          const element = document.querySelector('#df-6b69657c-b463-4254-b181-88e4be389342');\n",
              "          const dataTable =\n",
              "            await google.colab.kernel.invokeFunction('convertToInteractive',\n",
              "                                                     [key], {});\n",
              "          if (!dataTable) return;\n",
              "\n",
              "          const docLinkHtml = 'Like what you see? Visit the ' +\n",
              "            '<a target=\"_blank\" href=https://colab.research.google.com/notebooks/data_table.ipynb>data table notebook</a>'\n",
              "            + ' to learn more about interactive tables.';\n",
              "          element.innerHTML = '';\n",
              "          dataTable['output_type'] = 'display_data';\n",
              "          await google.colab.output.renderOutput(dataTable, element);\n",
              "          const docLink = document.createElement('div');\n",
              "          docLink.innerHTML = docLinkHtml;\n",
              "          element.appendChild(docLink);\n",
              "        }\n",
              "      </script>\n",
              "    </div>\n",
              "  </div>\n",
              "  "
            ],
            "text/plain": [
              "       season_id  player_id  player_season          player   season  \\\n",
              "12860      12860       2346             11  Felton Spencer  2000-01   \n",
              "4545        4547        824              1        Rick Fox  1991-92   \n",
              "2688        2688        478              3     Keith Closs  1999-00   \n",
              "\n",
              "       season_start     games  gamesstarted        mp   fg_perc  ...  \\\n",
              "12860          2000  0.202381      0.000000  0.144165  1.751281  ...   \n",
              "4545           1991  0.952381      0.060241  0.434783  0.251590  ...   \n",
              "2688           1999  0.666667      0.072289  0.329519  0.549401  ...   \n",
              "\n",
              "       team_POR  team_SAC  team_SAS  team_SEA  team_TOR  team_TOT  team_UTA  \\\n",
              "12860       0.0       0.0       0.0       0.0       0.0       0.0       0.0   \n",
              "4545        0.0       0.0       0.0       0.0       0.0       0.0       0.0   \n",
              "2688        0.0       0.0       0.0       0.0       0.0       0.0       0.0   \n",
              "\n",
              "       team_VAN  team_WAS  team_WSB  \n",
              "12860       0.0       0.0       0.0  \n",
              "4545        0.0       0.0       0.0  \n",
              "2688        0.0       0.0       0.0  \n",
              "\n",
              "[3 rows x 59 columns]"
            ]
          },
          "execution_count": 123,
          "metadata": {},
          "output_type": "execute_result"
        }
      ],
      "source": [
        "# Now I do the join of nbax_train and encoder_df:\n",
        "nbax_train = nbax_train.join(encoder_df)\n",
        "nbax_train.drop(columns=['team'], inplace=True)\n",
        "nbax_train.head(3)\n"
      ]
    },
    {
      "cell_type": "code",
      "execution_count": null,
      "id": "LIbRjCorAmcV",
      "metadata": {
        "colab": {
          "base_uri": "https://localhost:8080/"
        },
        "id": "LIbRjCorAmcV",
        "outputId": "25518512-84e2-4524-fe00-952a158fdbc0"
      },
      "outputs": [
        {
          "data": {
            "text/plain": [
              "(10556, 59)"
            ]
          },
          "execution_count": 124,
          "metadata": {},
          "output_type": "execute_result"
        }
      ],
      "source": [
        "nbax_train.shape"
      ]
    },
    {
      "cell_type": "code",
      "execution_count": null,
      "id": "liRbZ2eFRhLW",
      "metadata": {
        "colab": {
          "base_uri": "https://localhost:8080/",
          "height": 310
        },
        "id": "liRbZ2eFRhLW",
        "outputId": "b86b21b4-3ced-45c4-bb2a-a866dee2f9a6"
      },
      "outputs": [
        {
          "name": "stderr",
          "output_type": "stream",
          "text": [
            "/usr/local/lib/python3.7/dist-packages/sklearn/base.py:444: UserWarning: X has feature names, but OneHotEncoder was fitted without feature names\n",
            "  f\"X has feature names, but {self.__class__.__name__} was fitted without\"\n",
            "/usr/local/lib/python3.7/dist-packages/sklearn/utils/deprecation.py:87: FutureWarning: Function get_feature_names is deprecated; get_feature_names is deprecated in 1.0 and will be removed in 1.2. Please use get_feature_names_out instead.\n",
            "  warnings.warn(msg, category=FutureWarning)\n"
          ]
        },
        {
          "data": {
            "text/html": [
              "\n",
              "  <div id=\"df-6fdddc9b-a414-4a85-83fc-ec31d9e4af3e\">\n",
              "    <div class=\"colab-df-container\">\n",
              "      <div>\n",
              "<style scoped>\n",
              "    .dataframe tbody tr th:only-of-type {\n",
              "        vertical-align: middle;\n",
              "    }\n",
              "\n",
              "    .dataframe tbody tr th {\n",
              "        vertical-align: top;\n",
              "    }\n",
              "\n",
              "    .dataframe thead th {\n",
              "        text-align: right;\n",
              "    }\n",
              "</style>\n",
              "<table border=\"1\" class=\"dataframe\">\n",
              "  <thead>\n",
              "    <tr style=\"text-align: right;\">\n",
              "      <th></th>\n",
              "      <th>team_ATL</th>\n",
              "      <th>team_BOS</th>\n",
              "      <th>team_BRK</th>\n",
              "      <th>team_CHA</th>\n",
              "      <th>team_CHH</th>\n",
              "      <th>team_CHI</th>\n",
              "      <th>team_CHO</th>\n",
              "      <th>team_CLE</th>\n",
              "      <th>team_DAL</th>\n",
              "      <th>team_DEN</th>\n",
              "      <th>...</th>\n",
              "      <th>team_POR</th>\n",
              "      <th>team_SAC</th>\n",
              "      <th>team_SAS</th>\n",
              "      <th>team_SEA</th>\n",
              "      <th>team_TOR</th>\n",
              "      <th>team_TOT</th>\n",
              "      <th>team_UTA</th>\n",
              "      <th>team_VAN</th>\n",
              "      <th>team_WAS</th>\n",
              "      <th>team_WSB</th>\n",
              "    </tr>\n",
              "  </thead>\n",
              "  <tbody>\n",
              "    <tr>\n",
              "      <th>2083</th>\n",
              "      <td>0.0</td>\n",
              "      <td>0.0</td>\n",
              "      <td>0.0</td>\n",
              "      <td>0.0</td>\n",
              "      <td>0.0</td>\n",
              "      <td>0.0</td>\n",
              "      <td>0.0</td>\n",
              "      <td>0.0</td>\n",
              "      <td>0.0</td>\n",
              "      <td>0.0</td>\n",
              "      <td>...</td>\n",
              "      <td>0.0</td>\n",
              "      <td>0.0</td>\n",
              "      <td>1.0</td>\n",
              "      <td>0.0</td>\n",
              "      <td>0.0</td>\n",
              "      <td>0.0</td>\n",
              "      <td>0.0</td>\n",
              "      <td>0.0</td>\n",
              "      <td>0.0</td>\n",
              "      <td>0.0</td>\n",
              "    </tr>\n",
              "    <tr>\n",
              "      <th>11133</th>\n",
              "      <td>0.0</td>\n",
              "      <td>0.0</td>\n",
              "      <td>0.0</td>\n",
              "      <td>0.0</td>\n",
              "      <td>0.0</td>\n",
              "      <td>0.0</td>\n",
              "      <td>0.0</td>\n",
              "      <td>0.0</td>\n",
              "      <td>0.0</td>\n",
              "      <td>0.0</td>\n",
              "      <td>...</td>\n",
              "      <td>0.0</td>\n",
              "      <td>0.0</td>\n",
              "      <td>0.0</td>\n",
              "      <td>0.0</td>\n",
              "      <td>0.0</td>\n",
              "      <td>0.0</td>\n",
              "      <td>0.0</td>\n",
              "      <td>0.0</td>\n",
              "      <td>1.0</td>\n",
              "      <td>0.0</td>\n",
              "    </tr>\n",
              "    <tr>\n",
              "      <th>75</th>\n",
              "      <td>0.0</td>\n",
              "      <td>0.0</td>\n",
              "      <td>0.0</td>\n",
              "      <td>0.0</td>\n",
              "      <td>0.0</td>\n",
              "      <td>0.0</td>\n",
              "      <td>0.0</td>\n",
              "      <td>0.0</td>\n",
              "      <td>0.0</td>\n",
              "      <td>0.0</td>\n",
              "      <td>...</td>\n",
              "      <td>0.0</td>\n",
              "      <td>0.0</td>\n",
              "      <td>0.0</td>\n",
              "      <td>0.0</td>\n",
              "      <td>0.0</td>\n",
              "      <td>0.0</td>\n",
              "      <td>0.0</td>\n",
              "      <td>0.0</td>\n",
              "      <td>0.0</td>\n",
              "      <td>0.0</td>\n",
              "    </tr>\n",
              "  </tbody>\n",
              "</table>\n",
              "<p>3 rows × 39 columns</p>\n",
              "</div>\n",
              "      <button class=\"colab-df-convert\" onclick=\"convertToInteractive('df-6fdddc9b-a414-4a85-83fc-ec31d9e4af3e')\"\n",
              "              title=\"Convert this dataframe to an interactive table.\"\n",
              "              style=\"display:none;\">\n",
              "        \n",
              "  <svg xmlns=\"http://www.w3.org/2000/svg\" height=\"24px\"viewBox=\"0 0 24 24\"\n",
              "       width=\"24px\">\n",
              "    <path d=\"M0 0h24v24H0V0z\" fill=\"none\"/>\n",
              "    <path d=\"M18.56 5.44l.94 2.06.94-2.06 2.06-.94-2.06-.94-.94-2.06-.94 2.06-2.06.94zm-11 1L8.5 8.5l.94-2.06 2.06-.94-2.06-.94L8.5 2.5l-.94 2.06-2.06.94zm10 10l.94 2.06.94-2.06 2.06-.94-2.06-.94-.94-2.06-.94 2.06-2.06.94z\"/><path d=\"M17.41 7.96l-1.37-1.37c-.4-.4-.92-.59-1.43-.59-.52 0-1.04.2-1.43.59L10.3 9.45l-7.72 7.72c-.78.78-.78 2.05 0 2.83L4 21.41c.39.39.9.59 1.41.59.51 0 1.02-.2 1.41-.59l7.78-7.78 2.81-2.81c.8-.78.8-2.07 0-2.86zM5.41 20L4 18.59l7.72-7.72 1.47 1.35L5.41 20z\"/>\n",
              "  </svg>\n",
              "      </button>\n",
              "      \n",
              "  <style>\n",
              "    .colab-df-container {\n",
              "      display:flex;\n",
              "      flex-wrap:wrap;\n",
              "      gap: 12px;\n",
              "    }\n",
              "\n",
              "    .colab-df-convert {\n",
              "      background-color: #E8F0FE;\n",
              "      border: none;\n",
              "      border-radius: 50%;\n",
              "      cursor: pointer;\n",
              "      display: none;\n",
              "      fill: #1967D2;\n",
              "      height: 32px;\n",
              "      padding: 0 0 0 0;\n",
              "      width: 32px;\n",
              "    }\n",
              "\n",
              "    .colab-df-convert:hover {\n",
              "      background-color: #E2EBFA;\n",
              "      box-shadow: 0px 1px 2px rgba(60, 64, 67, 0.3), 0px 1px 3px 1px rgba(60, 64, 67, 0.15);\n",
              "      fill: #174EA6;\n",
              "    }\n",
              "\n",
              "    [theme=dark] .colab-df-convert {\n",
              "      background-color: #3B4455;\n",
              "      fill: #D2E3FC;\n",
              "    }\n",
              "\n",
              "    [theme=dark] .colab-df-convert:hover {\n",
              "      background-color: #434B5C;\n",
              "      box-shadow: 0px 1px 3px 1px rgba(0, 0, 0, 0.15);\n",
              "      filter: drop-shadow(0px 1px 2px rgba(0, 0, 0, 0.3));\n",
              "      fill: #FFFFFF;\n",
              "    }\n",
              "  </style>\n",
              "\n",
              "      <script>\n",
              "        const buttonEl =\n",
              "          document.querySelector('#df-6fdddc9b-a414-4a85-83fc-ec31d9e4af3e button.colab-df-convert');\n",
              "        buttonEl.style.display =\n",
              "          google.colab.kernel.accessAllowed ? 'block' : 'none';\n",
              "\n",
              "        async function convertToInteractive(key) {\n",
              "          const element = document.querySelector('#df-6fdddc9b-a414-4a85-83fc-ec31d9e4af3e');\n",
              "          const dataTable =\n",
              "            await google.colab.kernel.invokeFunction('convertToInteractive',\n",
              "                                                     [key], {});\n",
              "          if (!dataTable) return;\n",
              "\n",
              "          const docLinkHtml = 'Like what you see? Visit the ' +\n",
              "            '<a target=\"_blank\" href=https://colab.research.google.com/notebooks/data_table.ipynb>data table notebook</a>'\n",
              "            + ' to learn more about interactive tables.';\n",
              "          element.innerHTML = '';\n",
              "          dataTable['output_type'] = 'display_data';\n",
              "          await google.colab.output.renderOutput(dataTable, element);\n",
              "          const docLink = document.createElement('div');\n",
              "          docLink.innerHTML = docLinkHtml;\n",
              "          element.appendChild(docLink);\n",
              "        }\n",
              "      </script>\n",
              "    </div>\n",
              "  </div>\n",
              "  "
            ],
            "text/plain": [
              "       team_ATL  team_BOS  team_BRK  team_CHA  team_CHH  team_CHI  team_CHO  \\\n",
              "2083        0.0       0.0       0.0       0.0       0.0       0.0       0.0   \n",
              "11133       0.0       0.0       0.0       0.0       0.0       0.0       0.0   \n",
              "75          0.0       0.0       0.0       0.0       0.0       0.0       0.0   \n",
              "\n",
              "       team_CLE  team_DAL  team_DEN  ...  team_POR  team_SAC  team_SAS  \\\n",
              "2083        0.0       0.0       0.0  ...       0.0       0.0       1.0   \n",
              "11133       0.0       0.0       0.0  ...       0.0       0.0       0.0   \n",
              "75          0.0       0.0       0.0  ...       0.0       0.0       0.0   \n",
              "\n",
              "       team_SEA  team_TOR  team_TOT  team_UTA  team_VAN  team_WAS  team_WSB  \n",
              "2083        0.0       0.0       0.0       0.0       0.0       0.0       0.0  \n",
              "11133       0.0       0.0       0.0       0.0       0.0       1.0       0.0  \n",
              "75          0.0       0.0       0.0       0.0       0.0       0.0       0.0  \n",
              "\n",
              "[3 rows x 39 columns]"
            ]
          },
          "execution_count": 125,
          "metadata": {},
          "output_type": "execute_result"
        }
      ],
      "source": [
        "# Now nbax_test['team']:\n",
        " \n",
        "## 1) call:\n",
        "#encoder = OneHotEncoder(handle_unknown='ignore')\n",
        "#\n",
        "## 2) train:\n",
        "#encoder.fit(nbax_train['team'].values.reshape(-1,1))\n",
        "#\n",
        "encoder.categories_\n",
        "# lets create a new df with the encoded info:\n",
        "encoder_df = pd.DataFrame(\n",
        "            encoder.transform(nbax_test[['team']]).toarray(),\n",
        "            index=nbax_test.index,\n",
        "            columns=encoder.get_feature_names(['team'])\n",
        "            )\n",
        "# as we can see encoder_df its a df with 41 columns and 11860 rows\n",
        "encoder_df.head(3)\n",
        "#encoder_df.shape"
      ]
    },
    {
      "cell_type": "code",
      "execution_count": null,
      "id": "BV8UO39oRv5J",
      "metadata": {
        "colab": {
          "base_uri": "https://localhost:8080/",
          "height": 289
        },
        "id": "BV8UO39oRv5J",
        "outputId": "bad6b247-8117-46c3-e437-ebbbed6c49df"
      },
      "outputs": [
        {
          "data": {
            "text/html": [
              "\n",
              "  <div id=\"df-7071a0df-7c1e-4f3c-b134-cf41e9701966\">\n",
              "    <div class=\"colab-df-container\">\n",
              "      <div>\n",
              "<style scoped>\n",
              "    .dataframe tbody tr th:only-of-type {\n",
              "        vertical-align: middle;\n",
              "    }\n",
              "\n",
              "    .dataframe tbody tr th {\n",
              "        vertical-align: top;\n",
              "    }\n",
              "\n",
              "    .dataframe thead th {\n",
              "        text-align: right;\n",
              "    }\n",
              "</style>\n",
              "<table border=\"1\" class=\"dataframe\">\n",
              "  <thead>\n",
              "    <tr style=\"text-align: right;\">\n",
              "      <th></th>\n",
              "      <th>season_id</th>\n",
              "      <th>player_id</th>\n",
              "      <th>player_season</th>\n",
              "      <th>player</th>\n",
              "      <th>season</th>\n",
              "      <th>season_start</th>\n",
              "      <th>games</th>\n",
              "      <th>gamesstarted</th>\n",
              "      <th>mp</th>\n",
              "      <th>fg_perc</th>\n",
              "      <th>...</th>\n",
              "      <th>team_POR</th>\n",
              "      <th>team_SAC</th>\n",
              "      <th>team_SAS</th>\n",
              "      <th>team_SEA</th>\n",
              "      <th>team_TOR</th>\n",
              "      <th>team_TOT</th>\n",
              "      <th>team_UTA</th>\n",
              "      <th>team_VAN</th>\n",
              "      <th>team_WAS</th>\n",
              "      <th>team_WSB</th>\n",
              "    </tr>\n",
              "  </thead>\n",
              "  <tbody>\n",
              "    <tr>\n",
              "      <th>2083</th>\n",
              "      <td>2084</td>\n",
              "      <td>377</td>\n",
              "      <td>7</td>\n",
              "      <td>Willie Burton</td>\n",
              "      <td>1997-98</td>\n",
              "      <td>1997</td>\n",
              "      <td>0.142857</td>\n",
              "      <td>0.000000</td>\n",
              "      <td>0.075515</td>\n",
              "      <td>-0.578027</td>\n",
              "      <td>...</td>\n",
              "      <td>0.0</td>\n",
              "      <td>0.0</td>\n",
              "      <td>1.0</td>\n",
              "      <td>0.0</td>\n",
              "      <td>0.0</td>\n",
              "      <td>0.0</td>\n",
              "      <td>0.0</td>\n",
              "      <td>0.0</td>\n",
              "      <td>0.0</td>\n",
              "      <td>0.0</td>\n",
              "    </tr>\n",
              "    <tr>\n",
              "      <th>11133</th>\n",
              "      <td>11116</td>\n",
              "      <td>2014</td>\n",
              "      <td>5</td>\n",
              "      <td>Otto Porter</td>\n",
              "      <td>2017-18</td>\n",
              "      <td>2017</td>\n",
              "      <td>0.904762</td>\n",
              "      <td>0.927711</td>\n",
              "      <td>0.723112</td>\n",
              "      <td>0.719579</td>\n",
              "      <td>...</td>\n",
              "      <td>0.0</td>\n",
              "      <td>0.0</td>\n",
              "      <td>0.0</td>\n",
              "      <td>0.0</td>\n",
              "      <td>0.0</td>\n",
              "      <td>0.0</td>\n",
              "      <td>0.0</td>\n",
              "      <td>0.0</td>\n",
              "      <td>1.0</td>\n",
              "      <td>0.0</td>\n",
              "    </tr>\n",
              "    <tr>\n",
              "      <th>75</th>\n",
              "      <td>75</td>\n",
              "      <td>14</td>\n",
              "      <td>4</td>\n",
              "      <td>Rafael Addison</td>\n",
              "      <td>1994-95</td>\n",
              "      <td>1994</td>\n",
              "      <td>0.928571</td>\n",
              "      <td>0.192771</td>\n",
              "      <td>0.514874</td>\n",
              "      <td>0.432404</td>\n",
              "      <td>...</td>\n",
              "      <td>0.0</td>\n",
              "      <td>0.0</td>\n",
              "      <td>0.0</td>\n",
              "      <td>0.0</td>\n",
              "      <td>0.0</td>\n",
              "      <td>0.0</td>\n",
              "      <td>0.0</td>\n",
              "      <td>0.0</td>\n",
              "      <td>0.0</td>\n",
              "      <td>0.0</td>\n",
              "    </tr>\n",
              "  </tbody>\n",
              "</table>\n",
              "<p>3 rows × 59 columns</p>\n",
              "</div>\n",
              "      <button class=\"colab-df-convert\" onclick=\"convertToInteractive('df-7071a0df-7c1e-4f3c-b134-cf41e9701966')\"\n",
              "              title=\"Convert this dataframe to an interactive table.\"\n",
              "              style=\"display:none;\">\n",
              "        \n",
              "  <svg xmlns=\"http://www.w3.org/2000/svg\" height=\"24px\"viewBox=\"0 0 24 24\"\n",
              "       width=\"24px\">\n",
              "    <path d=\"M0 0h24v24H0V0z\" fill=\"none\"/>\n",
              "    <path d=\"M18.56 5.44l.94 2.06.94-2.06 2.06-.94-2.06-.94-.94-2.06-.94 2.06-2.06.94zm-11 1L8.5 8.5l.94-2.06 2.06-.94-2.06-.94L8.5 2.5l-.94 2.06-2.06.94zm10 10l.94 2.06.94-2.06 2.06-.94-2.06-.94-.94-2.06-.94 2.06-2.06.94z\"/><path d=\"M17.41 7.96l-1.37-1.37c-.4-.4-.92-.59-1.43-.59-.52 0-1.04.2-1.43.59L10.3 9.45l-7.72 7.72c-.78.78-.78 2.05 0 2.83L4 21.41c.39.39.9.59 1.41.59.51 0 1.02-.2 1.41-.59l7.78-7.78 2.81-2.81c.8-.78.8-2.07 0-2.86zM5.41 20L4 18.59l7.72-7.72 1.47 1.35L5.41 20z\"/>\n",
              "  </svg>\n",
              "      </button>\n",
              "      \n",
              "  <style>\n",
              "    .colab-df-container {\n",
              "      display:flex;\n",
              "      flex-wrap:wrap;\n",
              "      gap: 12px;\n",
              "    }\n",
              "\n",
              "    .colab-df-convert {\n",
              "      background-color: #E8F0FE;\n",
              "      border: none;\n",
              "      border-radius: 50%;\n",
              "      cursor: pointer;\n",
              "      display: none;\n",
              "      fill: #1967D2;\n",
              "      height: 32px;\n",
              "      padding: 0 0 0 0;\n",
              "      width: 32px;\n",
              "    }\n",
              "\n",
              "    .colab-df-convert:hover {\n",
              "      background-color: #E2EBFA;\n",
              "      box-shadow: 0px 1px 2px rgba(60, 64, 67, 0.3), 0px 1px 3px 1px rgba(60, 64, 67, 0.15);\n",
              "      fill: #174EA6;\n",
              "    }\n",
              "\n",
              "    [theme=dark] .colab-df-convert {\n",
              "      background-color: #3B4455;\n",
              "      fill: #D2E3FC;\n",
              "    }\n",
              "\n",
              "    [theme=dark] .colab-df-convert:hover {\n",
              "      background-color: #434B5C;\n",
              "      box-shadow: 0px 1px 3px 1px rgba(0, 0, 0, 0.15);\n",
              "      filter: drop-shadow(0px 1px 2px rgba(0, 0, 0, 0.3));\n",
              "      fill: #FFFFFF;\n",
              "    }\n",
              "  </style>\n",
              "\n",
              "      <script>\n",
              "        const buttonEl =\n",
              "          document.querySelector('#df-7071a0df-7c1e-4f3c-b134-cf41e9701966 button.colab-df-convert');\n",
              "        buttonEl.style.display =\n",
              "          google.colab.kernel.accessAllowed ? 'block' : 'none';\n",
              "\n",
              "        async function convertToInteractive(key) {\n",
              "          const element = document.querySelector('#df-7071a0df-7c1e-4f3c-b134-cf41e9701966');\n",
              "          const dataTable =\n",
              "            await google.colab.kernel.invokeFunction('convertToInteractive',\n",
              "                                                     [key], {});\n",
              "          if (!dataTable) return;\n",
              "\n",
              "          const docLinkHtml = 'Like what you see? Visit the ' +\n",
              "            '<a target=\"_blank\" href=https://colab.research.google.com/notebooks/data_table.ipynb>data table notebook</a>'\n",
              "            + ' to learn more about interactive tables.';\n",
              "          element.innerHTML = '';\n",
              "          dataTable['output_type'] = 'display_data';\n",
              "          await google.colab.output.renderOutput(dataTable, element);\n",
              "          const docLink = document.createElement('div');\n",
              "          docLink.innerHTML = docLinkHtml;\n",
              "          element.appendChild(docLink);\n",
              "        }\n",
              "      </script>\n",
              "    </div>\n",
              "  </div>\n",
              "  "
            ],
            "text/plain": [
              "       season_id  player_id  player_season          player   season  \\\n",
              "2083        2084        377              7   Willie Burton  1997-98   \n",
              "11133      11116       2014              5     Otto Porter  2017-18   \n",
              "75            75         14              4  Rafael Addison  1994-95   \n",
              "\n",
              "       season_start     games  gamesstarted        mp   fg_perc  ...  \\\n",
              "2083           1997  0.142857      0.000000  0.075515 -0.578027  ...   \n",
              "11133          2017  0.904762      0.927711  0.723112  0.719579  ...   \n",
              "75             1994  0.928571      0.192771  0.514874  0.432404  ...   \n",
              "\n",
              "       team_POR  team_SAC  team_SAS  team_SEA  team_TOR  team_TOT  team_UTA  \\\n",
              "2083        0.0       0.0       1.0       0.0       0.0       0.0       0.0   \n",
              "11133       0.0       0.0       0.0       0.0       0.0       0.0       0.0   \n",
              "75          0.0       0.0       0.0       0.0       0.0       0.0       0.0   \n",
              "\n",
              "       team_VAN  team_WAS  team_WSB  \n",
              "2083        0.0       0.0       0.0  \n",
              "11133       0.0       1.0       0.0  \n",
              "75          0.0       0.0       0.0  \n",
              "\n",
              "[3 rows x 59 columns]"
            ]
          },
          "execution_count": 126,
          "metadata": {},
          "output_type": "execute_result"
        }
      ],
      "source": [
        "# Now I do the join of nbax_train_tot_noencode and encoder_df:\n",
        "nbax_test = nbax_test.join(encoder_df)\n",
        "nbax_test.drop(columns=['team'], inplace=True)\n",
        "nbax_test.head(3)"
      ]
    },
    {
      "cell_type": "code",
      "execution_count": null,
      "id": "-mCQMIY6hANv",
      "metadata": {
        "colab": {
          "base_uri": "https://localhost:8080/"
        },
        "id": "-mCQMIY6hANv",
        "outputId": "d4cf9cac-c5fb-4707-d9d9-a3054a703495"
      },
      "outputs": [
        {
          "data": {
            "text/plain": [
              "59"
            ]
          },
          "execution_count": 129,
          "metadata": {},
          "output_type": "execute_result"
        }
      ],
      "source": [
        "len(nbax_train.columns)\n"
      ]
    },
    {
      "cell_type": "code",
      "execution_count": null,
      "id": "fTVVwrtMB4z7",
      "metadata": {
        "colab": {
          "base_uri": "https://localhost:8080/"
        },
        "id": "fTVVwrtMB4z7",
        "outputId": "e9c4a125-0eca-48bd-8919-88360f699163"
      },
      "outputs": [
        {
          "data": {
            "text/plain": [
              "(1863, 59)"
            ]
          },
          "execution_count": 130,
          "metadata": {},
          "output_type": "execute_result"
        }
      ],
      "source": [
        "nbax_test.shape"
      ]
    },
    {
      "cell_type": "markdown",
      "id": "6592c6c0-7ec8-49ac-936c-2d0fb84ccfef",
      "metadata": {
        "id": "6592c6c0-7ec8-49ac-936c-2d0fb84ccfef",
        "tags": []
      },
      "source": [
        "#### Modeling"
      ]
    },
    {
      "cell_type": "markdown",
      "id": "06240cb2-de21-4d4e-ae0e-0f90c3c0453a",
      "metadata": {
        "id": "06240cb2-de21-4d4e-ae0e-0f90c3c0453a"
      },
      "source": [
        "2.9. Train a logistic regresion model, find the best hyperparameters for: tols, C and max_iter. Try at least 4 values of each parameter. Remember to select based on f1 score, but report also precision and recall. Save the best performing model to use in the next steps."
      ]
    },
    {
      "cell_type": "markdown",
      "id": "XLHvXLydZtm3",
      "metadata": {
        "id": "XLHvXLydZtm3"
      },
      "source": [
        "Now we got nbax_train (11860,55) and nbax_test (2965, 55) ready to be used"
      ]
    },
    {
      "cell_type": "code",
      "execution_count": null,
      "id": "4bdc4abf-ded3-4d8b-9170-c1d5b4951ba7",
      "metadata": {
        "colab": {
          "base_uri": "https://localhost:8080/"
        },
        "id": "4bdc4abf-ded3-4d8b-9170-c1d5b4951ba7",
        "outputId": "af9c1fb8-1705-40d5-e406-d61a1ec0ba02"
      },
      "outputs": [
        {
          "name": "stderr",
          "output_type": "stream",
          "text": [
            "/usr/local/lib/python3.7/dist-packages/sklearn/linear_model/_logistic.py:818: ConvergenceWarning: lbfgs failed to converge (status=1):\n",
            "STOP: TOTAL NO. of ITERATIONS REACHED LIMIT.\n",
            "\n",
            "Increase the number of iterations (max_iter) or scale the data as shown in:\n",
            "    https://scikit-learn.org/stable/modules/preprocessing.html\n",
            "Please also refer to the documentation for alternative solver options:\n",
            "    https://scikit-learn.org/stable/modules/linear_model.html#logistic-regression\n",
            "  extra_warning_msg=_LOGISTIC_SOLVER_CONVERGENCE_MSG,\n"
          ]
        },
        {
          "data": {
            "text/plain": [
              "LogisticRegression(random_state=22)"
            ]
          },
          "execution_count": 80,
          "metadata": {},
          "output_type": "execute_result"
        }
      ],
      "source": [
        "# tol: float, default=1e-4\n",
        "# Tolerance for stopping criteria.\n",
        "# \n",
        "# C: float, default=1.0\n",
        "# Inverse of regularization strength; must be a positive float. Like in support vector machines, smaller values specify stronger regularization.\n",
        "# \n",
        "# max_iterint, default=100\n",
        "# Maximum number of iterations taken for the solvers to converge.\n",
        "\n",
        "features2 =['games', 'gamesstarted', 'mp', 'fg_perc', '3p_perc',\n",
        "       '2p_perc', 'ft_perc', 'trb', 'ast', 'stl', 'blk', 'tov', 'pf', 'pts',\n",
        "       'team_ATL', 'team_BOS', 'team_BRK', 'team_CHA', 'team_CHH', 'team_CHI',\n",
        "       'team_CHO', 'team_CLE', 'team_DAL', 'team_DEN', 'team_DET', 'team_GSW',\n",
        "       'team_HOU', 'team_IND', 'team_LAC', 'team_LAL', 'team_MEM', 'team_MIA',\n",
        "       'team_MIL', 'team_MIN', 'team_NJN', 'team_NOH', 'team_NOK', 'team_NOP',\n",
        "       'team_NYK', 'team_OKC', 'team_ORL', 'team_PHI', 'team_PHO', 'team_POR',\n",
        "       'team_SAC', 'team_SAS', 'team_SEA', 'team_TOR', 'team_TOT', 'team_UTA',\n",
        "       'team_VAN', 'team_WAS', 'team_WSB']\n",
        "log_regressor = LogisticRegression(random_state=22)\n",
        "log_regressor.fit(nbax_train[features2], nbay_train)\n"
      ]
    },
    {
      "cell_type": "code",
      "execution_count": null,
      "id": "yDmHnZCRf7W0",
      "metadata": {
        "id": "yDmHnZCRf7W0"
      },
      "outputs": [],
      "source": [
        "def search_best_hyperparameters_lr(tol_a, c_a, m_i, y_true, dfx_train_f, dfx_test_f, nbay_train):\n",
        "  '''\n",
        "    For each combination of parameters: \n",
        "    evaluate the trained algorithm on the test set, \n",
        "    then save the results of each hyperparameter combination, \n",
        "    finally select the one that has the best MAE (meaning the lowest number) \n",
        "    and print the combination, fi, recall and precision the MAE.\n",
        "  '''\n",
        "  \n",
        "  result = {\n",
        "            \"F1\"  : None, \"Precision\" : None, \"Recall\" : None,\n",
        "            \"tol\" : None, \"C\"         : None, \"Max_it\" : None\n",
        "    }\n",
        "  \n",
        "  f1 = 0.1\n",
        "  for t, c, mi in itertools.product(tol_a, c_a, m_i):\n",
        "\n",
        "    # 1) call the model with the hiperparameters:\n",
        "    m_lregressor = LogisticRegression(tol = t, C = c, max_iter = mi)\n",
        "    \n",
        "    # 2) train the model:\n",
        "    m_lregressor.fit(dfx_train_f[features2], nbay_train)\n",
        "    \n",
        "    # I calculate the f1:\n",
        "    y_pred       = m_lregressor.predict(dfx_test_f[features2]) \n",
        "    f1_scr_none  = f1_score(y_true, y_pred, average=None)[0]\n",
        "    pre_scr_none = precision_score(y_true, y_pred, average=None)[0]\n",
        "    rec_scr_none = recall_score(y_true, y_pred, average=None)[0]\n",
        "\n",
        "    \n",
        "     \n",
        "    if f1 < f1_scr_none:\n",
        "              \n",
        "              f1     = f1_scr_none \n",
        "              result = {\"F1\": f1, \"Presicion\": pre_scr_none, \"Recall\": rec_scr_none, \"tot\": t, \"C\": c, \"Max_iter\": mi}\n",
        "  \n",
        "  return result           \n",
        "    \n",
        "\n"
      ]
    },
    {
      "cell_type": "code",
      "execution_count": null,
      "id": "r8TYLHxDFwfl",
      "metadata": {
        "colab": {
          "base_uri": "https://localhost:8080/"
        },
        "id": "r8TYLHxDFwfl",
        "outputId": "3f454961-2928-47e6-a5ed-ca5a27204a28"
      },
      "outputs": [
        {
          "name": "stdout",
          "output_type": "stream",
          "text": [
            "{'F1': 0.9922480620155039, 'Presicion': 0.9911504424778761, 'Recall': 0.9933481152993349, 'tot': 0.1, 'C': 0.8, 'Max_iter': 500}\n"
          ]
        }
      ],
      "source": [
        "tol_a       = [0.1, 0.01, 0.001, 0.0001, 0.00001]\n",
        "c_a         = [0.8, 0.4, 0.1, 0.2]\n",
        "m_i         = [500, 1000, 10000]         \n",
        "y_true      = nbay_test                                     # this I got it from the df \n",
        "\n",
        "lala = search_best_hyperparameters_lr(tol_a, c_a, m_i, y_true, nbax_train, nbax_test,nbay_train)\n",
        "print(lala)"
      ]
    },
    {
      "cell_type": "code",
      "execution_count": null,
      "id": "UwZa616Lac9f",
      "metadata": {
        "colab": {
          "base_uri": "https://localhost:8080/"
        },
        "id": "UwZa616Lac9f",
        "outputId": "4af8cf92-51cd-42af-8ed7-0359d5c81c66"
      },
      "outputs": [
        {
          "name": "stdout",
          "output_type": "stream",
          "text": [
            "[0.1, 0.8, 500]\n"
          ]
        }
      ],
      "source": [
        "lst = []\n",
        "lst.extend(lala.values())\n",
        "hyper = lst[3:]\n",
        "print(hyper)"
      ]
    },
    {
      "cell_type": "markdown",
      "id": "45c0c3bd-b431-40f1-abbb-4e90b7479411",
      "metadata": {
        "id": "45c0c3bd-b431-40f1-abbb-4e90b7479411"
      },
      "source": [
        "#### Evaluating on New Data"
      ]
    },
    {
      "cell_type": "markdown",
      "id": "3a5352ce-df8a-4c9d-b583-65255774f9d9",
      "metadata": {
        "id": "3a5352ce-df8a-4c9d-b583-65255774f9d9"
      },
      "source": [
        "You're now going to evaluate the results on a test dataset that has not being used to train or do hyperparameter tuning, this is sometimes known as a Test set (in this cases the test set used for training is known as validation set, yeah, it's confusing, but you can read about it [here](https://machinelearningmastery.com/difference-test-validation-datasets/))"
      ]
    },
    {
      "cell_type": "markdown",
      "id": "9da9e93b-6265-44e4-89be-75e7178800e2",
      "metadata": {
        "id": "9da9e93b-6265-44e4-89be-75e7178800e2"
      },
      "source": [
        "2.10. Load the dataset [all_nba_2018_dataset.csv](https://raw.githubusercontent.com/anyoneai/notebooks/main/datasets/all_nba_2018_dataset.csv) in one dataframe and [all_nba_2018_selections.csv](https://raw.githubusercontent.com/anyoneai/notebooks/main/datasets/all_nba_2018_selections.csv)) in another, then:\n",
        "\n",
        "    - Scale the numerical features. Columns season_id, player_id, player_season, player, season and season_start will not be used for prediction, you can keep them but remember not to pass them to the classifier.\n",
        "    \n",
        "    - Create the one hot encoded features for team. This step will be complex, as you will have to consider that in the 2018 season there are 30 teams, but the previous dataset contains 40 teams, that is because a lot of teams changed names or cities over the years. You need to add those 10 different team names in this dataset (with all values in 0) to make the classifier work."
      ]
    },
    {
      "cell_type": "code",
      "execution_count": null,
      "id": "79ea153a-b061-4df9-9c3d-1aaa0526c700",
      "metadata": {
        "id": "79ea153a-b061-4df9-9c3d-1aaa0526c700"
      },
      "outputs": [],
      "source": [
        "all_nba_2018_df = pd.read_csv(\"https://raw.githubusercontent.com/anyoneai/notebooks/main/datasets/all_nba_2018_dataset.csv\", index_col=0)\n",
        "all_nba_2018_selections = pd.read_csv(\"https://raw.githubusercontent.com/anyoneai/notebooks/main/datasets/all_nba_2018_selections.csv\", index_col=0)"
      ]
    },
    {
      "cell_type": "markdown",
      "id": "EfxTl09s0xaT",
      "metadata": {
        "id": "EfxTl09s0xaT"
      },
      "source": [
        "Columns season_id, player_id, player_season, player, season and season_start will not be used for prediction, you can keep them but remember not to pass them to the classifier.\n",
        "\n",
        "I dont pass them to de df"
      ]
    },
    {
      "cell_type": "code",
      "execution_count": null,
      "id": "vuFdjT2Y1MHT",
      "metadata": {
        "id": "vuFdjT2Y1MHT"
      },
      "outputs": [],
      "source": [
        "all_nba_2018_df.columns\n",
        "all_nba_2018_df = all_nba_2018_df[['player_id','team', 'games', 'gamesstarted', 'mp', 'fg_perc', \n",
        "                                   '3p_perc', '2p_perc', 'ft_perc', 'trb', 'ast', 'stl', 'blk', \n",
        "                                   'tov', 'pf', 'pts']]\n",
        "#all_nba_2018_df['team'].nunique()\n",
        "#all_nba_2018_df.shape\n",
        "#all_nba_2018_df.head()\n",
        "#all_nba_2018_df.info()\n",
        "#all_nba_2018_df.describe()"
      ]
    },
    {
      "cell_type": "markdown",
      "id": "U6loATM6Qa6o",
      "metadata": {
        "id": "U6loATM6Qa6o"
      },
      "source": [
        "- Scale the numerical features. Columns season_id, player_id, player_season, player, season and season_start will not be used for prediction, you can keep them but remember not to pass them to the classifier."
      ]
    },
    {
      "cell_type": "code",
      "execution_count": null,
      "id": "wm4hSh8Ww_Wy",
      "metadata": {
        "colab": {
          "base_uri": "https://localhost:8080/"
        },
        "id": "wm4hSh8Ww_Wy",
        "outputId": "4c632684-535e-4d6d-9ed1-865acac4e770"
      },
      "outputs": [
        {
          "data": {
            "text/plain": [
              "(530, 15)"
            ]
          },
          "execution_count": 137,
          "metadata": {},
          "output_type": "execute_result"
        }
      ],
      "source": [
        "all_nba_2018_df.set_index('player_id', inplace = True)\n",
        "all_nba_2018_df.shape"
      ]
    },
    {
      "cell_type": "markdown",
      "id": "JVZz-1ZlpMyn",
      "metadata": {
        "id": "JVZz-1ZlpMyn"
      },
      "source": [
        "all_nba_2018_df         ---> this would be my x_test\n",
        "all_nba_2018_selections ---> y_test"
      ]
    },
    {
      "cell_type": "code",
      "execution_count": null,
      "id": "ZfEYNEKufD6O",
      "metadata": {
        "id": "ZfEYNEKufD6O"
      },
      "outputs": [],
      "source": [
        "mm = ['games', 'gamesstarted','mp','3p_perc']\n",
        "sc = ['fg_perc', '2p_perc','ft_perc','trb','ast','stl','blk','tov','pf','pts']\n",
        "\n",
        "# Using the MinMax:\n",
        "all_nba_2018_df[mm] = mm_scaller.transform(all_nba_2018_df[mm])\n",
        "\n",
        "# Using StandardScaller:\n",
        "all_nba_2018_df[sc] = s_scaller.transform(all_nba_2018_df[sc])"
      ]
    },
    {
      "cell_type": "code",
      "execution_count": null,
      "id": "ncVK0H2lt1l7",
      "metadata": {
        "colab": {
          "base_uri": "https://localhost:8080/",
          "height": 239
        },
        "id": "ncVK0H2lt1l7",
        "outputId": "e42c9122-1dde-4955-86ea-1ec64ca5d96e"
      },
      "outputs": [
        {
          "data": {
            "text/html": [
              "\n",
              "  <div id=\"df-0fcaf639-871d-4121-a7e5-fbdbe8357158\">\n",
              "    <div class=\"colab-df-container\">\n",
              "      <div>\n",
              "<style scoped>\n",
              "    .dataframe tbody tr th:only-of-type {\n",
              "        vertical-align: middle;\n",
              "    }\n",
              "\n",
              "    .dataframe tbody tr th {\n",
              "        vertical-align: top;\n",
              "    }\n",
              "\n",
              "    .dataframe thead th {\n",
              "        text-align: right;\n",
              "    }\n",
              "</style>\n",
              "<table border=\"1\" class=\"dataframe\">\n",
              "  <thead>\n",
              "    <tr style=\"text-align: right;\">\n",
              "      <th></th>\n",
              "      <th>team</th>\n",
              "      <th>games</th>\n",
              "      <th>gamesstarted</th>\n",
              "      <th>mp</th>\n",
              "      <th>fg_perc</th>\n",
              "      <th>3p_perc</th>\n",
              "      <th>2p_perc</th>\n",
              "      <th>ft_perc</th>\n",
              "      <th>trb</th>\n",
              "      <th>ast</th>\n",
              "      <th>stl</th>\n",
              "      <th>blk</th>\n",
              "      <th>tov</th>\n",
              "      <th>pf</th>\n",
              "      <th>pts</th>\n",
              "    </tr>\n",
              "    <tr>\n",
              "      <th>player_id</th>\n",
              "      <th></th>\n",
              "      <th></th>\n",
              "      <th></th>\n",
              "      <th></th>\n",
              "      <th></th>\n",
              "      <th></th>\n",
              "      <th></th>\n",
              "      <th></th>\n",
              "      <th></th>\n",
              "      <th></th>\n",
              "      <th></th>\n",
              "      <th></th>\n",
              "      <th></th>\n",
              "      <th></th>\n",
              "      <th></th>\n",
              "    </tr>\n",
              "  </thead>\n",
              "  <tbody>\n",
              "    <tr>\n",
              "      <th>5</th>\n",
              "      <td>OKC</td>\n",
              "      <td>0.357143</td>\n",
              "      <td>0.024096</td>\n",
              "      <td>0.434783</td>\n",
              "      <td>-0.833293</td>\n",
              "      <td>0.323</td>\n",
              "      <td>0.422819</td>\n",
              "      <td>1.172169</td>\n",
              "      <td>-0.810893</td>\n",
              "      <td>-0.671426</td>\n",
              "      <td>-0.345567</td>\n",
              "      <td>-0.434084</td>\n",
              "      <td>-0.895432</td>\n",
              "      <td>-0.234791</td>\n",
              "      <td>-0.481297</td>\n",
              "    </tr>\n",
              "    <tr>\n",
              "      <th>8</th>\n",
              "      <td>PHO</td>\n",
              "      <td>0.107143</td>\n",
              "      <td>0.000000</td>\n",
              "      <td>0.281465</td>\n",
              "      <td>-2.269168</td>\n",
              "      <td>0.133</td>\n",
              "      <td>2.078689</td>\n",
              "      <td>0.001280</td>\n",
              "      <td>-0.416614</td>\n",
              "      <td>-0.563527</td>\n",
              "      <td>-1.198307</td>\n",
              "      <td>-0.033368</td>\n",
              "      <td>-1.019764</td>\n",
              "      <td>0.606177</td>\n",
              "      <td>-1.086116</td>\n",
              "    </tr>\n",
              "    <tr>\n",
              "      <th>10</th>\n",
              "      <td>ATL</td>\n",
              "      <td>0.392857</td>\n",
              "      <td>0.012048</td>\n",
              "      <td>0.288330</td>\n",
              "      <td>-0.960927</td>\n",
              "      <td>0.338</td>\n",
              "      <td>-0.955419</td>\n",
              "      <td>0.410829</td>\n",
              "      <td>-0.692609</td>\n",
              "      <td>0.029913</td>\n",
              "      <td>-0.558752</td>\n",
              "      <td>-0.634442</td>\n",
              "      <td>-0.522438</td>\n",
              "      <td>-0.715345</td>\n",
              "      <td>-0.834108</td>\n",
              "    </tr>\n",
              "  </tbody>\n",
              "</table>\n",
              "</div>\n",
              "      <button class=\"colab-df-convert\" onclick=\"convertToInteractive('df-0fcaf639-871d-4121-a7e5-fbdbe8357158')\"\n",
              "              title=\"Convert this dataframe to an interactive table.\"\n",
              "              style=\"display:none;\">\n",
              "        \n",
              "  <svg xmlns=\"http://www.w3.org/2000/svg\" height=\"24px\"viewBox=\"0 0 24 24\"\n",
              "       width=\"24px\">\n",
              "    <path d=\"M0 0h24v24H0V0z\" fill=\"none\"/>\n",
              "    <path d=\"M18.56 5.44l.94 2.06.94-2.06 2.06-.94-2.06-.94-.94-2.06-.94 2.06-2.06.94zm-11 1L8.5 8.5l.94-2.06 2.06-.94-2.06-.94L8.5 2.5l-.94 2.06-2.06.94zm10 10l.94 2.06.94-2.06 2.06-.94-2.06-.94-.94-2.06-.94 2.06-2.06.94z\"/><path d=\"M17.41 7.96l-1.37-1.37c-.4-.4-.92-.59-1.43-.59-.52 0-1.04.2-1.43.59L10.3 9.45l-7.72 7.72c-.78.78-.78 2.05 0 2.83L4 21.41c.39.39.9.59 1.41.59.51 0 1.02-.2 1.41-.59l7.78-7.78 2.81-2.81c.8-.78.8-2.07 0-2.86zM5.41 20L4 18.59l7.72-7.72 1.47 1.35L5.41 20z\"/>\n",
              "  </svg>\n",
              "      </button>\n",
              "      \n",
              "  <style>\n",
              "    .colab-df-container {\n",
              "      display:flex;\n",
              "      flex-wrap:wrap;\n",
              "      gap: 12px;\n",
              "    }\n",
              "\n",
              "    .colab-df-convert {\n",
              "      background-color: #E8F0FE;\n",
              "      border: none;\n",
              "      border-radius: 50%;\n",
              "      cursor: pointer;\n",
              "      display: none;\n",
              "      fill: #1967D2;\n",
              "      height: 32px;\n",
              "      padding: 0 0 0 0;\n",
              "      width: 32px;\n",
              "    }\n",
              "\n",
              "    .colab-df-convert:hover {\n",
              "      background-color: #E2EBFA;\n",
              "      box-shadow: 0px 1px 2px rgba(60, 64, 67, 0.3), 0px 1px 3px 1px rgba(60, 64, 67, 0.15);\n",
              "      fill: #174EA6;\n",
              "    }\n",
              "\n",
              "    [theme=dark] .colab-df-convert {\n",
              "      background-color: #3B4455;\n",
              "      fill: #D2E3FC;\n",
              "    }\n",
              "\n",
              "    [theme=dark] .colab-df-convert:hover {\n",
              "      background-color: #434B5C;\n",
              "      box-shadow: 0px 1px 3px 1px rgba(0, 0, 0, 0.15);\n",
              "      filter: drop-shadow(0px 1px 2px rgba(0, 0, 0, 0.3));\n",
              "      fill: #FFFFFF;\n",
              "    }\n",
              "  </style>\n",
              "\n",
              "      <script>\n",
              "        const buttonEl =\n",
              "          document.querySelector('#df-0fcaf639-871d-4121-a7e5-fbdbe8357158 button.colab-df-convert');\n",
              "        buttonEl.style.display =\n",
              "          google.colab.kernel.accessAllowed ? 'block' : 'none';\n",
              "\n",
              "        async function convertToInteractive(key) {\n",
              "          const element = document.querySelector('#df-0fcaf639-871d-4121-a7e5-fbdbe8357158');\n",
              "          const dataTable =\n",
              "            await google.colab.kernel.invokeFunction('convertToInteractive',\n",
              "                                                     [key], {});\n",
              "          if (!dataTable) return;\n",
              "\n",
              "          const docLinkHtml = 'Like what you see? Visit the ' +\n",
              "            '<a target=\"_blank\" href=https://colab.research.google.com/notebooks/data_table.ipynb>data table notebook</a>'\n",
              "            + ' to learn more about interactive tables.';\n",
              "          element.innerHTML = '';\n",
              "          dataTable['output_type'] = 'display_data';\n",
              "          await google.colab.output.renderOutput(dataTable, element);\n",
              "          const docLink = document.createElement('div');\n",
              "          docLink.innerHTML = docLinkHtml;\n",
              "          element.appendChild(docLink);\n",
              "        }\n",
              "      </script>\n",
              "    </div>\n",
              "  </div>\n",
              "  "
            ],
            "text/plain": [
              "          team     games  gamesstarted        mp   fg_perc  3p_perc   2p_perc  \\\n",
              "player_id                                                                       \n",
              "5          OKC  0.357143      0.024096  0.434783 -0.833293    0.323  0.422819   \n",
              "8          PHO  0.107143      0.000000  0.281465 -2.269168    0.133  2.078689   \n",
              "10         ATL  0.392857      0.012048  0.288330 -0.960927    0.338 -0.955419   \n",
              "\n",
              "            ft_perc       trb       ast       stl       blk       tov  \\\n",
              "player_id                                                               \n",
              "5          1.172169 -0.810893 -0.671426 -0.345567 -0.434084 -0.895432   \n",
              "8          0.001280 -0.416614 -0.563527 -1.198307 -0.033368 -1.019764   \n",
              "10         0.410829 -0.692609  0.029913 -0.558752 -0.634442 -0.522438   \n",
              "\n",
              "                 pf       pts  \n",
              "player_id                      \n",
              "5         -0.234791 -0.481297  \n",
              "8          0.606177 -1.086116  \n",
              "10        -0.715345 -0.834108  "
            ]
          },
          "execution_count": 139,
          "metadata": {},
          "output_type": "execute_result"
        }
      ],
      "source": [
        "all_nba_2018_df.head(3)"
      ]
    },
    {
      "cell_type": "markdown",
      "id": "6Gj88dSvQnpP",
      "metadata": {
        "id": "6Gj88dSvQnpP"
      },
      "source": [
        "- Create the one hot encoded features for team. This step will be complex, as you will have to consider that in the 2018 season there are 30 teams, but the previous dataset contains 40 teams, that is because a lot of teams changed names or cities over the years. You need to add those 10 different team names in this dataset (with all values in 0) to make the classifier work.\n"
      ]
    },
    {
      "cell_type": "code",
      "execution_count": null,
      "id": "QGelYWERQY_T",
      "metadata": {
        "colab": {
          "base_uri": "https://localhost:8080/",
          "height": 341
        },
        "id": "QGelYWERQY_T",
        "outputId": "bf613568-6357-4147-9964-4a65eb3a2a30"
      },
      "outputs": [
        {
          "name": "stderr",
          "output_type": "stream",
          "text": [
            "/usr/local/lib/python3.7/dist-packages/sklearn/base.py:444: UserWarning: X has feature names, but OneHotEncoder was fitted without feature names\n",
            "  f\"X has feature names, but {self.__class__.__name__} was fitted without\"\n",
            "/usr/local/lib/python3.7/dist-packages/sklearn/utils/deprecation.py:87: FutureWarning: Function get_feature_names is deprecated; get_feature_names is deprecated in 1.0 and will be removed in 1.2. Please use get_feature_names_out instead.\n",
            "  warnings.warn(msg, category=FutureWarning)\n"
          ]
        },
        {
          "data": {
            "text/html": [
              "\n",
              "  <div id=\"df-2465f531-e444-45cf-b028-3d3f8fc3a1fb\">\n",
              "    <div class=\"colab-df-container\">\n",
              "      <div>\n",
              "<style scoped>\n",
              "    .dataframe tbody tr th:only-of-type {\n",
              "        vertical-align: middle;\n",
              "    }\n",
              "\n",
              "    .dataframe tbody tr th {\n",
              "        vertical-align: top;\n",
              "    }\n",
              "\n",
              "    .dataframe thead th {\n",
              "        text-align: right;\n",
              "    }\n",
              "</style>\n",
              "<table border=\"1\" class=\"dataframe\">\n",
              "  <thead>\n",
              "    <tr style=\"text-align: right;\">\n",
              "      <th></th>\n",
              "      <th>team_ATL</th>\n",
              "      <th>team_BOS</th>\n",
              "      <th>team_BRK</th>\n",
              "      <th>team_CHI</th>\n",
              "      <th>team_CHO</th>\n",
              "      <th>team_CLE</th>\n",
              "      <th>team_DAL</th>\n",
              "      <th>team_DEN</th>\n",
              "      <th>team_DET</th>\n",
              "      <th>team_GSW</th>\n",
              "      <th>...</th>\n",
              "      <th>team_ORL</th>\n",
              "      <th>team_PHI</th>\n",
              "      <th>team_PHO</th>\n",
              "      <th>team_POR</th>\n",
              "      <th>team_SAC</th>\n",
              "      <th>team_SAS</th>\n",
              "      <th>team_TOR</th>\n",
              "      <th>team_TOT</th>\n",
              "      <th>team_UTA</th>\n",
              "      <th>team_WAS</th>\n",
              "    </tr>\n",
              "    <tr>\n",
              "      <th>player_id</th>\n",
              "      <th></th>\n",
              "      <th></th>\n",
              "      <th></th>\n",
              "      <th></th>\n",
              "      <th></th>\n",
              "      <th></th>\n",
              "      <th></th>\n",
              "      <th></th>\n",
              "      <th></th>\n",
              "      <th></th>\n",
              "      <th></th>\n",
              "      <th></th>\n",
              "      <th></th>\n",
              "      <th></th>\n",
              "      <th></th>\n",
              "      <th></th>\n",
              "      <th></th>\n",
              "      <th></th>\n",
              "      <th></th>\n",
              "      <th></th>\n",
              "      <th></th>\n",
              "    </tr>\n",
              "  </thead>\n",
              "  <tbody>\n",
              "    <tr>\n",
              "      <th>5</th>\n",
              "      <td>0.0</td>\n",
              "      <td>0.0</td>\n",
              "      <td>0.0</td>\n",
              "      <td>0.0</td>\n",
              "      <td>0.0</td>\n",
              "      <td>0.0</td>\n",
              "      <td>0.0</td>\n",
              "      <td>0.0</td>\n",
              "      <td>0.0</td>\n",
              "      <td>0.0</td>\n",
              "      <td>...</td>\n",
              "      <td>0.0</td>\n",
              "      <td>0.0</td>\n",
              "      <td>0.0</td>\n",
              "      <td>0.0</td>\n",
              "      <td>0.0</td>\n",
              "      <td>0.0</td>\n",
              "      <td>0.0</td>\n",
              "      <td>0.0</td>\n",
              "      <td>0.0</td>\n",
              "      <td>0.0</td>\n",
              "    </tr>\n",
              "    <tr>\n",
              "      <th>8</th>\n",
              "      <td>0.0</td>\n",
              "      <td>0.0</td>\n",
              "      <td>0.0</td>\n",
              "      <td>0.0</td>\n",
              "      <td>0.0</td>\n",
              "      <td>0.0</td>\n",
              "      <td>0.0</td>\n",
              "      <td>0.0</td>\n",
              "      <td>0.0</td>\n",
              "      <td>0.0</td>\n",
              "      <td>...</td>\n",
              "      <td>0.0</td>\n",
              "      <td>0.0</td>\n",
              "      <td>1.0</td>\n",
              "      <td>0.0</td>\n",
              "      <td>0.0</td>\n",
              "      <td>0.0</td>\n",
              "      <td>0.0</td>\n",
              "      <td>0.0</td>\n",
              "      <td>0.0</td>\n",
              "      <td>0.0</td>\n",
              "    </tr>\n",
              "    <tr>\n",
              "      <th>10</th>\n",
              "      <td>1.0</td>\n",
              "      <td>0.0</td>\n",
              "      <td>0.0</td>\n",
              "      <td>0.0</td>\n",
              "      <td>0.0</td>\n",
              "      <td>0.0</td>\n",
              "      <td>0.0</td>\n",
              "      <td>0.0</td>\n",
              "      <td>0.0</td>\n",
              "      <td>0.0</td>\n",
              "      <td>...</td>\n",
              "      <td>0.0</td>\n",
              "      <td>0.0</td>\n",
              "      <td>0.0</td>\n",
              "      <td>0.0</td>\n",
              "      <td>0.0</td>\n",
              "      <td>0.0</td>\n",
              "      <td>0.0</td>\n",
              "      <td>0.0</td>\n",
              "      <td>0.0</td>\n",
              "      <td>0.0</td>\n",
              "    </tr>\n",
              "  </tbody>\n",
              "</table>\n",
              "<p>3 rows × 31 columns</p>\n",
              "</div>\n",
              "      <button class=\"colab-df-convert\" onclick=\"convertToInteractive('df-2465f531-e444-45cf-b028-3d3f8fc3a1fb')\"\n",
              "              title=\"Convert this dataframe to an interactive table.\"\n",
              "              style=\"display:none;\">\n",
              "        \n",
              "  <svg xmlns=\"http://www.w3.org/2000/svg\" height=\"24px\"viewBox=\"0 0 24 24\"\n",
              "       width=\"24px\">\n",
              "    <path d=\"M0 0h24v24H0V0z\" fill=\"none\"/>\n",
              "    <path d=\"M18.56 5.44l.94 2.06.94-2.06 2.06-.94-2.06-.94-.94-2.06-.94 2.06-2.06.94zm-11 1L8.5 8.5l.94-2.06 2.06-.94-2.06-.94L8.5 2.5l-.94 2.06-2.06.94zm10 10l.94 2.06.94-2.06 2.06-.94-2.06-.94-.94-2.06-.94 2.06-2.06.94z\"/><path d=\"M17.41 7.96l-1.37-1.37c-.4-.4-.92-.59-1.43-.59-.52 0-1.04.2-1.43.59L10.3 9.45l-7.72 7.72c-.78.78-.78 2.05 0 2.83L4 21.41c.39.39.9.59 1.41.59.51 0 1.02-.2 1.41-.59l7.78-7.78 2.81-2.81c.8-.78.8-2.07 0-2.86zM5.41 20L4 18.59l7.72-7.72 1.47 1.35L5.41 20z\"/>\n",
              "  </svg>\n",
              "      </button>\n",
              "      \n",
              "  <style>\n",
              "    .colab-df-container {\n",
              "      display:flex;\n",
              "      flex-wrap:wrap;\n",
              "      gap: 12px;\n",
              "    }\n",
              "\n",
              "    .colab-df-convert {\n",
              "      background-color: #E8F0FE;\n",
              "      border: none;\n",
              "      border-radius: 50%;\n",
              "      cursor: pointer;\n",
              "      display: none;\n",
              "      fill: #1967D2;\n",
              "      height: 32px;\n",
              "      padding: 0 0 0 0;\n",
              "      width: 32px;\n",
              "    }\n",
              "\n",
              "    .colab-df-convert:hover {\n",
              "      background-color: #E2EBFA;\n",
              "      box-shadow: 0px 1px 2px rgba(60, 64, 67, 0.3), 0px 1px 3px 1px rgba(60, 64, 67, 0.15);\n",
              "      fill: #174EA6;\n",
              "    }\n",
              "\n",
              "    [theme=dark] .colab-df-convert {\n",
              "      background-color: #3B4455;\n",
              "      fill: #D2E3FC;\n",
              "    }\n",
              "\n",
              "    [theme=dark] .colab-df-convert:hover {\n",
              "      background-color: #434B5C;\n",
              "      box-shadow: 0px 1px 3px 1px rgba(0, 0, 0, 0.15);\n",
              "      filter: drop-shadow(0px 1px 2px rgba(0, 0, 0, 0.3));\n",
              "      fill: #FFFFFF;\n",
              "    }\n",
              "  </style>\n",
              "\n",
              "      <script>\n",
              "        const buttonEl =\n",
              "          document.querySelector('#df-2465f531-e444-45cf-b028-3d3f8fc3a1fb button.colab-df-convert');\n",
              "        buttonEl.style.display =\n",
              "          google.colab.kernel.accessAllowed ? 'block' : 'none';\n",
              "\n",
              "        async function convertToInteractive(key) {\n",
              "          const element = document.querySelector('#df-2465f531-e444-45cf-b028-3d3f8fc3a1fb');\n",
              "          const dataTable =\n",
              "            await google.colab.kernel.invokeFunction('convertToInteractive',\n",
              "                                                     [key], {});\n",
              "          if (!dataTable) return;\n",
              "\n",
              "          const docLinkHtml = 'Like what you see? Visit the ' +\n",
              "            '<a target=\"_blank\" href=https://colab.research.google.com/notebooks/data_table.ipynb>data table notebook</a>'\n",
              "            + ' to learn more about interactive tables.';\n",
              "          element.innerHTML = '';\n",
              "          dataTable['output_type'] = 'display_data';\n",
              "          await google.colab.output.renderOutput(dataTable, element);\n",
              "          const docLink = document.createElement('div');\n",
              "          docLink.innerHTML = docLinkHtml;\n",
              "          element.appendChild(docLink);\n",
              "        }\n",
              "      </script>\n",
              "    </div>\n",
              "  </div>\n",
              "  "
            ],
            "text/plain": [
              "           team_ATL  team_BOS  team_BRK  team_CHI  team_CHO  team_CLE  \\\n",
              "player_id                                                               \n",
              "5               0.0       0.0       0.0       0.0       0.0       0.0   \n",
              "8               0.0       0.0       0.0       0.0       0.0       0.0   \n",
              "10              1.0       0.0       0.0       0.0       0.0       0.0   \n",
              "\n",
              "           team_DAL  team_DEN  team_DET  team_GSW  ...  team_ORL  team_PHI  \\\n",
              "player_id                                          ...                       \n",
              "5               0.0       0.0       0.0       0.0  ...       0.0       0.0   \n",
              "8               0.0       0.0       0.0       0.0  ...       0.0       0.0   \n",
              "10              0.0       0.0       0.0       0.0  ...       0.0       0.0   \n",
              "\n",
              "           team_PHO  team_POR  team_SAC  team_SAS  team_TOR  team_TOT  \\\n",
              "player_id                                                               \n",
              "5               0.0       0.0       0.0       0.0       0.0       0.0   \n",
              "8               1.0       0.0       0.0       0.0       0.0       0.0   \n",
              "10              0.0       0.0       0.0       0.0       0.0       0.0   \n",
              "\n",
              "           team_UTA  team_WAS  \n",
              "player_id                      \n",
              "5               0.0       0.0  \n",
              "8               0.0       0.0  \n",
              "10              0.0       0.0  \n",
              "\n",
              "[3 rows x 31 columns]"
            ]
          },
          "execution_count": 140,
          "metadata": {},
          "output_type": "execute_result"
        }
      ],
      "source": [
        "# 1) call:\n",
        "encoder = OneHotEncoder(handle_unknown='ignore')\n",
        "\n",
        "# 2) train:\n",
        "encoder.fit(all_nba_2018_df['team'].values.reshape(-1,1))\n",
        "\n",
        "encoder.categories_\n",
        "# lets create a new df with the encoded info:\n",
        "encoder_df2 = pd.DataFrame(\n",
        "            encoder.transform(all_nba_2018_df[['team']]).toarray(),\n",
        "            index   = all_nba_2018_df.index,\n",
        "            columns = encoder.get_feature_names(['team'])\n",
        "            )\n",
        "# as we can see encoder_df its a df with 41 columns and 11860 rows\n",
        "encoder_df2.head(3)\n",
        "#encoder_df.shape"
      ]
    },
    {
      "cell_type": "code",
      "execution_count": null,
      "id": "vU9XVyM3hzfj",
      "metadata": {
        "colab": {
          "base_uri": "https://localhost:8080/",
          "height": 331
        },
        "id": "vU9XVyM3hzfj",
        "outputId": "6a26efa6-8d7b-46a3-a99a-147d4edb736f"
      },
      "outputs": [
        {
          "data": {
            "text/html": [
              "\n",
              "  <div id=\"df-ff39a25b-4b4a-452a-a63e-f90ad6a2f33b\">\n",
              "    <div class=\"colab-df-container\">\n",
              "      <div>\n",
              "<style scoped>\n",
              "    .dataframe tbody tr th:only-of-type {\n",
              "        vertical-align: middle;\n",
              "    }\n",
              "\n",
              "    .dataframe tbody tr th {\n",
              "        vertical-align: top;\n",
              "    }\n",
              "\n",
              "    .dataframe thead th {\n",
              "        text-align: right;\n",
              "    }\n",
              "</style>\n",
              "<table border=\"1\" class=\"dataframe\">\n",
              "  <thead>\n",
              "    <tr style=\"text-align: right;\">\n",
              "      <th></th>\n",
              "      <th>games</th>\n",
              "      <th>gamesstarted</th>\n",
              "      <th>mp</th>\n",
              "      <th>fg_perc</th>\n",
              "      <th>3p_perc</th>\n",
              "      <th>2p_perc</th>\n",
              "      <th>ft_perc</th>\n",
              "      <th>trb</th>\n",
              "      <th>ast</th>\n",
              "      <th>stl</th>\n",
              "      <th>...</th>\n",
              "      <th>team_ORL</th>\n",
              "      <th>team_PHI</th>\n",
              "      <th>team_PHO</th>\n",
              "      <th>team_POR</th>\n",
              "      <th>team_SAC</th>\n",
              "      <th>team_SAS</th>\n",
              "      <th>team_TOR</th>\n",
              "      <th>team_TOT</th>\n",
              "      <th>team_UTA</th>\n",
              "      <th>team_WAS</th>\n",
              "    </tr>\n",
              "    <tr>\n",
              "      <th>player_id</th>\n",
              "      <th></th>\n",
              "      <th></th>\n",
              "      <th></th>\n",
              "      <th></th>\n",
              "      <th></th>\n",
              "      <th></th>\n",
              "      <th></th>\n",
              "      <th></th>\n",
              "      <th></th>\n",
              "      <th></th>\n",
              "      <th></th>\n",
              "      <th></th>\n",
              "      <th></th>\n",
              "      <th></th>\n",
              "      <th></th>\n",
              "      <th></th>\n",
              "      <th></th>\n",
              "      <th></th>\n",
              "      <th></th>\n",
              "      <th></th>\n",
              "      <th></th>\n",
              "    </tr>\n",
              "  </thead>\n",
              "  <tbody>\n",
              "    <tr>\n",
              "      <th>5</th>\n",
              "      <td>0.357143</td>\n",
              "      <td>0.024096</td>\n",
              "      <td>0.434783</td>\n",
              "      <td>-0.833293</td>\n",
              "      <td>0.323</td>\n",
              "      <td>0.422819</td>\n",
              "      <td>1.172169</td>\n",
              "      <td>-0.810893</td>\n",
              "      <td>-0.671426</td>\n",
              "      <td>-0.345567</td>\n",
              "      <td>...</td>\n",
              "      <td>0.0</td>\n",
              "      <td>0.0</td>\n",
              "      <td>0.0</td>\n",
              "      <td>0.0</td>\n",
              "      <td>0.0</td>\n",
              "      <td>0.0</td>\n",
              "      <td>0.0</td>\n",
              "      <td>0.0</td>\n",
              "      <td>0.0</td>\n",
              "      <td>0.0</td>\n",
              "    </tr>\n",
              "    <tr>\n",
              "      <th>8</th>\n",
              "      <td>0.107143</td>\n",
              "      <td>0.000000</td>\n",
              "      <td>0.281465</td>\n",
              "      <td>-2.269168</td>\n",
              "      <td>0.133</td>\n",
              "      <td>2.078689</td>\n",
              "      <td>0.001280</td>\n",
              "      <td>-0.416614</td>\n",
              "      <td>-0.563527</td>\n",
              "      <td>-1.198307</td>\n",
              "      <td>...</td>\n",
              "      <td>0.0</td>\n",
              "      <td>0.0</td>\n",
              "      <td>1.0</td>\n",
              "      <td>0.0</td>\n",
              "      <td>0.0</td>\n",
              "      <td>0.0</td>\n",
              "      <td>0.0</td>\n",
              "      <td>0.0</td>\n",
              "      <td>0.0</td>\n",
              "      <td>0.0</td>\n",
              "    </tr>\n",
              "    <tr>\n",
              "      <th>10</th>\n",
              "      <td>0.392857</td>\n",
              "      <td>0.012048</td>\n",
              "      <td>0.288330</td>\n",
              "      <td>-0.960927</td>\n",
              "      <td>0.338</td>\n",
              "      <td>-0.955419</td>\n",
              "      <td>0.410829</td>\n",
              "      <td>-0.692609</td>\n",
              "      <td>0.029913</td>\n",
              "      <td>-0.558752</td>\n",
              "      <td>...</td>\n",
              "      <td>0.0</td>\n",
              "      <td>0.0</td>\n",
              "      <td>0.0</td>\n",
              "      <td>0.0</td>\n",
              "      <td>0.0</td>\n",
              "      <td>0.0</td>\n",
              "      <td>0.0</td>\n",
              "      <td>0.0</td>\n",
              "      <td>0.0</td>\n",
              "      <td>0.0</td>\n",
              "    </tr>\n",
              "    <tr>\n",
              "      <th>13</th>\n",
              "      <td>0.940476</td>\n",
              "      <td>0.963855</td>\n",
              "      <td>0.764302</td>\n",
              "      <td>1.698101</td>\n",
              "      <td>0.000</td>\n",
              "      <td>1.374696</td>\n",
              "      <td>-1.048845</td>\n",
              "      <td>2.343334</td>\n",
              "      <td>-0.131934</td>\n",
              "      <td>1.786282</td>\n",
              "      <td>...</td>\n",
              "      <td>0.0</td>\n",
              "      <td>0.0</td>\n",
              "      <td>0.0</td>\n",
              "      <td>0.0</td>\n",
              "      <td>0.0</td>\n",
              "      <td>0.0</td>\n",
              "      <td>0.0</td>\n",
              "      <td>0.0</td>\n",
              "      <td>0.0</td>\n",
              "      <td>0.0</td>\n",
              "    </tr>\n",
              "    <tr>\n",
              "      <th>15</th>\n",
              "      <td>0.964286</td>\n",
              "      <td>0.337349</td>\n",
              "      <td>0.533181</td>\n",
              "      <td>1.496015</td>\n",
              "      <td>0.200</td>\n",
              "      <td>1.295373</td>\n",
              "      <td>0.185052</td>\n",
              "      <td>1.475922</td>\n",
              "      <td>0.191761</td>\n",
              "      <td>0.507172</td>\n",
              "      <td>...</td>\n",
              "      <td>0.0</td>\n",
              "      <td>0.0</td>\n",
              "      <td>0.0</td>\n",
              "      <td>0.0</td>\n",
              "      <td>0.0</td>\n",
              "      <td>0.0</td>\n",
              "      <td>0.0</td>\n",
              "      <td>0.0</td>\n",
              "      <td>0.0</td>\n",
              "      <td>0.0</td>\n",
              "    </tr>\n",
              "  </tbody>\n",
              "</table>\n",
              "<p>5 rows × 45 columns</p>\n",
              "</div>\n",
              "      <button class=\"colab-df-convert\" onclick=\"convertToInteractive('df-ff39a25b-4b4a-452a-a63e-f90ad6a2f33b')\"\n",
              "              title=\"Convert this dataframe to an interactive table.\"\n",
              "              style=\"display:none;\">\n",
              "        \n",
              "  <svg xmlns=\"http://www.w3.org/2000/svg\" height=\"24px\"viewBox=\"0 0 24 24\"\n",
              "       width=\"24px\">\n",
              "    <path d=\"M0 0h24v24H0V0z\" fill=\"none\"/>\n",
              "    <path d=\"M18.56 5.44l.94 2.06.94-2.06 2.06-.94-2.06-.94-.94-2.06-.94 2.06-2.06.94zm-11 1L8.5 8.5l.94-2.06 2.06-.94-2.06-.94L8.5 2.5l-.94 2.06-2.06.94zm10 10l.94 2.06.94-2.06 2.06-.94-2.06-.94-.94-2.06-.94 2.06-2.06.94z\"/><path d=\"M17.41 7.96l-1.37-1.37c-.4-.4-.92-.59-1.43-.59-.52 0-1.04.2-1.43.59L10.3 9.45l-7.72 7.72c-.78.78-.78 2.05 0 2.83L4 21.41c.39.39.9.59 1.41.59.51 0 1.02-.2 1.41-.59l7.78-7.78 2.81-2.81c.8-.78.8-2.07 0-2.86zM5.41 20L4 18.59l7.72-7.72 1.47 1.35L5.41 20z\"/>\n",
              "  </svg>\n",
              "      </button>\n",
              "      \n",
              "  <style>\n",
              "    .colab-df-container {\n",
              "      display:flex;\n",
              "      flex-wrap:wrap;\n",
              "      gap: 12px;\n",
              "    }\n",
              "\n",
              "    .colab-df-convert {\n",
              "      background-color: #E8F0FE;\n",
              "      border: none;\n",
              "      border-radius: 50%;\n",
              "      cursor: pointer;\n",
              "      display: none;\n",
              "      fill: #1967D2;\n",
              "      height: 32px;\n",
              "      padding: 0 0 0 0;\n",
              "      width: 32px;\n",
              "    }\n",
              "\n",
              "    .colab-df-convert:hover {\n",
              "      background-color: #E2EBFA;\n",
              "      box-shadow: 0px 1px 2px rgba(60, 64, 67, 0.3), 0px 1px 3px 1px rgba(60, 64, 67, 0.15);\n",
              "      fill: #174EA6;\n",
              "    }\n",
              "\n",
              "    [theme=dark] .colab-df-convert {\n",
              "      background-color: #3B4455;\n",
              "      fill: #D2E3FC;\n",
              "    }\n",
              "\n",
              "    [theme=dark] .colab-df-convert:hover {\n",
              "      background-color: #434B5C;\n",
              "      box-shadow: 0px 1px 3px 1px rgba(0, 0, 0, 0.15);\n",
              "      filter: drop-shadow(0px 1px 2px rgba(0, 0, 0, 0.3));\n",
              "      fill: #FFFFFF;\n",
              "    }\n",
              "  </style>\n",
              "\n",
              "      <script>\n",
              "        const buttonEl =\n",
              "          document.querySelector('#df-ff39a25b-4b4a-452a-a63e-f90ad6a2f33b button.colab-df-convert');\n",
              "        buttonEl.style.display =\n",
              "          google.colab.kernel.accessAllowed ? 'block' : 'none';\n",
              "\n",
              "        async function convertToInteractive(key) {\n",
              "          const element = document.querySelector('#df-ff39a25b-4b4a-452a-a63e-f90ad6a2f33b');\n",
              "          const dataTable =\n",
              "            await google.colab.kernel.invokeFunction('convertToInteractive',\n",
              "                                                     [key], {});\n",
              "          if (!dataTable) return;\n",
              "\n",
              "          const docLinkHtml = 'Like what you see? Visit the ' +\n",
              "            '<a target=\"_blank\" href=https://colab.research.google.com/notebooks/data_table.ipynb>data table notebook</a>'\n",
              "            + ' to learn more about interactive tables.';\n",
              "          element.innerHTML = '';\n",
              "          dataTable['output_type'] = 'display_data';\n",
              "          await google.colab.output.renderOutput(dataTable, element);\n",
              "          const docLink = document.createElement('div');\n",
              "          docLink.innerHTML = docLinkHtml;\n",
              "          element.appendChild(docLink);\n",
              "        }\n",
              "      </script>\n",
              "    </div>\n",
              "  </div>\n",
              "  "
            ],
            "text/plain": [
              "              games  gamesstarted        mp   fg_perc  3p_perc   2p_perc  \\\n",
              "player_id                                                                  \n",
              "5          0.357143      0.024096  0.434783 -0.833293    0.323  0.422819   \n",
              "8          0.107143      0.000000  0.281465 -2.269168    0.133  2.078689   \n",
              "10         0.392857      0.012048  0.288330 -0.960927    0.338 -0.955419   \n",
              "13         0.940476      0.963855  0.764302  1.698101    0.000  1.374696   \n",
              "15         0.964286      0.337349  0.533181  1.496015    0.200  1.295373   \n",
              "\n",
              "            ft_perc       trb       ast       stl  ...  team_ORL  team_PHI  \\\n",
              "player_id                                          ...                       \n",
              "5          1.172169 -0.810893 -0.671426 -0.345567  ...       0.0       0.0   \n",
              "8          0.001280 -0.416614 -0.563527 -1.198307  ...       0.0       0.0   \n",
              "10         0.410829 -0.692609  0.029913 -0.558752  ...       0.0       0.0   \n",
              "13        -1.048845  2.343334 -0.131934  1.786282  ...       0.0       0.0   \n",
              "15         0.185052  1.475922  0.191761  0.507172  ...       0.0       0.0   \n",
              "\n",
              "           team_PHO  team_POR  team_SAC  team_SAS  team_TOR  team_TOT  \\\n",
              "player_id                                                               \n",
              "5               0.0       0.0       0.0       0.0       0.0       0.0   \n",
              "8               1.0       0.0       0.0       0.0       0.0       0.0   \n",
              "10              0.0       0.0       0.0       0.0       0.0       0.0   \n",
              "13              0.0       0.0       0.0       0.0       0.0       0.0   \n",
              "15              0.0       0.0       0.0       0.0       0.0       0.0   \n",
              "\n",
              "           team_UTA  team_WAS  \n",
              "player_id                      \n",
              "5               0.0       0.0  \n",
              "8               0.0       0.0  \n",
              "10              0.0       0.0  \n",
              "13              0.0       0.0  \n",
              "15              0.0       0.0  \n",
              "\n",
              "[5 rows x 45 columns]"
            ]
          },
          "execution_count": 141,
          "metadata": {},
          "output_type": "execute_result"
        }
      ],
      "source": [
        "# Now I do the join of nbax_train_tot_noencode and encoder_df:\n",
        "all_nba_2018_df = all_nba_2018_df.join(encoder_df2)\n",
        "all_nba_2018_df.drop(columns=['team'], inplace=True)\n",
        "\n",
        "all_nba_2018_df.head(5)\n"
      ]
    },
    {
      "cell_type": "code",
      "execution_count": null,
      "id": "ErGPs9WZRPqH",
      "metadata": {
        "colab": {
          "base_uri": "https://localhost:8080/"
        },
        "id": "ErGPs9WZRPqH",
        "outputId": "66b2fe52-0502-4ae7-9920-b2e7fe755d09"
      },
      "outputs": [
        {
          "data": {
            "text/plain": [
              "Index(['season_id', 'player_id', 'player_season', 'player', 'season',\n",
              "       'season_start', 'games', 'gamesstarted', 'mp', 'fg_perc', '3p_perc',\n",
              "       '2p_perc', 'ft_perc', 'trb', 'ast', 'stl', 'blk', 'tov', 'pf', 'pts',\n",
              "       'team_ATL', 'team_BOS', 'team_BRK', 'team_CHA', 'team_CHH', 'team_CHI',\n",
              "       'team_CHO', 'team_CLE', 'team_DAL', 'team_DEN', 'team_DET', 'team_GSW',\n",
              "       'team_HOU', 'team_IND', 'team_LAC', 'team_LAL', 'team_MEM', 'team_MIA',\n",
              "       'team_MIL', 'team_MIN', 'team_NJN', 'team_NOH', 'team_NOK', 'team_NOP',\n",
              "       'team_NYK', 'team_OKC', 'team_ORL', 'team_PHI', 'team_PHO', 'team_POR',\n",
              "       'team_SAC', 'team_SAS', 'team_SEA', 'team_TOR', 'team_TOT', 'team_UTA',\n",
              "       'team_VAN', 'team_WAS', 'team_WSB'],\n",
              "      dtype='object')"
            ]
          },
          "execution_count": 142,
          "metadata": {},
          "output_type": "execute_result"
        }
      ],
      "source": [
        "all_nba_2018_df.shape\n",
        "all_nba_2018_df.columns\n",
        "nbax_train.shape\n",
        "nbax_train.columns"
      ]
    },
    {
      "cell_type": "markdown",
      "id": "V7EyGdTqSNbr",
      "metadata": {
        "id": "V7EyGdTqSNbr"
      },
      "source": [
        "So I´m training the model with 55 features but my validation data have 45 features. \n",
        "There are 10 teams that are at the trainig set but not at the validation."
      ]
    },
    {
      "cell_type": "code",
      "execution_count": null,
      "id": "d7g1Dl3PSmIw",
      "metadata": {
        "colab": {
          "base_uri": "https://localhost:8080/"
        },
        "id": "d7g1Dl3PSmIw",
        "outputId": "f959e8ab-31c4-4334-e9ac-88208ca63a5a"
      },
      "outputs": [
        {
          "data": {
            "text/plain": [
              "Index(['games', 'gamesstarted', 'mp', 'fg_perc', '3p_perc', '2p_perc',\n",
              "       'ft_perc', 'trb', 'ast', 'stl', 'blk', 'tov', 'pf', 'pts', 'team_ATL',\n",
              "       'team_BOS', 'team_BRK', 'team_CHI', 'team_CHO', 'team_CLE', 'team_DAL',\n",
              "       'team_DEN', 'team_DET', 'team_GSW', 'team_HOU', 'team_IND', 'team_LAC',\n",
              "       'team_LAL', 'team_MEM', 'team_MIA', 'team_MIL', 'team_MIN', 'team_NOP',\n",
              "       'team_NYK', 'team_OKC', 'team_ORL', 'team_PHI', 'team_PHO', 'team_POR',\n",
              "       'team_SAC', 'team_SAS', 'team_TOR', 'team_TOT', 'team_UTA', 'team_WAS',\n",
              "       'season_id', 'player_id', 'player_season', 'player', 'season',\n",
              "       'season_start', 'team_CHA', 'team_CHH', 'team_NJN', 'team_NOH',\n",
              "       'team_NOK', 'team_SEA', 'team_VAN', 'team_WSB'],\n",
              "      dtype='object')"
            ]
          },
          "execution_count": 143,
          "metadata": {},
          "output_type": "execute_result"
        }
      ],
      "source": [
        "cols  = nbax_train.columns\n",
        "cols2 = all_nba_2018_df.columns\n",
        "#print(df.shape[0] , df.shape[1])\n",
        "for i in cols:\n",
        "  if i in cols and i not in cols2:\n",
        "    all_nba_2018_df[i]=0\n",
        "\n",
        "#df.shape[1]\n",
        "all_nba_2018_df.head()\n",
        "all_nba_2018_df.columns\n"
      ]
    },
    {
      "cell_type": "markdown",
      "id": "8b0bb296-b1b3-4ae4-b199-b11224c78a82",
      "metadata": {
        "id": "8b0bb296-b1b3-4ae4-b199-b11224c78a82"
      },
      "source": [
        "2.11. Predict and evaluate the model using precision, recall and f1 score. "
      ]
    },
    {
      "cell_type": "code",
      "execution_count": null,
      "id": "b00ddffa-3f09-4294-beb5-098c2d698af0",
      "metadata": {
        "colab": {
          "base_uri": "https://localhost:8080/"
        },
        "id": "b00ddffa-3f09-4294-beb5-098c2d698af0",
        "outputId": "87e29734-8f9c-4f41-a81a-7123c7312d35"
      },
      "outputs": [
        {
          "name": "stdout",
          "output_type": "stream",
          "text": [
            "f1:  0.989 Precision:  1.0 Recall:  0.979\n"
          ]
        }
      ],
      "source": [
        "# 1) call the model with the hiperparameters :\n",
        "\n",
        "log_regressor_val = LogisticRegression(tol = hyper[0], C = hyper[1], max_iter = hyper[2], random_state=22)   \n",
        "\n",
        "# 2) train the model:\n",
        "#m_lregressor.fit(df, y_true)\n",
        "log_regressor_val.fit(nbax_train[features2], nbay_train)\n",
        "\n",
        "# I calculate the f1:\n",
        "y_pred       = log_regressor_val.predict(all_nba_2018_df[features2]) \n",
        "y_true       = all_nba_2018_selections['all_nba']  \n",
        "\n",
        "f1_scr_none  = round(f1_score        (y_true, y_pred, average=None)[0],3)\n",
        "pre_scr_none = round(precision_score (y_true, y_pred, average=None)[0],3)\n",
        "rec_scr_none = round(recall_score    (y_true, y_pred, average=None)[0],3)\n",
        "\n",
        "print('f1: ',f1_scr_none, 'Precision: ', pre_scr_none, 'Recall: ', rec_scr_none)"
      ]
    },
    {
      "cell_type": "code",
      "execution_count": null,
      "id": "DhQjQG0ho9tH",
      "metadata": {
        "colab": {
          "base_uri": "https://localhost:8080/"
        },
        "id": "DhQjQG0ho9tH",
        "outputId": "487da241-b92b-433a-813b-a11f51f8a08b"
      },
      "outputs": [
        {
          "data": {
            "text/plain": [
              "array([[504,  11],\n",
              "       [  0,  15]])"
            ]
          },
          "execution_count": 145,
          "metadata": {},
          "output_type": "execute_result"
        }
      ],
      "source": [
        "confusion_matrix(y_true, y_pred)"
      ]
    },
    {
      "cell_type": "markdown",
      "id": "be98174e-4d1b-407d-8ecc-dd568f6e5368",
      "metadata": {
        "id": "be98174e-4d1b-407d-8ecc-dd568f6e5368"
      },
      "source": [
        "2.12. Analyze the results, what do you think it is happening?"
      ]
    },
    {
      "cell_type": "markdown",
      "id": "nSI7g0PgZ44O",
      "metadata": {
        "id": "nSI7g0PgZ44O"
      },
      "source": [
        "it could be overfitted"
      ]
    },
    {
      "cell_type": "markdown",
      "id": "77a8c607-5df7-43d2-8365-cbbb6f2b93e1",
      "metadata": {
        "id": "77a8c607-5df7-43d2-8365-cbbb6f2b93e1"
      },
      "source": [
        "#### Creating our custom Classifier"
      ]
    },
    {
      "cell_type": "markdown",
      "id": "21dc0d0a-1d15-4f9e-b3ed-f83df1f51ce0",
      "metadata": {
        "id": "21dc0d0a-1d15-4f9e-b3ed-f83df1f51ce0"
      },
      "source": [
        "One thing to consider in this problem, is that the number of ALl NBA selections is fixed each year, a total of 15 players are always selected. But our current model does not limit the number of positive classified players. So, we will have to wrap our model in a custom classifier that only returns as positive the 15 players with the higher probabilities. \n",
        "Fortunately, our chosen model provides access to the underlying probabilities."
      ]
    },
    {
      "cell_type": "markdown",
      "id": "e22326d3-c1ae-475b-9b31-7b02876f8bbc",
      "metadata": {
        "id": "e22326d3-c1ae-475b-9b31-7b02876f8bbc"
      },
      "source": [
        "2.13. Using the trained model, predict probabilities for all rows in the dataset, and create a new column that has the probability that the player was selected as all nba. Round the probability to 3 decimals."
      ]
    },
    {
      "cell_type": "code",
      "execution_count": null,
      "id": "B9H8EETOMFHs",
      "metadata": {
        "colab": {
          "base_uri": "https://localhost:8080/"
        },
        "id": "B9H8EETOMFHs",
        "outputId": "bc04f710-ca8f-4ed6-d969-ab7cf07223f1"
      },
      "outputs": [
        {
          "data": {
            "text/plain": [
              "(530, 59)"
            ]
          },
          "execution_count": 146,
          "metadata": {},
          "output_type": "execute_result"
        }
      ],
      "source": [
        "all_nba_2018_df.shape"
      ]
    },
    {
      "cell_type": "code",
      "execution_count": null,
      "id": "U8SqnIdysPr6",
      "metadata": {
        "id": "U8SqnIdysPr6"
      },
      "outputs": [],
      "source": [
        "#y_pred       = log_regressor_val.predict(all_nba_2018_df) \n",
        "# y_pred       = log_regressor_val.predict(all_nba_2018_df) \n",
        "# p_lr = LogisticRegression(tol = hyper[0], C = hyper[1], max_iter = hyper[2], random_state=22).fit(nbax_train, nbay_train)\n",
        "# p_lr.predict(all_nba_2018_df)\n",
        "prob = log_regressor_val.predict_proba(all_nba_2018_df[features2])\n"
      ]
    },
    {
      "cell_type": "code",
      "execution_count": null,
      "id": "fddf0631-d676-485d-9748-a688e854c9f2",
      "metadata": {
        "colab": {
          "base_uri": "https://localhost:8080/",
          "height": 287
        },
        "id": "fddf0631-d676-485d-9748-a688e854c9f2",
        "outputId": "30f0ec0f-cd88-42f0-8fe9-0f8682c595aa"
      },
      "outputs": [
        {
          "name": "stdout",
          "output_type": "stream",
          "text": [
            "0.9999993096434807 6.903565192686069e-07 1.0\n"
          ]
        },
        {
          "data": {
            "text/html": [
              "\n",
              "  <div id=\"df-e4bd1459-a4c0-4aad-9a95-939690644633\">\n",
              "    <div class=\"colab-df-container\">\n",
              "      <div>\n",
              "<style scoped>\n",
              "    .dataframe tbody tr th:only-of-type {\n",
              "        vertical-align: middle;\n",
              "    }\n",
              "\n",
              "    .dataframe tbody tr th {\n",
              "        vertical-align: top;\n",
              "    }\n",
              "\n",
              "    .dataframe thead th {\n",
              "        text-align: right;\n",
              "    }\n",
              "</style>\n",
              "<table border=\"1\" class=\"dataframe\">\n",
              "  <thead>\n",
              "    <tr style=\"text-align: right;\">\n",
              "      <th></th>\n",
              "      <th>player_id</th>\n",
              "      <th>player</th>\n",
              "      <th>all_nba</th>\n",
              "      <th>Probability</th>\n",
              "    </tr>\n",
              "  </thead>\n",
              "  <tbody>\n",
              "    <tr>\n",
              "      <th>34</th>\n",
              "      <td>5</td>\n",
              "      <td>Alex Abrines</td>\n",
              "      <td>0</td>\n",
              "      <td>0.000</td>\n",
              "    </tr>\n",
              "    <tr>\n",
              "      <th>49</th>\n",
              "      <td>8</td>\n",
              "      <td>Quincy Acy</td>\n",
              "      <td>0</td>\n",
              "      <td>0.000</td>\n",
              "    </tr>\n",
              "    <tr>\n",
              "      <th>70</th>\n",
              "      <td>10</td>\n",
              "      <td>Jaylen Adams</td>\n",
              "      <td>0</td>\n",
              "      <td>0.000</td>\n",
              "    </tr>\n",
              "    <tr>\n",
              "      <th>71</th>\n",
              "      <td>13</td>\n",
              "      <td>Steven Adams</td>\n",
              "      <td>0</td>\n",
              "      <td>0.110</td>\n",
              "    </tr>\n",
              "    <tr>\n",
              "      <th>79</th>\n",
              "      <td>15</td>\n",
              "      <td>Bam Adebayo</td>\n",
              "      <td>0</td>\n",
              "      <td>0.003</td>\n",
              "    </tr>\n",
              "    <tr>\n",
              "      <th>80</th>\n",
              "      <td>16</td>\n",
              "      <td>Deng Adel</td>\n",
              "      <td>0</td>\n",
              "      <td>0.000</td>\n",
              "    </tr>\n",
              "    <tr>\n",
              "      <th>139</th>\n",
              "      <td>25</td>\n",
              "      <td>DeVaughn Akoon-Purcell</td>\n",
              "      <td>0</td>\n",
              "      <td>0.000</td>\n",
              "    </tr>\n",
              "  </tbody>\n",
              "</table>\n",
              "</div>\n",
              "      <button class=\"colab-df-convert\" onclick=\"convertToInteractive('df-e4bd1459-a4c0-4aad-9a95-939690644633')\"\n",
              "              title=\"Convert this dataframe to an interactive table.\"\n",
              "              style=\"display:none;\">\n",
              "        \n",
              "  <svg xmlns=\"http://www.w3.org/2000/svg\" height=\"24px\"viewBox=\"0 0 24 24\"\n",
              "       width=\"24px\">\n",
              "    <path d=\"M0 0h24v24H0V0z\" fill=\"none\"/>\n",
              "    <path d=\"M18.56 5.44l.94 2.06.94-2.06 2.06-.94-2.06-.94-.94-2.06-.94 2.06-2.06.94zm-11 1L8.5 8.5l.94-2.06 2.06-.94-2.06-.94L8.5 2.5l-.94 2.06-2.06.94zm10 10l.94 2.06.94-2.06 2.06-.94-2.06-.94-.94-2.06-.94 2.06-2.06.94z\"/><path d=\"M17.41 7.96l-1.37-1.37c-.4-.4-.92-.59-1.43-.59-.52 0-1.04.2-1.43.59L10.3 9.45l-7.72 7.72c-.78.78-.78 2.05 0 2.83L4 21.41c.39.39.9.59 1.41.59.51 0 1.02-.2 1.41-.59l7.78-7.78 2.81-2.81c.8-.78.8-2.07 0-2.86zM5.41 20L4 18.59l7.72-7.72 1.47 1.35L5.41 20z\"/>\n",
              "  </svg>\n",
              "      </button>\n",
              "      \n",
              "  <style>\n",
              "    .colab-df-container {\n",
              "      display:flex;\n",
              "      flex-wrap:wrap;\n",
              "      gap: 12px;\n",
              "    }\n",
              "\n",
              "    .colab-df-convert {\n",
              "      background-color: #E8F0FE;\n",
              "      border: none;\n",
              "      border-radius: 50%;\n",
              "      cursor: pointer;\n",
              "      display: none;\n",
              "      fill: #1967D2;\n",
              "      height: 32px;\n",
              "      padding: 0 0 0 0;\n",
              "      width: 32px;\n",
              "    }\n",
              "\n",
              "    .colab-df-convert:hover {\n",
              "      background-color: #E2EBFA;\n",
              "      box-shadow: 0px 1px 2px rgba(60, 64, 67, 0.3), 0px 1px 3px 1px rgba(60, 64, 67, 0.15);\n",
              "      fill: #174EA6;\n",
              "    }\n",
              "\n",
              "    [theme=dark] .colab-df-convert {\n",
              "      background-color: #3B4455;\n",
              "      fill: #D2E3FC;\n",
              "    }\n",
              "\n",
              "    [theme=dark] .colab-df-convert:hover {\n",
              "      background-color: #434B5C;\n",
              "      box-shadow: 0px 1px 3px 1px rgba(0, 0, 0, 0.15);\n",
              "      filter: drop-shadow(0px 1px 2px rgba(0, 0, 0, 0.3));\n",
              "      fill: #FFFFFF;\n",
              "    }\n",
              "  </style>\n",
              "\n",
              "      <script>\n",
              "        const buttonEl =\n",
              "          document.querySelector('#df-e4bd1459-a4c0-4aad-9a95-939690644633 button.colab-df-convert');\n",
              "        buttonEl.style.display =\n",
              "          google.colab.kernel.accessAllowed ? 'block' : 'none';\n",
              "\n",
              "        async function convertToInteractive(key) {\n",
              "          const element = document.querySelector('#df-e4bd1459-a4c0-4aad-9a95-939690644633');\n",
              "          const dataTable =\n",
              "            await google.colab.kernel.invokeFunction('convertToInteractive',\n",
              "                                                     [key], {});\n",
              "          if (!dataTable) return;\n",
              "\n",
              "          const docLinkHtml = 'Like what you see? Visit the ' +\n",
              "            '<a target=\"_blank\" href=https://colab.research.google.com/notebooks/data_table.ipynb>data table notebook</a>'\n",
              "            + ' to learn more about interactive tables.';\n",
              "          element.innerHTML = '';\n",
              "          dataTable['output_type'] = 'display_data';\n",
              "          await google.colab.output.renderOutput(dataTable, element);\n",
              "          const docLink = document.createElement('div');\n",
              "          docLink.innerHTML = docLinkHtml;\n",
              "          element.appendChild(docLink);\n",
              "        }\n",
              "      </script>\n",
              "    </div>\n",
              "  </div>\n",
              "  "
            ],
            "text/plain": [
              "     player_id                  player  all_nba  Probability\n",
              "34           5            Alex Abrines        0        0.000\n",
              "49           8              Quincy Acy        0        0.000\n",
              "70          10            Jaylen Adams        0        0.000\n",
              "71          13            Steven Adams        0        0.110\n",
              "79          15             Bam Adebayo        0        0.003\n",
              "80          16               Deng Adel        0        0.000\n",
              "139         25  DeVaughn Akoon-Purcell        0        0.000"
            ]
          },
          "execution_count": 148,
          "metadata": {},
          "output_type": "execute_result"
        }
      ],
      "source": [
        "# lets see what we got:\n",
        "\n",
        "print(prob[0,0], prob[0,1], prob[0,0] + prob[0,1])\n",
        "\n",
        "#all_nba_2018_selections['Probability1'] = prob[:,0]\n",
        "all_nba_2018_selections['Probability'] = prob[:,1] \n",
        "all_nba_2018_selections.Probability.head()\n",
        "all_nba_2018_selections.Probability = round(all_nba_2018_selections.Probability,3)\n",
        "all_nba_2018_selections.head(7)"
      ]
    },
    {
      "cell_type": "markdown",
      "id": "c1e5edbf-faee-4773-a114-eed5eab89242",
      "metadata": {
        "id": "c1e5edbf-faee-4773-a114-eed5eab89242"
      },
      "source": [
        "2.14. Sort the dataset by probabilities and show the 15 players with higher probability to have been selected"
      ]
    },
    {
      "cell_type": "code",
      "execution_count": null,
      "id": "wem_Ilea7lkh",
      "metadata": {
        "colab": {
          "base_uri": "https://localhost:8080/",
          "height": 989
        },
        "id": "wem_Ilea7lkh",
        "outputId": "177caede-43f4-41bf-c838-8e21a0908bb4"
      },
      "outputs": [
        {
          "data": {
            "text/html": [
              "\n",
              "  <div id=\"df-2397dfb3-2f16-43e6-a4c9-d011e5789501\">\n",
              "    <div class=\"colab-df-container\">\n",
              "      <div>\n",
              "<style scoped>\n",
              "    .dataframe tbody tr th:only-of-type {\n",
              "        vertical-align: middle;\n",
              "    }\n",
              "\n",
              "    .dataframe tbody tr th {\n",
              "        vertical-align: top;\n",
              "    }\n",
              "\n",
              "    .dataframe thead th {\n",
              "        text-align: right;\n",
              "    }\n",
              "</style>\n",
              "<table border=\"1\" class=\"dataframe\">\n",
              "  <thead>\n",
              "    <tr style=\"text-align: right;\">\n",
              "      <th></th>\n",
              "      <th>player_id</th>\n",
              "      <th>player</th>\n",
              "      <th>all_nba</th>\n",
              "      <th>Probability</th>\n",
              "    </tr>\n",
              "  </thead>\n",
              "  <tbody>\n",
              "    <tr>\n",
              "      <th>5604</th>\n",
              "      <td>1024</td>\n",
              "      <td>James Harden</td>\n",
              "      <td>1</td>\n",
              "      <td>0.999</td>\n",
              "    </tr>\n",
              "    <tr>\n",
              "      <th>453</th>\n",
              "      <td>83</td>\n",
              "      <td>Giannis Antetokounmpo</td>\n",
              "      <td>1</td>\n",
              "      <td>0.998</td>\n",
              "    </tr>\n",
              "    <tr>\n",
              "      <th>6857</th>\n",
              "      <td>1240</td>\n",
              "      <td>LeBron James</td>\n",
              "      <td>1</td>\n",
              "      <td>0.996</td>\n",
              "    </tr>\n",
              "    <tr>\n",
              "      <th>3401</th>\n",
              "      <td>587</td>\n",
              "      <td>Anthony Davis</td>\n",
              "      <td>0</td>\n",
              "      <td>0.991</td>\n",
              "    </tr>\n",
              "    <tr>\n",
              "      <th>14479</th>\n",
              "      <td>2648</td>\n",
              "      <td>Russell Westbrook</td>\n",
              "      <td>1</td>\n",
              "      <td>0.979</td>\n",
              "    </tr>\n",
              "    <tr>\n",
              "      <th>4145</th>\n",
              "      <td>740</td>\n",
              "      <td>Joel Embiid</td>\n",
              "      <td>1</td>\n",
              "      <td>0.970</td>\n",
              "    </tr>\n",
              "    <tr>\n",
              "      <th>3908</th>\n",
              "      <td>695</td>\n",
              "      <td>Kevin Durant</td>\n",
              "      <td>1</td>\n",
              "      <td>0.967</td>\n",
              "    </tr>\n",
              "    <tr>\n",
              "      <th>4895</th>\n",
              "      <td>884</td>\n",
              "      <td>Paul George</td>\n",
              "      <td>1</td>\n",
              "      <td>0.936</td>\n",
              "    </tr>\n",
              "    <tr>\n",
              "      <th>14027</th>\n",
              "      <td>2572</td>\n",
              "      <td>Nikola Vucevic</td>\n",
              "      <td>0</td>\n",
              "      <td>0.918</td>\n",
              "    </tr>\n",
              "    <tr>\n",
              "      <th>168</th>\n",
              "      <td>30</td>\n",
              "      <td>LaMarcus Aldridge</td>\n",
              "      <td>0</td>\n",
              "      <td>0.888</td>\n",
              "    </tr>\n",
              "    <tr>\n",
              "      <th>5016</th>\n",
              "      <td>909</td>\n",
              "      <td>Rudy Gobert</td>\n",
              "      <td>1</td>\n",
              "      <td>0.877</td>\n",
              "    </tr>\n",
              "    <tr>\n",
              "      <th>7225</th>\n",
              "      <td>1315</td>\n",
              "      <td>Nikola Jokic</td>\n",
              "      <td>1</td>\n",
              "      <td>0.867</td>\n",
              "    </tr>\n",
              "    <tr>\n",
              "      <th>8206</th>\n",
              "      <td>1511</td>\n",
              "      <td>Damian Lillard</td>\n",
              "      <td>1</td>\n",
              "      <td>0.861</td>\n",
              "    </tr>\n",
              "    <tr>\n",
              "      <th>8103</th>\n",
              "      <td>1492</td>\n",
              "      <td>Kawhi Leonard</td>\n",
              "      <td>1</td>\n",
              "      <td>0.859</td>\n",
              "    </tr>\n",
              "    <tr>\n",
              "      <th>3794</th>\n",
              "      <td>682</td>\n",
              "      <td>Andre Drummond</td>\n",
              "      <td>0</td>\n",
              "      <td>0.859</td>\n",
              "    </tr>\n",
              "    <tr>\n",
              "      <th>5399</th>\n",
              "      <td>979</td>\n",
              "      <td>Blake Griffin</td>\n",
              "      <td>1</td>\n",
              "      <td>0.846</td>\n",
              "    </tr>\n",
              "    <tr>\n",
              "      <th>13673</th>\n",
              "      <td>2501</td>\n",
              "      <td>Karl-Anthony Towns</td>\n",
              "      <td>0</td>\n",
              "      <td>0.845</td>\n",
              "    </tr>\n",
              "    <tr>\n",
              "      <th>3538</th>\n",
              "      <td>633</td>\n",
              "      <td>DeMar DeRozan</td>\n",
              "      <td>0</td>\n",
              "      <td>0.840</td>\n",
              "    </tr>\n",
              "    <tr>\n",
              "      <th>3168</th>\n",
              "      <td>570</td>\n",
              "      <td>Stephen Curry</td>\n",
              "      <td>1</td>\n",
              "      <td>0.829</td>\n",
              "    </tr>\n",
              "    <tr>\n",
              "      <th>1048</th>\n",
              "      <td>179</td>\n",
              "      <td>Bradley Beal</td>\n",
              "      <td>0</td>\n",
              "      <td>0.755</td>\n",
              "    </tr>\n",
              "    <tr>\n",
              "      <th>6634</th>\n",
              "      <td>1204</td>\n",
              "      <td>Kyrie Irving</td>\n",
              "      <td>1</td>\n",
              "      <td>0.739</td>\n",
              "    </tr>\n",
              "    <tr>\n",
              "      <th>2274</th>\n",
              "      <td>405</td>\n",
              "      <td>Clint Capela</td>\n",
              "      <td>0</td>\n",
              "      <td>0.719</td>\n",
              "    </tr>\n",
              "    <tr>\n",
              "      <th>14132</th>\n",
              "      <td>2585</td>\n",
              "      <td>Kemba Walker</td>\n",
              "      <td>1</td>\n",
              "      <td>0.689</td>\n",
              "    </tr>\n",
              "    <tr>\n",
              "      <th>12473</th>\n",
              "      <td>2267</td>\n",
              "      <td>Ben Simmons</td>\n",
              "      <td>0</td>\n",
              "      <td>0.630</td>\n",
              "    </tr>\n",
              "    <tr>\n",
              "      <th>1477</th>\n",
              "      <td>258</td>\n",
              "      <td>Devin Booker</td>\n",
              "      <td>0</td>\n",
              "      <td>0.606</td>\n",
              "    </tr>\n",
              "    <tr>\n",
              "      <th>6218</th>\n",
              "      <td>1131</td>\n",
              "      <td>Jrue Holiday</td>\n",
              "      <td>0</td>\n",
              "      <td>0.570</td>\n",
              "    </tr>\n",
              "    <tr>\n",
              "      <th>3667</th>\n",
              "      <td>657</td>\n",
              "      <td>Luka Doncic</td>\n",
              "      <td>0</td>\n",
              "      <td>0.476</td>\n",
              "    </tr>\n",
              "    <tr>\n",
              "      <th>2832</th>\n",
              "      <td>506</td>\n",
              "      <td>Mike Conley</td>\n",
              "      <td>0</td>\n",
              "      <td>0.327</td>\n",
              "    </tr>\n",
              "    <tr>\n",
              "      <th>12068</th>\n",
              "      <td>2180</td>\n",
              "      <td>D'Angelo Russell</td>\n",
              "      <td>0</td>\n",
              "      <td>0.245</td>\n",
              "    </tr>\n",
              "    <tr>\n",
              "      <th>4559</th>\n",
              "      <td>823</td>\n",
              "      <td>De'Aaron Fox</td>\n",
              "      <td>0</td>\n",
              "      <td>0.227</td>\n",
              "    </tr>\n",
              "  </tbody>\n",
              "</table>\n",
              "</div>\n",
              "      <button class=\"colab-df-convert\" onclick=\"convertToInteractive('df-2397dfb3-2f16-43e6-a4c9-d011e5789501')\"\n",
              "              title=\"Convert this dataframe to an interactive table.\"\n",
              "              style=\"display:none;\">\n",
              "        \n",
              "  <svg xmlns=\"http://www.w3.org/2000/svg\" height=\"24px\"viewBox=\"0 0 24 24\"\n",
              "       width=\"24px\">\n",
              "    <path d=\"M0 0h24v24H0V0z\" fill=\"none\"/>\n",
              "    <path d=\"M18.56 5.44l.94 2.06.94-2.06 2.06-.94-2.06-.94-.94-2.06-.94 2.06-2.06.94zm-11 1L8.5 8.5l.94-2.06 2.06-.94-2.06-.94L8.5 2.5l-.94 2.06-2.06.94zm10 10l.94 2.06.94-2.06 2.06-.94-2.06-.94-.94-2.06-.94 2.06-2.06.94z\"/><path d=\"M17.41 7.96l-1.37-1.37c-.4-.4-.92-.59-1.43-.59-.52 0-1.04.2-1.43.59L10.3 9.45l-7.72 7.72c-.78.78-.78 2.05 0 2.83L4 21.41c.39.39.9.59 1.41.59.51 0 1.02-.2 1.41-.59l7.78-7.78 2.81-2.81c.8-.78.8-2.07 0-2.86zM5.41 20L4 18.59l7.72-7.72 1.47 1.35L5.41 20z\"/>\n",
              "  </svg>\n",
              "      </button>\n",
              "      \n",
              "  <style>\n",
              "    .colab-df-container {\n",
              "      display:flex;\n",
              "      flex-wrap:wrap;\n",
              "      gap: 12px;\n",
              "    }\n",
              "\n",
              "    .colab-df-convert {\n",
              "      background-color: #E8F0FE;\n",
              "      border: none;\n",
              "      border-radius: 50%;\n",
              "      cursor: pointer;\n",
              "      display: none;\n",
              "      fill: #1967D2;\n",
              "      height: 32px;\n",
              "      padding: 0 0 0 0;\n",
              "      width: 32px;\n",
              "    }\n",
              "\n",
              "    .colab-df-convert:hover {\n",
              "      background-color: #E2EBFA;\n",
              "      box-shadow: 0px 1px 2px rgba(60, 64, 67, 0.3), 0px 1px 3px 1px rgba(60, 64, 67, 0.15);\n",
              "      fill: #174EA6;\n",
              "    }\n",
              "\n",
              "    [theme=dark] .colab-df-convert {\n",
              "      background-color: #3B4455;\n",
              "      fill: #D2E3FC;\n",
              "    }\n",
              "\n",
              "    [theme=dark] .colab-df-convert:hover {\n",
              "      background-color: #434B5C;\n",
              "      box-shadow: 0px 1px 3px 1px rgba(0, 0, 0, 0.15);\n",
              "      filter: drop-shadow(0px 1px 2px rgba(0, 0, 0, 0.3));\n",
              "      fill: #FFFFFF;\n",
              "    }\n",
              "  </style>\n",
              "\n",
              "      <script>\n",
              "        const buttonEl =\n",
              "          document.querySelector('#df-2397dfb3-2f16-43e6-a4c9-d011e5789501 button.colab-df-convert');\n",
              "        buttonEl.style.display =\n",
              "          google.colab.kernel.accessAllowed ? 'block' : 'none';\n",
              "\n",
              "        async function convertToInteractive(key) {\n",
              "          const element = document.querySelector('#df-2397dfb3-2f16-43e6-a4c9-d011e5789501');\n",
              "          const dataTable =\n",
              "            await google.colab.kernel.invokeFunction('convertToInteractive',\n",
              "                                                     [key], {});\n",
              "          if (!dataTable) return;\n",
              "\n",
              "          const docLinkHtml = 'Like what you see? Visit the ' +\n",
              "            '<a target=\"_blank\" href=https://colab.research.google.com/notebooks/data_table.ipynb>data table notebook</a>'\n",
              "            + ' to learn more about interactive tables.';\n",
              "          element.innerHTML = '';\n",
              "          dataTable['output_type'] = 'display_data';\n",
              "          await google.colab.output.renderOutput(dataTable, element);\n",
              "          const docLink = document.createElement('div');\n",
              "          docLink.innerHTML = docLinkHtml;\n",
              "          element.appendChild(docLink);\n",
              "        }\n",
              "      </script>\n",
              "    </div>\n",
              "  </div>\n",
              "  "
            ],
            "text/plain": [
              "       player_id                 player  all_nba  Probability\n",
              "5604        1024           James Harden        1        0.999\n",
              "453           83  Giannis Antetokounmpo        1        0.998\n",
              "6857        1240           LeBron James        1        0.996\n",
              "3401         587          Anthony Davis        0        0.991\n",
              "14479       2648      Russell Westbrook        1        0.979\n",
              "4145         740            Joel Embiid        1        0.970\n",
              "3908         695           Kevin Durant        1        0.967\n",
              "4895         884            Paul George        1        0.936\n",
              "14027       2572         Nikola Vucevic        0        0.918\n",
              "168           30      LaMarcus Aldridge        0        0.888\n",
              "5016         909            Rudy Gobert        1        0.877\n",
              "7225        1315           Nikola Jokic        1        0.867\n",
              "8206        1511         Damian Lillard        1        0.861\n",
              "8103        1492          Kawhi Leonard        1        0.859\n",
              "3794         682         Andre Drummond        0        0.859\n",
              "5399         979          Blake Griffin        1        0.846\n",
              "13673       2501     Karl-Anthony Towns        0        0.845\n",
              "3538         633          DeMar DeRozan        0        0.840\n",
              "3168         570          Stephen Curry        1        0.829\n",
              "1048         179           Bradley Beal        0        0.755\n",
              "6634        1204           Kyrie Irving        1        0.739\n",
              "2274         405           Clint Capela        0        0.719\n",
              "14132       2585           Kemba Walker        1        0.689\n",
              "12473       2267            Ben Simmons        0        0.630\n",
              "1477         258           Devin Booker        0        0.606\n",
              "6218        1131           Jrue Holiday        0        0.570\n",
              "3667         657            Luka Doncic        0        0.476\n",
              "2832         506            Mike Conley        0        0.327\n",
              "12068       2180       D'Angelo Russell        0        0.245\n",
              "4559         823           De'Aaron Fox        0        0.227"
            ]
          },
          "execution_count": 149,
          "metadata": {},
          "output_type": "execute_result"
        }
      ],
      "source": [
        "all_nba_2018_selections = all_nba_2018_selections.sort_values(by=['Probability'], ascending=False)\n",
        "all_nba_2018_selections.head(30)"
      ]
    },
    {
      "cell_type": "code",
      "execution_count": null,
      "id": "42562785-2d0d-4e11-a31f-3eca3f78c818",
      "metadata": {
        "colab": {
          "base_uri": "https://localhost:8080/",
          "height": 519
        },
        "id": "42562785-2d0d-4e11-a31f-3eca3f78c818",
        "outputId": "5ea582de-549a-4e51-b314-bb605dcd00a5"
      },
      "outputs": [
        {
          "data": {
            "text/html": [
              "\n",
              "  <div id=\"df-48039fe3-2e2d-4cb8-b9a3-9873a63e48f7\">\n",
              "    <div class=\"colab-df-container\">\n",
              "      <div>\n",
              "<style scoped>\n",
              "    .dataframe tbody tr th:only-of-type {\n",
              "        vertical-align: middle;\n",
              "    }\n",
              "\n",
              "    .dataframe tbody tr th {\n",
              "        vertical-align: top;\n",
              "    }\n",
              "\n",
              "    .dataframe thead th {\n",
              "        text-align: right;\n",
              "    }\n",
              "</style>\n",
              "<table border=\"1\" class=\"dataframe\">\n",
              "  <thead>\n",
              "    <tr style=\"text-align: right;\">\n",
              "      <th></th>\n",
              "      <th>player_id</th>\n",
              "      <th>player</th>\n",
              "      <th>all_nba</th>\n",
              "      <th>Probability</th>\n",
              "    </tr>\n",
              "  </thead>\n",
              "  <tbody>\n",
              "    <tr>\n",
              "      <th>5604</th>\n",
              "      <td>1024</td>\n",
              "      <td>James Harden</td>\n",
              "      <td>1</td>\n",
              "      <td>0.999</td>\n",
              "    </tr>\n",
              "    <tr>\n",
              "      <th>453</th>\n",
              "      <td>83</td>\n",
              "      <td>Giannis Antetokounmpo</td>\n",
              "      <td>1</td>\n",
              "      <td>0.998</td>\n",
              "    </tr>\n",
              "    <tr>\n",
              "      <th>6857</th>\n",
              "      <td>1240</td>\n",
              "      <td>LeBron James</td>\n",
              "      <td>1</td>\n",
              "      <td>0.996</td>\n",
              "    </tr>\n",
              "    <tr>\n",
              "      <th>3401</th>\n",
              "      <td>587</td>\n",
              "      <td>Anthony Davis</td>\n",
              "      <td>0</td>\n",
              "      <td>0.991</td>\n",
              "    </tr>\n",
              "    <tr>\n",
              "      <th>14479</th>\n",
              "      <td>2648</td>\n",
              "      <td>Russell Westbrook</td>\n",
              "      <td>1</td>\n",
              "      <td>0.979</td>\n",
              "    </tr>\n",
              "    <tr>\n",
              "      <th>4145</th>\n",
              "      <td>740</td>\n",
              "      <td>Joel Embiid</td>\n",
              "      <td>1</td>\n",
              "      <td>0.970</td>\n",
              "    </tr>\n",
              "    <tr>\n",
              "      <th>3908</th>\n",
              "      <td>695</td>\n",
              "      <td>Kevin Durant</td>\n",
              "      <td>1</td>\n",
              "      <td>0.967</td>\n",
              "    </tr>\n",
              "    <tr>\n",
              "      <th>4895</th>\n",
              "      <td>884</td>\n",
              "      <td>Paul George</td>\n",
              "      <td>1</td>\n",
              "      <td>0.936</td>\n",
              "    </tr>\n",
              "    <tr>\n",
              "      <th>14027</th>\n",
              "      <td>2572</td>\n",
              "      <td>Nikola Vucevic</td>\n",
              "      <td>0</td>\n",
              "      <td>0.918</td>\n",
              "    </tr>\n",
              "    <tr>\n",
              "      <th>168</th>\n",
              "      <td>30</td>\n",
              "      <td>LaMarcus Aldridge</td>\n",
              "      <td>0</td>\n",
              "      <td>0.888</td>\n",
              "    </tr>\n",
              "    <tr>\n",
              "      <th>5016</th>\n",
              "      <td>909</td>\n",
              "      <td>Rudy Gobert</td>\n",
              "      <td>1</td>\n",
              "      <td>0.877</td>\n",
              "    </tr>\n",
              "    <tr>\n",
              "      <th>7225</th>\n",
              "      <td>1315</td>\n",
              "      <td>Nikola Jokic</td>\n",
              "      <td>1</td>\n",
              "      <td>0.867</td>\n",
              "    </tr>\n",
              "    <tr>\n",
              "      <th>8206</th>\n",
              "      <td>1511</td>\n",
              "      <td>Damian Lillard</td>\n",
              "      <td>1</td>\n",
              "      <td>0.861</td>\n",
              "    </tr>\n",
              "    <tr>\n",
              "      <th>8103</th>\n",
              "      <td>1492</td>\n",
              "      <td>Kawhi Leonard</td>\n",
              "      <td>1</td>\n",
              "      <td>0.859</td>\n",
              "    </tr>\n",
              "    <tr>\n",
              "      <th>3794</th>\n",
              "      <td>682</td>\n",
              "      <td>Andre Drummond</td>\n",
              "      <td>0</td>\n",
              "      <td>0.859</td>\n",
              "    </tr>\n",
              "  </tbody>\n",
              "</table>\n",
              "</div>\n",
              "      <button class=\"colab-df-convert\" onclick=\"convertToInteractive('df-48039fe3-2e2d-4cb8-b9a3-9873a63e48f7')\"\n",
              "              title=\"Convert this dataframe to an interactive table.\"\n",
              "              style=\"display:none;\">\n",
              "        \n",
              "  <svg xmlns=\"http://www.w3.org/2000/svg\" height=\"24px\"viewBox=\"0 0 24 24\"\n",
              "       width=\"24px\">\n",
              "    <path d=\"M0 0h24v24H0V0z\" fill=\"none\"/>\n",
              "    <path d=\"M18.56 5.44l.94 2.06.94-2.06 2.06-.94-2.06-.94-.94-2.06-.94 2.06-2.06.94zm-11 1L8.5 8.5l.94-2.06 2.06-.94-2.06-.94L8.5 2.5l-.94 2.06-2.06.94zm10 10l.94 2.06.94-2.06 2.06-.94-2.06-.94-.94-2.06-.94 2.06-2.06.94z\"/><path d=\"M17.41 7.96l-1.37-1.37c-.4-.4-.92-.59-1.43-.59-.52 0-1.04.2-1.43.59L10.3 9.45l-7.72 7.72c-.78.78-.78 2.05 0 2.83L4 21.41c.39.39.9.59 1.41.59.51 0 1.02-.2 1.41-.59l7.78-7.78 2.81-2.81c.8-.78.8-2.07 0-2.86zM5.41 20L4 18.59l7.72-7.72 1.47 1.35L5.41 20z\"/>\n",
              "  </svg>\n",
              "      </button>\n",
              "      \n",
              "  <style>\n",
              "    .colab-df-container {\n",
              "      display:flex;\n",
              "      flex-wrap:wrap;\n",
              "      gap: 12px;\n",
              "    }\n",
              "\n",
              "    .colab-df-convert {\n",
              "      background-color: #E8F0FE;\n",
              "      border: none;\n",
              "      border-radius: 50%;\n",
              "      cursor: pointer;\n",
              "      display: none;\n",
              "      fill: #1967D2;\n",
              "      height: 32px;\n",
              "      padding: 0 0 0 0;\n",
              "      width: 32px;\n",
              "    }\n",
              "\n",
              "    .colab-df-convert:hover {\n",
              "      background-color: #E2EBFA;\n",
              "      box-shadow: 0px 1px 2px rgba(60, 64, 67, 0.3), 0px 1px 3px 1px rgba(60, 64, 67, 0.15);\n",
              "      fill: #174EA6;\n",
              "    }\n",
              "\n",
              "    [theme=dark] .colab-df-convert {\n",
              "      background-color: #3B4455;\n",
              "      fill: #D2E3FC;\n",
              "    }\n",
              "\n",
              "    [theme=dark] .colab-df-convert:hover {\n",
              "      background-color: #434B5C;\n",
              "      box-shadow: 0px 1px 3px 1px rgba(0, 0, 0, 0.15);\n",
              "      filter: drop-shadow(0px 1px 2px rgba(0, 0, 0, 0.3));\n",
              "      fill: #FFFFFF;\n",
              "    }\n",
              "  </style>\n",
              "\n",
              "      <script>\n",
              "        const buttonEl =\n",
              "          document.querySelector('#df-48039fe3-2e2d-4cb8-b9a3-9873a63e48f7 button.colab-df-convert');\n",
              "        buttonEl.style.display =\n",
              "          google.colab.kernel.accessAllowed ? 'block' : 'none';\n",
              "\n",
              "        async function convertToInteractive(key) {\n",
              "          const element = document.querySelector('#df-48039fe3-2e2d-4cb8-b9a3-9873a63e48f7');\n",
              "          const dataTable =\n",
              "            await google.colab.kernel.invokeFunction('convertToInteractive',\n",
              "                                                     [key], {});\n",
              "          if (!dataTable) return;\n",
              "\n",
              "          const docLinkHtml = 'Like what you see? Visit the ' +\n",
              "            '<a target=\"_blank\" href=https://colab.research.google.com/notebooks/data_table.ipynb>data table notebook</a>'\n",
              "            + ' to learn more about interactive tables.';\n",
              "          element.innerHTML = '';\n",
              "          dataTable['output_type'] = 'display_data';\n",
              "          await google.colab.output.renderOutput(dataTable, element);\n",
              "          const docLink = document.createElement('div');\n",
              "          docLink.innerHTML = docLinkHtml;\n",
              "          element.appendChild(docLink);\n",
              "        }\n",
              "      </script>\n",
              "    </div>\n",
              "  </div>\n",
              "  "
            ],
            "text/plain": [
              "       player_id                 player  all_nba  Probability\n",
              "5604        1024           James Harden        1        0.999\n",
              "453           83  Giannis Antetokounmpo        1        0.998\n",
              "6857        1240           LeBron James        1        0.996\n",
              "3401         587          Anthony Davis        0        0.991\n",
              "14479       2648      Russell Westbrook        1        0.979\n",
              "4145         740            Joel Embiid        1        0.970\n",
              "3908         695           Kevin Durant        1        0.967\n",
              "4895         884            Paul George        1        0.936\n",
              "14027       2572         Nikola Vucevic        0        0.918\n",
              "168           30      LaMarcus Aldridge        0        0.888\n",
              "5016         909            Rudy Gobert        1        0.877\n",
              "7225        1315           Nikola Jokic        1        0.867\n",
              "8206        1511         Damian Lillard        1        0.861\n",
              "8103        1492          Kawhi Leonard        1        0.859\n",
              "3794         682         Andre Drummond        0        0.859"
            ]
          },
          "execution_count": 150,
          "metadata": {},
          "output_type": "execute_result"
        }
      ],
      "source": [
        "#df = df.sort_values(by=['Probability'], ascending=False)\n",
        "#df.head(30)\n",
        "\n",
        "# because of round there are more than 15 players with p=1\n",
        "all_nba_2018_selections_15 = all_nba_2018_selections.nlargest(15, 'Probability')\n",
        "all_nba_2018_selections_15"
      ]
    },
    {
      "cell_type": "markdown",
      "id": "1c27683b-0256-40c5-929c-d5ed6cdf6d1f",
      "metadata": {
        "id": "1c27683b-0256-40c5-929c-d5ed6cdf6d1f"
      },
      "source": [
        "2.15. Print:\n",
        "\n",
        "    - Players actually selected from the all_nba_2018_selections dataset,\n",
        "    - Players actually selected missing from OUR predictions+\n",
        "    - Players in our predictions not selected "
      ]
    },
    {
      "cell_type": "code",
      "execution_count": null,
      "id": "fdbcdcac-43bd-4936-8312-456b3b0bd842",
      "metadata": {
        "colab": {
          "base_uri": "https://localhost:8080/"
        },
        "id": "fdbcdcac-43bd-4936-8312-456b3b0bd842",
        "outputId": "c8b88b30-0192-4094-846c-58221d3a0d94"
      },
      "outputs": [
        {
          "name": "stdout",
          "output_type": "stream",
          "text": [
            "Players actually selected from the all_nba_2018_selections dataset are: \n",
            "Kawhi Leonard, Stephen Curry, Giannis Antetokounmpo, LeBron James, Nikola Jokic, James Harden, Paul George, Russell Westbrook, Kevin Durant, Damian Lillard, Blake Griffin, Rudy Gobert, Joel Embiid, Kyrie Irving, Kemba Walker\n"
          ]
        }
      ],
      "source": [
        "# - Players actually selected from the all_nba_2018_selections dataset,\n",
        "all_nba_2018_selections.head()\n",
        "\n",
        "df_mask     = all_nba_2018_selections['all_nba']==1\n",
        "filtered_df = all_nba_2018_selections[df_mask]\n",
        "filtered_df\n",
        "filtered_df.set_index('player_id', inplace = True)\n",
        "\n",
        "players_set = set(filtered_df['player'])\n",
        "players_set_list = list(players_set)\n",
        "print('Players actually selected from the all_nba_2018_selections dataset are: ')\n",
        "print(*players_set_list, sep=', ')"
      ]
    },
    {
      "cell_type": "code",
      "execution_count": null,
      "id": "dnfndmQHETem",
      "metadata": {
        "colab": {
          "base_uri": "https://localhost:8080/"
        },
        "id": "dnfndmQHETem",
        "outputId": "295cdc10-c114-4a3f-e3d7-4e7610d7905d"
      },
      "outputs": [
        {
          "name": "stdout",
          "output_type": "stream",
          "text": [
            "The players actually selected missing from OUR predictions are: \n",
            "Stephen Curry, Kyrie Irving, Kemba Walker, Blake Griffin\n"
          ]
        }
      ],
      "source": [
        "# - Players actually selected missing from OUR predictions\n",
        "\n",
        "players_set_model      = set  (all_nba_2018_selections_15['player'])\n",
        "players_set_model_list = list (players_set_model)\n",
        "pp_list                = list (players_set - players_set_model)\n",
        "print('The players actually selected missing from OUR predictions are: ')\n",
        "print(*pp_list, sep=', ')"
      ]
    },
    {
      "cell_type": "code",
      "execution_count": null,
      "id": "KZt6qfhjjZ0M",
      "metadata": {
        "colab": {
          "base_uri": "https://localhost:8080/"
        },
        "id": "KZt6qfhjjZ0M",
        "outputId": "60d04e94-eeb4-480b-fd40-93d4d69e85f2"
      },
      "outputs": [
        {
          "name": "stdout",
          "output_type": "stream",
          "text": [
            "The players in our predictions not selected are: \n",
            "Nikola Vucevic, Andre Drummond, Anthony Davis, LaMarcus Aldridge\n"
          ]
        }
      ],
      "source": [
        "# - Players in our predictions not selected \n",
        "\n",
        "pp_list2                = list (players_set_model - players_set)\n",
        "print('The players in our predictions not selected are: ')\n",
        "print(*pp_list2, sep=', ')"
      ]
    },
    {
      "cell_type": "markdown",
      "id": "66b994d0-d37a-43c2-a38f-ea5e86afa512",
      "metadata": {
        "id": "66b994d0-d37a-43c2-a38f-ea5e86afa512"
      },
      "source": [
        "2.16. Create a class named AllNbaSingleSeasonClassifier that takes a scikit learn model in the constructor, then implements a predict method that returns predictions with only the 15 most probable selections."
      ]
    },
    {
      "cell_type": "code",
      "execution_count": null,
      "id": "5fc85317-ffc5-45e9-8740-3703b5d1aa86",
      "metadata": {
        "id": "5fc85317-ffc5-45e9-8740-3703b5d1aa86"
      },
      "outputs": [],
      "source": [
        "class AllNbaSingleSeasonClassifier():\n",
        "    def __init__(self, model):\n",
        "        \"\"\"\n",
        "        Class constructor\n",
        "        \n",
        "        Parameters\n",
        "        ----------\n",
        "        model: BaseEstimator\n",
        "            a Scikit learn estimator\n",
        "        \"\"\"\n",
        "        self._model  = model\n",
        "        #self._y_pred = 0\n",
        "    \n",
        "    def predict(self,X):\n",
        "        \"\"\"\n",
        "        Predicts all nba selections. This classifier will limit the number\n",
        "        of positive instances to 15\n",
        "        \n",
        "        Parameters\n",
        "        ----------\n",
        "        X: pd.DataFrame\n",
        "            a dataframe with the players data\n",
        "            \n",
        "        Returns\n",
        "        -------\n",
        "        np.ndarray\n",
        "            An array of the same length as y, with 15 true results based on the players with most probabilities of\n",
        "            beign selected\n",
        "        \"\"\"\n",
        "        \n",
        "        y_pred = self._model.predict(X)\n",
        "        y_pred = np.sort(y_pred)[::-1]\n",
        "\n",
        "        for i in range(15,len(y_pred)):\n",
        "          if y_pred[i]==1:\n",
        "            y_pred[i]=0\n",
        "          else: \n",
        "            break\n",
        "        return y_pred    \n",
        "\n",
        "   \n",
        "\n"
      ]
    },
    {
      "cell_type": "code",
      "execution_count": null,
      "id": "ktuglu0V_aBi",
      "metadata": {
        "colab": {
          "base_uri": "https://localhost:8080/"
        },
        "id": "ktuglu0V_aBi",
        "outputId": "715af6a3-d77b-40ce-f91a-93b44dbe9859"
      },
      "outputs": [
        {
          "name": "stdout",
          "output_type": "stream",
          "text": [
            "[1 1 1 1 1 1 1 1 1 1 1 1 1 1 1 0 0 0 0 0 0 0 0 0 0 0 0 0 0 0 0 0 0 0 0 0 0\n",
            " 0 0 0 0 0 0 0 0 0 0 0 0 0 0 0 0 0 0 0 0 0 0 0 0 0 0 0 0 0 0 0 0 0 0 0 0 0\n",
            " 0 0 0 0 0 0 0 0 0 0 0 0 0 0 0 0 0 0 0 0 0 0 0 0 0 0 0 0 0 0 0 0 0 0 0 0 0\n",
            " 0 0 0 0 0 0 0 0 0 0 0 0 0 0 0 0 0 0 0 0 0 0 0 0 0 0 0 0 0 0 0 0 0 0 0 0 0\n",
            " 0 0 0 0 0 0 0 0 0 0 0 0 0 0 0 0 0 0 0 0 0 0 0 0 0 0 0 0 0 0 0 0 0 0 0 0 0\n",
            " 0 0 0 0 0 0 0 0 0 0 0 0 0 0 0 0 0 0 0 0 0 0 0 0 0 0 0 0 0 0 0 0 0 0 0 0 0\n",
            " 0 0 0 0 0 0 0 0 0 0 0 0 0 0 0 0 0 0 0 0 0 0 0 0 0 0 0 0 0 0 0 0 0 0 0 0 0\n",
            " 0 0 0 0 0 0 0 0 0 0 0 0 0 0 0 0 0 0 0 0 0 0 0 0 0 0 0 0 0 0 0 0 0 0 0 0 0\n",
            " 0 0 0 0 0 0 0 0 0 0 0 0 0 0 0 0 0 0 0 0 0 0 0 0 0 0 0 0 0 0 0 0 0 0 0 0 0\n",
            " 0 0 0 0 0 0 0 0 0 0 0 0 0 0 0 0 0 0 0 0 0 0 0 0 0 0 0 0 0 0 0 0 0 0 0 0 0\n",
            " 0 0 0 0 0 0 0 0 0 0 0 0 0 0 0 0 0 0 0 0 0 0 0 0 0 0 0 0 0 0 0 0 0 0 0 0 0\n",
            " 0 0 0 0 0 0 0 0 0 0 0 0 0 0 0 0 0 0 0 0 0 0 0 0 0 0 0 0 0 0 0 0 0 0 0 0 0\n",
            " 0 0 0 0 0 0 0 0 0 0 0 0 0 0 0 0 0 0 0 0 0 0 0 0 0 0 0 0 0 0 0 0 0 0 0 0 0\n",
            " 0 0 0 0 0 0 0 0 0 0 0 0 0 0 0 0 0 0 0 0 0 0 0 0 0 0 0 0 0 0 0 0 0 0 0 0 0\n",
            " 0 0 0 0 0 0 0 0 0 0 0 0]\n"
          ]
        }
      ],
      "source": [
        "modell  = AllNbaSingleSeasonClassifier(log_regressor_val)\n",
        "ine     = modell.predict(all_nba_2018_df[features2])\n",
        "print(ine)\n",
        "\n"
      ]
    },
    {
      "cell_type": "markdown",
      "id": "0d83848f-8132-4205-bc18-88b8a5f07555",
      "metadata": {
        "id": "0d83848f-8132-4205-bc18-88b8a5f07555"
      },
      "source": [
        "2.17. Use the new classifier to make predictions and evaluate the result with precision, recall and f1"
      ]
    },
    {
      "cell_type": "code",
      "execution_count": null,
      "id": "ac440daa-8a05-4a90-8729-a48af57092bb",
      "metadata": {
        "colab": {
          "base_uri": "https://localhost:8080/"
        },
        "id": "ac440daa-8a05-4a90-8729-a48af57092bb",
        "outputId": "b97f0710-271f-49a5-f878-ddaf03e0ed7c"
      },
      "outputs": [
        {
          "name": "stdout",
          "output_type": "stream",
          "text": [
            "f1:  0.971 Precision:  0.971 Recall:  0.971\n"
          ]
        }
      ],
      "source": [
        "f1_scr_my_class  = round(f1_score        (y_true, ine, average=None)[0],3)\n",
        "pre_scr_my_class = round(precision_score (y_true, ine, average=None)[0],3)\n",
        "rec_scr_my_class = round(recall_score    (y_true, ine, average=None)[0],3)\n",
        "\n",
        "print('f1: ',f1_scr_my_class, 'Precision: ', pre_scr_my_class, 'Recall: ', rec_scr_my_class)"
      ]
    },
    {
      "cell_type": "markdown",
      "id": "1dd382f9-9640-47ce-a077-41c8baeb2d9f",
      "metadata": {
        "id": "1dd382f9-9640-47ce-a077-41c8baeb2d9f",
        "tags": []
      },
      "source": [
        "#### Analyzing our results"
      ]
    },
    {
      "cell_type": "markdown",
      "id": "f4eb9454-b0d5-40f0-8cb3-0af1ce8ade34",
      "metadata": {
        "id": "f4eb9454-b0d5-40f0-8cb3-0af1ce8ade34"
      },
      "source": [
        "2.18. What do you think it is the main problem with this dataset and the way we trained our model?"
      ]
    },
    {
      "cell_type": "code",
      "execution_count": null,
      "id": "4bbefca3-c863-4cf6-a3a3-5168ef05e43f",
      "metadata": {
        "colab": {
          "base_uri": "https://localhost:8080/",
          "height": 143
        },
        "id": "4bbefca3-c863-4cf6-a3a3-5168ef05e43f",
        "outputId": "f473181c-122a-41d0-8552-06e57bb2a6b4"
      },
      "outputs": [
        {
          "data": {
            "text/html": [
              "\n",
              "  <div id=\"df-b5d5feb3-9d66-46da-a42e-5e4b1a6b72f1\">\n",
              "    <div class=\"colab-df-container\">\n",
              "      <div>\n",
              "<style scoped>\n",
              "    .dataframe tbody tr th:only-of-type {\n",
              "        vertical-align: middle;\n",
              "    }\n",
              "\n",
              "    .dataframe tbody tr th {\n",
              "        vertical-align: top;\n",
              "    }\n",
              "\n",
              "    .dataframe thead th {\n",
              "        text-align: right;\n",
              "    }\n",
              "</style>\n",
              "<table border=\"1\" class=\"dataframe\">\n",
              "  <thead>\n",
              "    <tr style=\"text-align: right;\">\n",
              "      <th></th>\n",
              "      <th>Algorithm</th>\n",
              "      <th>f1-score</th>\n",
              "    </tr>\n",
              "  </thead>\n",
              "  <tbody>\n",
              "    <tr>\n",
              "      <th>0</th>\n",
              "      <td>BLM</td>\n",
              "      <td>0.984</td>\n",
              "    </tr>\n",
              "    <tr>\n",
              "      <th>1</th>\n",
              "      <td>LogicRegressor</td>\n",
              "      <td>0.990</td>\n",
              "    </tr>\n",
              "    <tr>\n",
              "      <th>2</th>\n",
              "      <td>Class</td>\n",
              "      <td>0.971</td>\n",
              "    </tr>\n",
              "  </tbody>\n",
              "</table>\n",
              "</div>\n",
              "      <button class=\"colab-df-convert\" onclick=\"convertToInteractive('df-b5d5feb3-9d66-46da-a42e-5e4b1a6b72f1')\"\n",
              "              title=\"Convert this dataframe to an interactive table.\"\n",
              "              style=\"display:none;\">\n",
              "        \n",
              "  <svg xmlns=\"http://www.w3.org/2000/svg\" height=\"24px\"viewBox=\"0 0 24 24\"\n",
              "       width=\"24px\">\n",
              "    <path d=\"M0 0h24v24H0V0z\" fill=\"none\"/>\n",
              "    <path d=\"M18.56 5.44l.94 2.06.94-2.06 2.06-.94-2.06-.94-.94-2.06-.94 2.06-2.06.94zm-11 1L8.5 8.5l.94-2.06 2.06-.94-2.06-.94L8.5 2.5l-.94 2.06-2.06.94zm10 10l.94 2.06.94-2.06 2.06-.94-2.06-.94-.94-2.06-.94 2.06-2.06.94z\"/><path d=\"M17.41 7.96l-1.37-1.37c-.4-.4-.92-.59-1.43-.59-.52 0-1.04.2-1.43.59L10.3 9.45l-7.72 7.72c-.78.78-.78 2.05 0 2.83L4 21.41c.39.39.9.59 1.41.59.51 0 1.02-.2 1.41-.59l7.78-7.78 2.81-2.81c.8-.78.8-2.07 0-2.86zM5.41 20L4 18.59l7.72-7.72 1.47 1.35L5.41 20z\"/>\n",
              "  </svg>\n",
              "      </button>\n",
              "      \n",
              "  <style>\n",
              "    .colab-df-container {\n",
              "      display:flex;\n",
              "      flex-wrap:wrap;\n",
              "      gap: 12px;\n",
              "    }\n",
              "\n",
              "    .colab-df-convert {\n",
              "      background-color: #E8F0FE;\n",
              "      border: none;\n",
              "      border-radius: 50%;\n",
              "      cursor: pointer;\n",
              "      display: none;\n",
              "      fill: #1967D2;\n",
              "      height: 32px;\n",
              "      padding: 0 0 0 0;\n",
              "      width: 32px;\n",
              "    }\n",
              "\n",
              "    .colab-df-convert:hover {\n",
              "      background-color: #E2EBFA;\n",
              "      box-shadow: 0px 1px 2px rgba(60, 64, 67, 0.3), 0px 1px 3px 1px rgba(60, 64, 67, 0.15);\n",
              "      fill: #174EA6;\n",
              "    }\n",
              "\n",
              "    [theme=dark] .colab-df-convert {\n",
              "      background-color: #3B4455;\n",
              "      fill: #D2E3FC;\n",
              "    }\n",
              "\n",
              "    [theme=dark] .colab-df-convert:hover {\n",
              "      background-color: #434B5C;\n",
              "      box-shadow: 0px 1px 3px 1px rgba(0, 0, 0, 0.15);\n",
              "      filter: drop-shadow(0px 1px 2px rgba(0, 0, 0, 0.3));\n",
              "      fill: #FFFFFF;\n",
              "    }\n",
              "  </style>\n",
              "\n",
              "      <script>\n",
              "        const buttonEl =\n",
              "          document.querySelector('#df-b5d5feb3-9d66-46da-a42e-5e4b1a6b72f1 button.colab-df-convert');\n",
              "        buttonEl.style.display =\n",
              "          google.colab.kernel.accessAllowed ? 'block' : 'none';\n",
              "\n",
              "        async function convertToInteractive(key) {\n",
              "          const element = document.querySelector('#df-b5d5feb3-9d66-46da-a42e-5e4b1a6b72f1');\n",
              "          const dataTable =\n",
              "            await google.colab.kernel.invokeFunction('convertToInteractive',\n",
              "                                                     [key], {});\n",
              "          if (!dataTable) return;\n",
              "\n",
              "          const docLinkHtml = 'Like what you see? Visit the ' +\n",
              "            '<a target=\"_blank\" href=https://colab.research.google.com/notebooks/data_table.ipynb>data table notebook</a>'\n",
              "            + ' to learn more about interactive tables.';\n",
              "          element.innerHTML = '';\n",
              "          dataTable['output_type'] = 'display_data';\n",
              "          await google.colab.output.renderOutput(dataTable, element);\n",
              "          const docLink = document.createElement('div');\n",
              "          docLink.innerHTML = docLinkHtml;\n",
              "          element.appendChild(docLink);\n",
              "        }\n",
              "      </script>\n",
              "    </div>\n",
              "  </div>\n",
              "  "
            ],
            "text/plain": [
              "        Algorithm  f1-score\n",
              "0             BLM     0.984\n",
              "1  LogicRegressor     0.990\n",
              "2           Class     0.971"
            ]
          },
          "execution_count": 157,
          "metadata": {},
          "output_type": "execute_result"
        }
      ],
      "source": [
        "f1 = [ 0.984, 0.99 ,0.971]\n",
        "\n",
        "results = pd.DataFrame({'Algorithm':['BLM','LogicRegressor','Class'],'f1-score': f1})\n",
        "results"
      ]
    },
    {
      "cell_type": "code",
      "execution_count": null,
      "id": "mjdCdPd4bC9E",
      "metadata": {
        "colab": {
          "base_uri": "https://localhost:8080/",
          "height": 363
        },
        "id": "mjdCdPd4bC9E",
        "outputId": "e4cf4fec-896b-4b53-a3e1-815b530459f8"
      },
      "outputs": [
        {
          "data": {
            "text/plain": [
              "<matplotlib.axes._subplots.AxesSubplot at 0x7fd03c18f690>"
            ]
          },
          "execution_count": 158,
          "metadata": {},
          "output_type": "execute_result"
        },
        {
          "data": {
            "image/png": "[encoded data removed]",
            "text/plain": [
              "<Figure size 432x288 with 1 Axes>"
            ]
          },
          "metadata": {
            "needs_background": "light"
          },
          "output_type": "display_data"
        }
      ],
      "source": [
        "# Visualizing:\n",
        "pd.DataFrame(results).sort_values(by='f1-score', ascending=False).plot.bar(x='Algorithm')"
      ]
    },
    {
      "cell_type": "markdown",
      "id": "e81ac1ea-75ab-4fee-8148-20a4ea663791",
      "metadata": {
        "id": "e81ac1ea-75ab-4fee-8148-20a4ea663791"
      },
      "source": [
        "2.19. What do you think we could do to improve our model?"
      ]
    },
    {
      "cell_type": "markdown",
      "id": "3M9SNDood2Bv",
      "metadata": {
        "id": "3M9SNDood2Bv"
      },
      "source": [
        "We could use decision tree to see wich features are important relevant and just train the model with dose. "
      ]
    },
    {
      "cell_type": "markdown",
      "id": "0557c3f5-0e87-4a33-a1dc-fc20dd7d8fd7",
      "metadata": {
        "id": "0557c3f5-0e87-4a33-a1dc-fc20dd7d8fd7"
      },
      "source": [
        "### Optional: Oversampling"
      ]
    },
    {
      "cell_type": "markdown",
      "id": "0089fbf9-0625-4446-bf45-d00da9063b14",
      "metadata": {
        "id": "0089fbf9-0625-4446-bf45-d00da9063b14"
      },
      "source": [
        "2.19. Read about oversampling techniques, for example [SMOTE](https://imbalanced-learn.org/stable/references/generated/imblearn.over_sampling.SMOTE.html). Use this strategy to create synthetic data and retrain our model. Compare the results. "
      ]
    },
    {
      "cell_type": "code",
      "execution_count": null,
      "id": "51a4b48d-cf26-4f14-a478-3b0afa8501dc",
      "metadata": {
        "id": "51a4b48d-cf26-4f14-a478-3b0afa8501dc"
      },
      "outputs": [],
      "source": []
    },
    {
      "cell_type": "markdown",
      "id": "8b1ee0ca-0d33-490c-9725-638fbd001f02",
      "metadata": {
        "id": "8b1ee0ca-0d33-490c-9725-638fbd001f02"
      },
      "source": [
        "## Optional: Developing a Linear Regressor class from scratch"
      ]
    },
    {
      "cell_type": "markdown",
      "id": "aa6d261c-5372-447d-afdf-820aaf3fef26",
      "metadata": {
        "id": "aa6d261c-5372-447d-afdf-820aaf3fef26"
      },
      "source": [
        "Our last task will be to code a Linear Regression algorithm using Gradient Descent as its optimization algorithm in Python. The structure of the class is presented below, you should use numpy for numerical computation."
      ]
    },
    {
      "cell_type": "markdown",
      "id": "8aebe22f-3a17-4404-a12f-918da6a26237",
      "metadata": {
        "id": "8aebe22f-3a17-4404-a12f-918da6a26237"
      },
      "source": [
        "3.1. Write a LinearRegression class that implements fit and predict methods, and uses gradient descent as optimization algorithm"
      ]
    },
    {
      "cell_type": "code",
      "execution_count": null,
      "id": "b4326a55-6896-466d-9d60-3b2667e20de6",
      "metadata": {
        "id": "b4326a55-6896-466d-9d60-3b2667e20de6"
      },
      "outputs": [],
      "source": [
        "class LinearRegressor:\n",
        "    def __init__(self, epochs: int, learning_rate: float):\n",
        "        \"\"\"\n",
        "        Class constructor\n",
        "        \n",
        "        Parameters\n",
        "        ----------\n",
        "        epochs: int\n",
        "            number of epochs to run gradient descent\n",
        "        learning_rate: float\n",
        "            rate of update of the gradients\n",
        "        \"\"\"\n",
        "\n",
        "\n",
        "    def _gradient_descent():\n",
        "        \"\"\"\n",
        "        Gradient descent algorithm\n",
        "        \"\"\"\n",
        "\n",
        "\n",
        "    def fit(self, X, y):\n",
        "        \"\"\"\n",
        "        Fit the model according to the given training data.\n",
        "        \n",
        "        Parameters\n",
        "        ----------\n",
        "        X: np.ndarray\n",
        "        y: np.ndarray\n",
        "        \"\"\"\n",
        "             \n",
        "    def predict(self, X):\n",
        "        \"\"\"\n",
        "        Predict\n",
        "        \n",
        "        Parameters\n",
        "        ----------\n",
        "        X: np.ndarray\n",
        "        \n",
        "        Returns\n",
        "        -------\n",
        "        np.ndarray\n",
        "            array with predictions\n",
        "        \"\"\"\n"
      ]
    },
    {
      "cell_type": "code",
      "execution_count": null,
      "id": "8f7ce501-ef88-4345-8b27-e04914658bf4",
      "metadata": {
        "id": "8f7ce501-ef88-4345-8b27-e04914658bf4"
      },
      "outputs": [],
      "source": []
    },
    {
      "cell_type": "markdown",
      "id": "ac25e809-7bdf-4dfa-896a-bc4cb8964f94",
      "metadata": {
        "id": "ac25e809-7bdf-4dfa-896a-bc4cb8964f94"
      },
      "source": [
        "3.2. Train a regression model with the data from the first section to calculate players salaries using points per game. Try with a few different values (3 or 4 for each should suffice) for epochs and learning rate parameters, calculate MAE for all results and save the best result along with the parameters values used."
      ]
    },
    {
      "cell_type": "code",
      "execution_count": null,
      "id": "de1c2fe9-e67a-4399-95a1-81cbed3ada45",
      "metadata": {
        "id": "de1c2fe9-e67a-4399-95a1-81cbed3ada45"
      },
      "outputs": [],
      "source": []
    },
    {
      "cell_type": "markdown",
      "id": "ea78cfff-1216-486f-bd1e-7e42127c029d",
      "metadata": {
        "id": "ea78cfff-1216-486f-bd1e-7e42127c029d"
      },
      "source": [
        "3.3. Evaluate the model performance on the test set, and compare with the result you obtained using SGDRegressor from scikit-learn."
      ]
    }
  ],
  "metadata": {
    "colab": {
      "collapsed_sections": [],
      "name": "Ine Picone - sprint 2.ipynb",
      "provenance": []
    },
    "kernelspec": {
      "display_name": "Python 3.10.6 64-bit (windows store)",
      "language": "python",
      "name": "python3"
    },
    "language_info": {
      "codemirror_mode": {
        "name": "ipython",
        "version": 3
      },
      "file_extension": ".py",
      "mimetype": "text/x-python",
      "name": "python",
      "nbconvert_exporter": "python",
      "pygments_lexer": "ipython3",
      "version": "3.10.6"
    },
    "vscode": {
      "interpreter": {
        "hash": "3b7e9cb8e453d6cda0fe8c8dd13f891a1f09162f0e7c66ffeae7751a7aecf00d"
      }
    }
  },
  "nbformat": 4,
  "nbformat_minor": 5
}
